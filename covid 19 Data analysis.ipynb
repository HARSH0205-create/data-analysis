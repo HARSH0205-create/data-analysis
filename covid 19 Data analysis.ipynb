{
 "cells": [
  {
   "cell_type": "code",
   "execution_count": 73,
   "id": "b65fd5c0",
   "metadata": {},
   "outputs": [],
   "source": [
    "import pandas as pd\n",
    "import matplotlib.pyplot as plt\n",
    "from matplotlib import style\n",
    "style.use('ggplot')\n",
    "%matplotlib inline\n",
    "\n",
    "import plotly\n",
    "import plotly.express as px\n",
    "import plotly.graph_objects as go\n",
    "#plt.rcParams['figure.figsize']=20,12\n",
    "import cufflinks as cf\n",
    "import plotly.offline as pyo\n",
    "from plotly.offline import init_notebook_mode,plot,iplot\n",
    "\n",
    "import folium \n",
    "# folium is used for map"
   ]
  },
  {
   "cell_type": "code",
   "execution_count": 74,
   "id": "f14dc1ed",
   "metadata": {},
   "outputs": [
    {
     "data": {
      "text/html": [
       "        <script type=\"text/javascript\">\n",
       "        window.PlotlyConfig = {MathJaxConfig: 'local'};\n",
       "        if (window.MathJax) {MathJax.Hub.Config({SVG: {font: \"STIX-Web\"}});}\n",
       "        if (typeof require !== 'undefined') {\n",
       "        require.undef(\"plotly\");\n",
       "        requirejs.config({\n",
       "            paths: {\n",
       "                'plotly': ['https://cdn.plot.ly/plotly-latest.min']\n",
       "            }\n",
       "        });\n",
       "        require(['plotly'], function(Plotly) {\n",
       "            window._Plotly = Plotly;\n",
       "        });\n",
       "        }\n",
       "        </script>\n",
       "        "
      ]
     },
     "metadata": {},
     "output_type": "display_data"
    },
    {
     "data": {
      "text/html": [
       "        <script type=\"text/javascript\">\n",
       "        window.PlotlyConfig = {MathJaxConfig: 'local'};\n",
       "        if (window.MathJax) {MathJax.Hub.Config({SVG: {font: \"STIX-Web\"}});}\n",
       "        if (typeof require !== 'undefined') {\n",
       "        require.undef(\"plotly\");\n",
       "        requirejs.config({\n",
       "            paths: {\n",
       "                'plotly': ['https://cdn.plot.ly/plotly-latest.min']\n",
       "            }\n",
       "        });\n",
       "        require(['plotly'], function(Plotly) {\n",
       "            window._Plotly = Plotly;\n",
       "        });\n",
       "        }\n",
       "        </script>\n",
       "        "
      ]
     },
     "metadata": {},
     "output_type": "display_data"
    }
   ],
   "source": [
    "pyo.init_notebook_mode(connected=True)\n",
    "cf.go_offline()"
   ]
  },
  {
   "cell_type": "code",
   "execution_count": 75,
   "id": "010cf7e2",
   "metadata": {},
   "outputs": [],
   "source": [
    "data=pd.read_csv('covid_india.csv')"
   ]
  },
  {
   "cell_type": "code",
   "execution_count": 76,
   "id": "d162b900",
   "metadata": {},
   "outputs": [
    {
     "data": {
      "text/html": [
       "<div>\n",
       "<style scoped>\n",
       "    .dataframe tbody tr th:only-of-type {\n",
       "        vertical-align: middle;\n",
       "    }\n",
       "\n",
       "    .dataframe tbody tr th {\n",
       "        vertical-align: top;\n",
       "    }\n",
       "\n",
       "    .dataframe thead th {\n",
       "        text-align: right;\n",
       "    }\n",
       "</style>\n",
       "<table border=\"1\" class=\"dataframe\">\n",
       "  <thead>\n",
       "    <tr style=\"text-align: right;\">\n",
       "      <th></th>\n",
       "      <th>S. No.</th>\n",
       "      <th>Name of State / UT</th>\n",
       "      <th>Active Cases</th>\n",
       "      <th>Cured/Discharged/Migrated</th>\n",
       "      <th>Deaths</th>\n",
       "      <th>Total Confirmed cases</th>\n",
       "    </tr>\n",
       "  </thead>\n",
       "  <tbody>\n",
       "    <tr>\n",
       "      <th>0</th>\n",
       "      <td>1</td>\n",
       "      <td>Andaman and Nicobar</td>\n",
       "      <td>100</td>\n",
       "      <td>7079</td>\n",
       "      <td>127</td>\n",
       "      <td>7306</td>\n",
       "    </tr>\n",
       "    <tr>\n",
       "      <th>1</th>\n",
       "      <td>2</td>\n",
       "      <td>Andhra Pradesh</td>\n",
       "      <td>71466</td>\n",
       "      <td>1743176</td>\n",
       "      <td>12109</td>\n",
       "      <td>1826751</td>\n",
       "    </tr>\n",
       "    <tr>\n",
       "      <th>2</th>\n",
       "      <td>3</td>\n",
       "      <td>Arunachal Pradesh</td>\n",
       "      <td>2810</td>\n",
       "      <td>29223</td>\n",
       "      <td>155</td>\n",
       "      <td>32188</td>\n",
       "    </tr>\n",
       "    <tr>\n",
       "      <th>3</th>\n",
       "      <td>4</td>\n",
       "      <td>Assam</td>\n",
       "      <td>39653</td>\n",
       "      <td>426259</td>\n",
       "      <td>4064</td>\n",
       "      <td>469976</td>\n",
       "    </tr>\n",
       "    <tr>\n",
       "      <th>4</th>\n",
       "      <td>5</td>\n",
       "      <td>Bihar</td>\n",
       "      <td>3991</td>\n",
       "      <td>704805</td>\n",
       "      <td>9523</td>\n",
       "      <td>718319</td>\n",
       "    </tr>\n",
       "    <tr>\n",
       "      <th>5</th>\n",
       "      <td>6</td>\n",
       "      <td>Chandigarh</td>\n",
       "      <td>462</td>\n",
       "      <td>59980</td>\n",
       "      <td>799</td>\n",
       "      <td>61241</td>\n",
       "    </tr>\n",
       "    <tr>\n",
       "      <th>6</th>\n",
       "      <td>7</td>\n",
       "      <td>Chhattisgarh</td>\n",
       "      <td>11126</td>\n",
       "      <td>964265</td>\n",
       "      <td>13354</td>\n",
       "      <td>988745</td>\n",
       "    </tr>\n",
       "    <tr>\n",
       "      <th>7</th>\n",
       "      <td>8</td>\n",
       "      <td>Dadra and Nagar Haveli and Daman and Diu</td>\n",
       "      <td>65</td>\n",
       "      <td>10412</td>\n",
       "      <td>4</td>\n",
       "      <td>10481</td>\n",
       "    </tr>\n",
       "    <tr>\n",
       "      <th>8</th>\n",
       "      <td>9</td>\n",
       "      <td>Delhi</td>\n",
       "      <td>2749</td>\n",
       "      <td>1404085</td>\n",
       "      <td>24876</td>\n",
       "      <td>1431710</td>\n",
       "    </tr>\n",
       "    <tr>\n",
       "      <th>9</th>\n",
       "      <td>10</td>\n",
       "      <td>Goa</td>\n",
       "      <td>4044</td>\n",
       "      <td>156354</td>\n",
       "      <td>2960</td>\n",
       "      <td>163358</td>\n",
       "    </tr>\n",
       "    <tr>\n",
       "      <th>10</th>\n",
       "      <td>11</td>\n",
       "      <td>Gujarat</td>\n",
       "      <td>8242</td>\n",
       "      <td>803122</td>\n",
       "      <td>10012</td>\n",
       "      <td>821376</td>\n",
       "    </tr>\n",
       "    <tr>\n",
       "      <th>11</th>\n",
       "      <td>12</td>\n",
       "      <td>Haryana</td>\n",
       "      <td>3579</td>\n",
       "      <td>753918</td>\n",
       "      <td>9109</td>\n",
       "      <td>766606</td>\n",
       "    </tr>\n",
       "    <tr>\n",
       "      <th>12</th>\n",
       "      <td>13</td>\n",
       "      <td>Himachal Pradesh</td>\n",
       "      <td>3733</td>\n",
       "      <td>192260</td>\n",
       "      <td>3414</td>\n",
       "      <td>199407</td>\n",
       "    </tr>\n",
       "    <tr>\n",
       "      <th>13</th>\n",
       "      <td>14</td>\n",
       "      <td>Jammu and Kashmir</td>\n",
       "      <td>11381</td>\n",
       "      <td>293763</td>\n",
       "      <td>4217</td>\n",
       "      <td>309361</td>\n",
       "    </tr>\n",
       "    <tr>\n",
       "      <th>14</th>\n",
       "      <td>15</td>\n",
       "      <td>Jharkhand</td>\n",
       "      <td>2246</td>\n",
       "      <td>336645</td>\n",
       "      <td>5092</td>\n",
       "      <td>343983</td>\n",
       "    </tr>\n",
       "    <tr>\n",
       "      <th>15</th>\n",
       "      <td>16</td>\n",
       "      <td>Karnataka</td>\n",
       "      <td>151587</td>\n",
       "      <td>2599472</td>\n",
       "      <td>33296</td>\n",
       "      <td>2784355</td>\n",
       "    </tr>\n",
       "    <tr>\n",
       "      <th>16</th>\n",
       "      <td>17</td>\n",
       "      <td>Kerala</td>\n",
       "      <td>110226</td>\n",
       "      <td>2639593</td>\n",
       "      <td>11655</td>\n",
       "      <td>2761474</td>\n",
       "    </tr>\n",
       "    <tr>\n",
       "      <th>17</th>\n",
       "      <td>18</td>\n",
       "      <td>Ladakh</td>\n",
       "      <td>538</td>\n",
       "      <td>18945</td>\n",
       "      <td>199</td>\n",
       "      <td>19682</td>\n",
       "    </tr>\n",
       "    <tr>\n",
       "      <th>18</th>\n",
       "      <td>19</td>\n",
       "      <td>Lakshadweep</td>\n",
       "      <td>447</td>\n",
       "      <td>8847</td>\n",
       "      <td>45</td>\n",
       "      <td>9339</td>\n",
       "    </tr>\n",
       "    <tr>\n",
       "      <th>19</th>\n",
       "      <td>20</td>\n",
       "      <td>Maharashtra</td>\n",
       "      <td>139744</td>\n",
       "      <td>5679746</td>\n",
       "      <td>115390</td>\n",
       "      <td>5934880</td>\n",
       "    </tr>\n",
       "    <tr>\n",
       "      <th>20</th>\n",
       "      <td>21</td>\n",
       "      <td>Manipur</td>\n",
       "      <td>9078</td>\n",
       "      <td>51762</td>\n",
       "      <td>1008</td>\n",
       "      <td>61848</td>\n",
       "    </tr>\n",
       "    <tr>\n",
       "      <th>21</th>\n",
       "      <td>22</td>\n",
       "      <td>Meghalaya</td>\n",
       "      <td>4464</td>\n",
       "      <td>38032</td>\n",
       "      <td>758</td>\n",
       "      <td>43254</td>\n",
       "    </tr>\n",
       "    <tr>\n",
       "      <th>22</th>\n",
       "      <td>23</td>\n",
       "      <td>Mizoram</td>\n",
       "      <td>3647</td>\n",
       "      <td>12414</td>\n",
       "      <td>74</td>\n",
       "      <td>16135</td>\n",
       "    </tr>\n",
       "    <tr>\n",
       "      <th>23</th>\n",
       "      <td>24</td>\n",
       "      <td>Madhya Pradesh</td>\n",
       "      <td>3273</td>\n",
       "      <td>776887</td>\n",
       "      <td>8649</td>\n",
       "      <td>788809</td>\n",
       "    </tr>\n",
       "    <tr>\n",
       "      <th>24</th>\n",
       "      <td>25</td>\n",
       "      <td>Nagaland</td>\n",
       "      <td>2699</td>\n",
       "      <td>20805</td>\n",
       "      <td>461</td>\n",
       "      <td>23965</td>\n",
       "    </tr>\n",
       "    <tr>\n",
       "      <th>25</th>\n",
       "      <td>26</td>\n",
       "      <td>Odisha</td>\n",
       "      <td>42270</td>\n",
       "      <td>817359</td>\n",
       "      <td>3432</td>\n",
       "      <td>863061</td>\n",
       "    </tr>\n",
       "    <tr>\n",
       "      <th>26</th>\n",
       "      <td>27</td>\n",
       "      <td>Puducherry</td>\n",
       "      <td>4495</td>\n",
       "      <td>107425</td>\n",
       "      <td>1702</td>\n",
       "      <td>113622</td>\n",
       "    </tr>\n",
       "    <tr>\n",
       "      <th>27</th>\n",
       "      <td>28</td>\n",
       "      <td>Punjab</td>\n",
       "      <td>10046</td>\n",
       "      <td>564084</td>\n",
       "      <td>15698</td>\n",
       "      <td>589828</td>\n",
       "    </tr>\n",
       "    <tr>\n",
       "      <th>28</th>\n",
       "      <td>29</td>\n",
       "      <td>Rajasthan</td>\n",
       "      <td>4962</td>\n",
       "      <td>936586</td>\n",
       "      <td>8865</td>\n",
       "      <td>950413</td>\n",
       "    </tr>\n",
       "    <tr>\n",
       "      <th>29</th>\n",
       "      <td>30</td>\n",
       "      <td>Sikkim</td>\n",
       "      <td>2965</td>\n",
       "      <td>15556</td>\n",
       "      <td>285</td>\n",
       "      <td>18806</td>\n",
       "    </tr>\n",
       "    <tr>\n",
       "      <th>30</th>\n",
       "      <td>31</td>\n",
       "      <td>Tamil Nadu</td>\n",
       "      <td>114335</td>\n",
       "      <td>2244073</td>\n",
       "      <td>30338</td>\n",
       "      <td>2388746</td>\n",
       "    </tr>\n",
       "    <tr>\n",
       "      <th>31</th>\n",
       "      <td>32</td>\n",
       "      <td>Telengana</td>\n",
       "      <td>19975</td>\n",
       "      <td>584429</td>\n",
       "      <td>3521</td>\n",
       "      <td>607925</td>\n",
       "    </tr>\n",
       "    <tr>\n",
       "      <th>32</th>\n",
       "      <td>33</td>\n",
       "      <td>Tripura</td>\n",
       "      <td>5122</td>\n",
       "      <td>55116</td>\n",
       "      <td>634</td>\n",
       "      <td>60872</td>\n",
       "    </tr>\n",
       "    <tr>\n",
       "      <th>33</th>\n",
       "      <td>34</td>\n",
       "      <td>Uttar Pradesh</td>\n",
       "      <td>6496</td>\n",
       "      <td>1674999</td>\n",
       "      <td>21963</td>\n",
       "      <td>1703458</td>\n",
       "    </tr>\n",
       "    <tr>\n",
       "      <th>34</th>\n",
       "      <td>35</td>\n",
       "      <td>Uttarakhand</td>\n",
       "      <td>3572</td>\n",
       "      <td>327233</td>\n",
       "      <td>6997</td>\n",
       "      <td>337802</td>\n",
       "    </tr>\n",
       "    <tr>\n",
       "      <th>35</th>\n",
       "      <td>36</td>\n",
       "      <td>West Bengal</td>\n",
       "      <td>21152</td>\n",
       "      <td>1432961</td>\n",
       "      <td>17118</td>\n",
       "      <td>1471231</td>\n",
       "    </tr>\n",
       "  </tbody>\n",
       "</table>\n",
       "</div>"
      ],
      "text/plain": [
       "    S. No.                        Name of State / UT  Active Cases  \\\n",
       "0        1                       Andaman and Nicobar           100   \n",
       "1        2                            Andhra Pradesh         71466   \n",
       "2        3                         Arunachal Pradesh          2810   \n",
       "3        4                                     Assam         39653   \n",
       "4        5                                     Bihar          3991   \n",
       "5        6                                Chandigarh           462   \n",
       "6        7                              Chhattisgarh         11126   \n",
       "7        8  Dadra and Nagar Haveli and Daman and Diu            65   \n",
       "8        9                                     Delhi          2749   \n",
       "9       10                                       Goa          4044   \n",
       "10      11                                   Gujarat          8242   \n",
       "11      12                                   Haryana          3579   \n",
       "12      13                          Himachal Pradesh          3733   \n",
       "13      14                         Jammu and Kashmir         11381   \n",
       "14      15                                 Jharkhand          2246   \n",
       "15      16                                 Karnataka        151587   \n",
       "16      17                                    Kerala        110226   \n",
       "17      18                                    Ladakh           538   \n",
       "18      19                               Lakshadweep           447   \n",
       "19      20                               Maharashtra        139744   \n",
       "20      21                                   Manipur          9078   \n",
       "21      22                                 Meghalaya          4464   \n",
       "22      23                                   Mizoram          3647   \n",
       "23      24                            Madhya Pradesh          3273   \n",
       "24      25                                  Nagaland          2699   \n",
       "25      26                                    Odisha         42270   \n",
       "26      27                                Puducherry          4495   \n",
       "27      28                                    Punjab         10046   \n",
       "28      29                                 Rajasthan          4962   \n",
       "29      30                                    Sikkim          2965   \n",
       "30      31                                Tamil Nadu        114335   \n",
       "31      32                                 Telengana         19975   \n",
       "32      33                                   Tripura          5122   \n",
       "33      34                             Uttar Pradesh          6496   \n",
       "34      35                               Uttarakhand          3572   \n",
       "35      36                               West Bengal         21152   \n",
       "\n",
       "    Cured/Discharged/Migrated  Deaths  Total Confirmed cases  \n",
       "0                        7079     127                   7306  \n",
       "1                     1743176   12109                1826751  \n",
       "2                       29223     155                  32188  \n",
       "3                      426259    4064                 469976  \n",
       "4                      704805    9523                 718319  \n",
       "5                       59980     799                  61241  \n",
       "6                      964265   13354                 988745  \n",
       "7                       10412       4                  10481  \n",
       "8                     1404085   24876                1431710  \n",
       "9                      156354    2960                 163358  \n",
       "10                     803122   10012                 821376  \n",
       "11                     753918    9109                 766606  \n",
       "12                     192260    3414                 199407  \n",
       "13                     293763    4217                 309361  \n",
       "14                     336645    5092                 343983  \n",
       "15                    2599472   33296                2784355  \n",
       "16                    2639593   11655                2761474  \n",
       "17                      18945     199                  19682  \n",
       "18                       8847      45                   9339  \n",
       "19                    5679746  115390                5934880  \n",
       "20                      51762    1008                  61848  \n",
       "21                      38032     758                  43254  \n",
       "22                      12414      74                  16135  \n",
       "23                     776887    8649                 788809  \n",
       "24                      20805     461                  23965  \n",
       "25                     817359    3432                 863061  \n",
       "26                     107425    1702                 113622  \n",
       "27                     564084   15698                 589828  \n",
       "28                     936586    8865                 950413  \n",
       "29                      15556     285                  18806  \n",
       "30                    2244073   30338                2388746  \n",
       "31                     584429    3521                 607925  \n",
       "32                      55116     634                  60872  \n",
       "33                    1674999   21963                1703458  \n",
       "34                     327233    6997                 337802  \n",
       "35                    1432961   17118                1471231  "
      ]
     },
     "execution_count": 76,
     "metadata": {},
     "output_type": "execute_result"
    }
   ],
   "source": [
    "data"
   ]
  },
  {
   "cell_type": "code",
   "execution_count": 77,
   "id": "b06c3df2",
   "metadata": {},
   "outputs": [
    {
     "data": {
      "text/html": [
       "<div>\n",
       "<style scoped>\n",
       "    .dataframe tbody tr th:only-of-type {\n",
       "        vertical-align: middle;\n",
       "    }\n",
       "\n",
       "    .dataframe tbody tr th {\n",
       "        vertical-align: top;\n",
       "    }\n",
       "\n",
       "    .dataframe thead th {\n",
       "        text-align: right;\n",
       "    }\n",
       "</style>\n",
       "<table border=\"1\" class=\"dataframe\">\n",
       "  <thead>\n",
       "    <tr style=\"text-align: right;\">\n",
       "      <th></th>\n",
       "      <th>S. No.</th>\n",
       "      <th>Name of State / UT</th>\n",
       "      <th>Active Cases</th>\n",
       "      <th>Cured/Discharged/Migrated</th>\n",
       "      <th>Deaths</th>\n",
       "      <th>Total Confirmed cases</th>\n",
       "    </tr>\n",
       "  </thead>\n",
       "  <tbody>\n",
       "    <tr>\n",
       "      <th>0</th>\n",
       "      <td>1</td>\n",
       "      <td>Andaman and Nicobar</td>\n",
       "      <td>100</td>\n",
       "      <td>7079</td>\n",
       "      <td>127</td>\n",
       "      <td>7306</td>\n",
       "    </tr>\n",
       "    <tr>\n",
       "      <th>1</th>\n",
       "      <td>2</td>\n",
       "      <td>Andhra Pradesh</td>\n",
       "      <td>71466</td>\n",
       "      <td>1743176</td>\n",
       "      <td>12109</td>\n",
       "      <td>1826751</td>\n",
       "    </tr>\n",
       "    <tr>\n",
       "      <th>2</th>\n",
       "      <td>3</td>\n",
       "      <td>Arunachal Pradesh</td>\n",
       "      <td>2810</td>\n",
       "      <td>29223</td>\n",
       "      <td>155</td>\n",
       "      <td>32188</td>\n",
       "    </tr>\n",
       "    <tr>\n",
       "      <th>3</th>\n",
       "      <td>4</td>\n",
       "      <td>Assam</td>\n",
       "      <td>39653</td>\n",
       "      <td>426259</td>\n",
       "      <td>4064</td>\n",
       "      <td>469976</td>\n",
       "    </tr>\n",
       "    <tr>\n",
       "      <th>4</th>\n",
       "      <td>5</td>\n",
       "      <td>Bihar</td>\n",
       "      <td>3991</td>\n",
       "      <td>704805</td>\n",
       "      <td>9523</td>\n",
       "      <td>718319</td>\n",
       "    </tr>\n",
       "    <tr>\n",
       "      <th>5</th>\n",
       "      <td>6</td>\n",
       "      <td>Chandigarh</td>\n",
       "      <td>462</td>\n",
       "      <td>59980</td>\n",
       "      <td>799</td>\n",
       "      <td>61241</td>\n",
       "    </tr>\n",
       "    <tr>\n",
       "      <th>6</th>\n",
       "      <td>7</td>\n",
       "      <td>Chhattisgarh</td>\n",
       "      <td>11126</td>\n",
       "      <td>964265</td>\n",
       "      <td>13354</td>\n",
       "      <td>988745</td>\n",
       "    </tr>\n",
       "    <tr>\n",
       "      <th>7</th>\n",
       "      <td>8</td>\n",
       "      <td>Dadra and Nagar Haveli and Daman and Diu</td>\n",
       "      <td>65</td>\n",
       "      <td>10412</td>\n",
       "      <td>4</td>\n",
       "      <td>10481</td>\n",
       "    </tr>\n",
       "    <tr>\n",
       "      <th>8</th>\n",
       "      <td>9</td>\n",
       "      <td>Delhi</td>\n",
       "      <td>2749</td>\n",
       "      <td>1404085</td>\n",
       "      <td>24876</td>\n",
       "      <td>1431710</td>\n",
       "    </tr>\n",
       "    <tr>\n",
       "      <th>9</th>\n",
       "      <td>10</td>\n",
       "      <td>Goa</td>\n",
       "      <td>4044</td>\n",
       "      <td>156354</td>\n",
       "      <td>2960</td>\n",
       "      <td>163358</td>\n",
       "    </tr>\n",
       "    <tr>\n",
       "      <th>10</th>\n",
       "      <td>11</td>\n",
       "      <td>Gujarat</td>\n",
       "      <td>8242</td>\n",
       "      <td>803122</td>\n",
       "      <td>10012</td>\n",
       "      <td>821376</td>\n",
       "    </tr>\n",
       "    <tr>\n",
       "      <th>11</th>\n",
       "      <td>12</td>\n",
       "      <td>Haryana</td>\n",
       "      <td>3579</td>\n",
       "      <td>753918</td>\n",
       "      <td>9109</td>\n",
       "      <td>766606</td>\n",
       "    </tr>\n",
       "    <tr>\n",
       "      <th>12</th>\n",
       "      <td>13</td>\n",
       "      <td>Himachal Pradesh</td>\n",
       "      <td>3733</td>\n",
       "      <td>192260</td>\n",
       "      <td>3414</td>\n",
       "      <td>199407</td>\n",
       "    </tr>\n",
       "    <tr>\n",
       "      <th>13</th>\n",
       "      <td>14</td>\n",
       "      <td>Jammu and Kashmir</td>\n",
       "      <td>11381</td>\n",
       "      <td>293763</td>\n",
       "      <td>4217</td>\n",
       "      <td>309361</td>\n",
       "    </tr>\n",
       "    <tr>\n",
       "      <th>14</th>\n",
       "      <td>15</td>\n",
       "      <td>Jharkhand</td>\n",
       "      <td>2246</td>\n",
       "      <td>336645</td>\n",
       "      <td>5092</td>\n",
       "      <td>343983</td>\n",
       "    </tr>\n",
       "    <tr>\n",
       "      <th>15</th>\n",
       "      <td>16</td>\n",
       "      <td>Karnataka</td>\n",
       "      <td>151587</td>\n",
       "      <td>2599472</td>\n",
       "      <td>33296</td>\n",
       "      <td>2784355</td>\n",
       "    </tr>\n",
       "    <tr>\n",
       "      <th>16</th>\n",
       "      <td>17</td>\n",
       "      <td>Kerala</td>\n",
       "      <td>110226</td>\n",
       "      <td>2639593</td>\n",
       "      <td>11655</td>\n",
       "      <td>2761474</td>\n",
       "    </tr>\n",
       "    <tr>\n",
       "      <th>17</th>\n",
       "      <td>18</td>\n",
       "      <td>Ladakh</td>\n",
       "      <td>538</td>\n",
       "      <td>18945</td>\n",
       "      <td>199</td>\n",
       "      <td>19682</td>\n",
       "    </tr>\n",
       "    <tr>\n",
       "      <th>18</th>\n",
       "      <td>19</td>\n",
       "      <td>Lakshadweep</td>\n",
       "      <td>447</td>\n",
       "      <td>8847</td>\n",
       "      <td>45</td>\n",
       "      <td>9339</td>\n",
       "    </tr>\n",
       "    <tr>\n",
       "      <th>19</th>\n",
       "      <td>20</td>\n",
       "      <td>Maharashtra</td>\n",
       "      <td>139744</td>\n",
       "      <td>5679746</td>\n",
       "      <td>115390</td>\n",
       "      <td>5934880</td>\n",
       "    </tr>\n",
       "    <tr>\n",
       "      <th>20</th>\n",
       "      <td>21</td>\n",
       "      <td>Manipur</td>\n",
       "      <td>9078</td>\n",
       "      <td>51762</td>\n",
       "      <td>1008</td>\n",
       "      <td>61848</td>\n",
       "    </tr>\n",
       "    <tr>\n",
       "      <th>21</th>\n",
       "      <td>22</td>\n",
       "      <td>Meghalaya</td>\n",
       "      <td>4464</td>\n",
       "      <td>38032</td>\n",
       "      <td>758</td>\n",
       "      <td>43254</td>\n",
       "    </tr>\n",
       "    <tr>\n",
       "      <th>22</th>\n",
       "      <td>23</td>\n",
       "      <td>Mizoram</td>\n",
       "      <td>3647</td>\n",
       "      <td>12414</td>\n",
       "      <td>74</td>\n",
       "      <td>16135</td>\n",
       "    </tr>\n",
       "    <tr>\n",
       "      <th>23</th>\n",
       "      <td>24</td>\n",
       "      <td>Madhya Pradesh</td>\n",
       "      <td>3273</td>\n",
       "      <td>776887</td>\n",
       "      <td>8649</td>\n",
       "      <td>788809</td>\n",
       "    </tr>\n",
       "    <tr>\n",
       "      <th>24</th>\n",
       "      <td>25</td>\n",
       "      <td>Nagaland</td>\n",
       "      <td>2699</td>\n",
       "      <td>20805</td>\n",
       "      <td>461</td>\n",
       "      <td>23965</td>\n",
       "    </tr>\n",
       "    <tr>\n",
       "      <th>25</th>\n",
       "      <td>26</td>\n",
       "      <td>Odisha</td>\n",
       "      <td>42270</td>\n",
       "      <td>817359</td>\n",
       "      <td>3432</td>\n",
       "      <td>863061</td>\n",
       "    </tr>\n",
       "    <tr>\n",
       "      <th>26</th>\n",
       "      <td>27</td>\n",
       "      <td>Puducherry</td>\n",
       "      <td>4495</td>\n",
       "      <td>107425</td>\n",
       "      <td>1702</td>\n",
       "      <td>113622</td>\n",
       "    </tr>\n",
       "    <tr>\n",
       "      <th>27</th>\n",
       "      <td>28</td>\n",
       "      <td>Punjab</td>\n",
       "      <td>10046</td>\n",
       "      <td>564084</td>\n",
       "      <td>15698</td>\n",
       "      <td>589828</td>\n",
       "    </tr>\n",
       "    <tr>\n",
       "      <th>28</th>\n",
       "      <td>29</td>\n",
       "      <td>Rajasthan</td>\n",
       "      <td>4962</td>\n",
       "      <td>936586</td>\n",
       "      <td>8865</td>\n",
       "      <td>950413</td>\n",
       "    </tr>\n",
       "    <tr>\n",
       "      <th>29</th>\n",
       "      <td>30</td>\n",
       "      <td>Sikkim</td>\n",
       "      <td>2965</td>\n",
       "      <td>15556</td>\n",
       "      <td>285</td>\n",
       "      <td>18806</td>\n",
       "    </tr>\n",
       "    <tr>\n",
       "      <th>30</th>\n",
       "      <td>31</td>\n",
       "      <td>Tamil Nadu</td>\n",
       "      <td>114335</td>\n",
       "      <td>2244073</td>\n",
       "      <td>30338</td>\n",
       "      <td>2388746</td>\n",
       "    </tr>\n",
       "    <tr>\n",
       "      <th>31</th>\n",
       "      <td>32</td>\n",
       "      <td>Telengana</td>\n",
       "      <td>19975</td>\n",
       "      <td>584429</td>\n",
       "      <td>3521</td>\n",
       "      <td>607925</td>\n",
       "    </tr>\n",
       "    <tr>\n",
       "      <th>32</th>\n",
       "      <td>33</td>\n",
       "      <td>Tripura</td>\n",
       "      <td>5122</td>\n",
       "      <td>55116</td>\n",
       "      <td>634</td>\n",
       "      <td>60872</td>\n",
       "    </tr>\n",
       "    <tr>\n",
       "      <th>33</th>\n",
       "      <td>34</td>\n",
       "      <td>Uttar Pradesh</td>\n",
       "      <td>6496</td>\n",
       "      <td>1674999</td>\n",
       "      <td>21963</td>\n",
       "      <td>1703458</td>\n",
       "    </tr>\n",
       "    <tr>\n",
       "      <th>34</th>\n",
       "      <td>35</td>\n",
       "      <td>Uttarakhand</td>\n",
       "      <td>3572</td>\n",
       "      <td>327233</td>\n",
       "      <td>6997</td>\n",
       "      <td>337802</td>\n",
       "    </tr>\n",
       "    <tr>\n",
       "      <th>35</th>\n",
       "      <td>36</td>\n",
       "      <td>West Bengal</td>\n",
       "      <td>21152</td>\n",
       "      <td>1432961</td>\n",
       "      <td>17118</td>\n",
       "      <td>1471231</td>\n",
       "    </tr>\n",
       "  </tbody>\n",
       "</table>\n",
       "</div>"
      ],
      "text/plain": [
       "    S. No.                        Name of State / UT  Active Cases  \\\n",
       "0        1                       Andaman and Nicobar           100   \n",
       "1        2                            Andhra Pradesh         71466   \n",
       "2        3                         Arunachal Pradesh          2810   \n",
       "3        4                                     Assam         39653   \n",
       "4        5                                     Bihar          3991   \n",
       "5        6                                Chandigarh           462   \n",
       "6        7                              Chhattisgarh         11126   \n",
       "7        8  Dadra and Nagar Haveli and Daman and Diu            65   \n",
       "8        9                                     Delhi          2749   \n",
       "9       10                                       Goa          4044   \n",
       "10      11                                   Gujarat          8242   \n",
       "11      12                                   Haryana          3579   \n",
       "12      13                          Himachal Pradesh          3733   \n",
       "13      14                         Jammu and Kashmir         11381   \n",
       "14      15                                 Jharkhand          2246   \n",
       "15      16                                 Karnataka        151587   \n",
       "16      17                                    Kerala        110226   \n",
       "17      18                                    Ladakh           538   \n",
       "18      19                               Lakshadweep           447   \n",
       "19      20                               Maharashtra        139744   \n",
       "20      21                                   Manipur          9078   \n",
       "21      22                                 Meghalaya          4464   \n",
       "22      23                                   Mizoram          3647   \n",
       "23      24                            Madhya Pradesh          3273   \n",
       "24      25                                  Nagaland          2699   \n",
       "25      26                                    Odisha         42270   \n",
       "26      27                                Puducherry          4495   \n",
       "27      28                                    Punjab         10046   \n",
       "28      29                                 Rajasthan          4962   \n",
       "29      30                                    Sikkim          2965   \n",
       "30      31                                Tamil Nadu        114335   \n",
       "31      32                                 Telengana         19975   \n",
       "32      33                                   Tripura          5122   \n",
       "33      34                             Uttar Pradesh          6496   \n",
       "34      35                               Uttarakhand          3572   \n",
       "35      36                               West Bengal         21152   \n",
       "\n",
       "    Cured/Discharged/Migrated  Deaths  Total Confirmed cases  \n",
       "0                        7079     127                   7306  \n",
       "1                     1743176   12109                1826751  \n",
       "2                       29223     155                  32188  \n",
       "3                      426259    4064                 469976  \n",
       "4                      704805    9523                 718319  \n",
       "5                       59980     799                  61241  \n",
       "6                      964265   13354                 988745  \n",
       "7                       10412       4                  10481  \n",
       "8                     1404085   24876                1431710  \n",
       "9                      156354    2960                 163358  \n",
       "10                     803122   10012                 821376  \n",
       "11                     753918    9109                 766606  \n",
       "12                     192260    3414                 199407  \n",
       "13                     293763    4217                 309361  \n",
       "14                     336645    5092                 343983  \n",
       "15                    2599472   33296                2784355  \n",
       "16                    2639593   11655                2761474  \n",
       "17                      18945     199                  19682  \n",
       "18                       8847      45                   9339  \n",
       "19                    5679746  115390                5934880  \n",
       "20                      51762    1008                  61848  \n",
       "21                      38032     758                  43254  \n",
       "22                      12414      74                  16135  \n",
       "23                     776887    8649                 788809  \n",
       "24                      20805     461                  23965  \n",
       "25                     817359    3432                 863061  \n",
       "26                     107425    1702                 113622  \n",
       "27                     564084   15698                 589828  \n",
       "28                     936586    8865                 950413  \n",
       "29                      15556     285                  18806  \n",
       "30                    2244073   30338                2388746  \n",
       "31                     584429    3521                 607925  \n",
       "32                      55116     634                  60872  \n",
       "33                    1674999   21963                1703458  \n",
       "34                     327233    6997                 337802  \n",
       "35                    1432961   17118                1471231  "
      ]
     },
     "execution_count": 77,
     "metadata": {},
     "output_type": "execute_result"
    }
   ],
   "source": [
    "data"
   ]
  },
  {
   "cell_type": "code",
   "execution_count": 78,
   "id": "a3e07554",
   "metadata": {},
   "outputs": [
    {
     "name": "stdout",
     "output_type": "stream",
     "text": [
      "The total number of cases till now in India is  29700313\n"
     ]
    }
   ],
   "source": [
    "Total_Confirmed_cases=data['Total Confirmed cases'].sum()\n",
    "print('The total number of cases till now in India is ',Total_Confirmed_cases)"
   ]
  },
  {
   "cell_type": "code",
   "execution_count": 79,
   "id": "dbf2ad9e",
   "metadata": {},
   "outputs": [],
   "source": [
    "data['Active Cases']=data['Total Confirmed cases']-data['Deaths']"
   ]
  },
  {
   "cell_type": "code",
   "execution_count": 80,
   "id": "d4a843aa",
   "metadata": {},
   "outputs": [
    {
     "data": {
      "text/html": [
       "<div>\n",
       "<style scoped>\n",
       "    .dataframe tbody tr th:only-of-type {\n",
       "        vertical-align: middle;\n",
       "    }\n",
       "\n",
       "    .dataframe tbody tr th {\n",
       "        vertical-align: top;\n",
       "    }\n",
       "\n",
       "    .dataframe thead th {\n",
       "        text-align: right;\n",
       "    }\n",
       "</style>\n",
       "<table border=\"1\" class=\"dataframe\">\n",
       "  <thead>\n",
       "    <tr style=\"text-align: right;\">\n",
       "      <th></th>\n",
       "      <th>S. No.</th>\n",
       "      <th>Name of State / UT</th>\n",
       "      <th>Active Cases</th>\n",
       "      <th>Cured/Discharged/Migrated</th>\n",
       "      <th>Deaths</th>\n",
       "      <th>Total Confirmed cases</th>\n",
       "    </tr>\n",
       "  </thead>\n",
       "  <tbody>\n",
       "    <tr>\n",
       "      <th>0</th>\n",
       "      <td>1</td>\n",
       "      <td>Andaman and Nicobar</td>\n",
       "      <td>7179</td>\n",
       "      <td>7079</td>\n",
       "      <td>127</td>\n",
       "      <td>7306</td>\n",
       "    </tr>\n",
       "    <tr>\n",
       "      <th>1</th>\n",
       "      <td>2</td>\n",
       "      <td>Andhra Pradesh</td>\n",
       "      <td>1814642</td>\n",
       "      <td>1743176</td>\n",
       "      <td>12109</td>\n",
       "      <td>1826751</td>\n",
       "    </tr>\n",
       "    <tr>\n",
       "      <th>2</th>\n",
       "      <td>3</td>\n",
       "      <td>Arunachal Pradesh</td>\n",
       "      <td>32033</td>\n",
       "      <td>29223</td>\n",
       "      <td>155</td>\n",
       "      <td>32188</td>\n",
       "    </tr>\n",
       "    <tr>\n",
       "      <th>3</th>\n",
       "      <td>4</td>\n",
       "      <td>Assam</td>\n",
       "      <td>465912</td>\n",
       "      <td>426259</td>\n",
       "      <td>4064</td>\n",
       "      <td>469976</td>\n",
       "    </tr>\n",
       "    <tr>\n",
       "      <th>4</th>\n",
       "      <td>5</td>\n",
       "      <td>Bihar</td>\n",
       "      <td>708796</td>\n",
       "      <td>704805</td>\n",
       "      <td>9523</td>\n",
       "      <td>718319</td>\n",
       "    </tr>\n",
       "    <tr>\n",
       "      <th>5</th>\n",
       "      <td>6</td>\n",
       "      <td>Chandigarh</td>\n",
       "      <td>60442</td>\n",
       "      <td>59980</td>\n",
       "      <td>799</td>\n",
       "      <td>61241</td>\n",
       "    </tr>\n",
       "    <tr>\n",
       "      <th>6</th>\n",
       "      <td>7</td>\n",
       "      <td>Chhattisgarh</td>\n",
       "      <td>975391</td>\n",
       "      <td>964265</td>\n",
       "      <td>13354</td>\n",
       "      <td>988745</td>\n",
       "    </tr>\n",
       "    <tr>\n",
       "      <th>7</th>\n",
       "      <td>8</td>\n",
       "      <td>Dadra and Nagar Haveli and Daman and Diu</td>\n",
       "      <td>10477</td>\n",
       "      <td>10412</td>\n",
       "      <td>4</td>\n",
       "      <td>10481</td>\n",
       "    </tr>\n",
       "    <tr>\n",
       "      <th>8</th>\n",
       "      <td>9</td>\n",
       "      <td>Delhi</td>\n",
       "      <td>1406834</td>\n",
       "      <td>1404085</td>\n",
       "      <td>24876</td>\n",
       "      <td>1431710</td>\n",
       "    </tr>\n",
       "    <tr>\n",
       "      <th>9</th>\n",
       "      <td>10</td>\n",
       "      <td>Goa</td>\n",
       "      <td>160398</td>\n",
       "      <td>156354</td>\n",
       "      <td>2960</td>\n",
       "      <td>163358</td>\n",
       "    </tr>\n",
       "    <tr>\n",
       "      <th>10</th>\n",
       "      <td>11</td>\n",
       "      <td>Gujarat</td>\n",
       "      <td>811364</td>\n",
       "      <td>803122</td>\n",
       "      <td>10012</td>\n",
       "      <td>821376</td>\n",
       "    </tr>\n",
       "    <tr>\n",
       "      <th>11</th>\n",
       "      <td>12</td>\n",
       "      <td>Haryana</td>\n",
       "      <td>757497</td>\n",
       "      <td>753918</td>\n",
       "      <td>9109</td>\n",
       "      <td>766606</td>\n",
       "    </tr>\n",
       "    <tr>\n",
       "      <th>12</th>\n",
       "      <td>13</td>\n",
       "      <td>Himachal Pradesh</td>\n",
       "      <td>195993</td>\n",
       "      <td>192260</td>\n",
       "      <td>3414</td>\n",
       "      <td>199407</td>\n",
       "    </tr>\n",
       "    <tr>\n",
       "      <th>13</th>\n",
       "      <td>14</td>\n",
       "      <td>Jammu and Kashmir</td>\n",
       "      <td>305144</td>\n",
       "      <td>293763</td>\n",
       "      <td>4217</td>\n",
       "      <td>309361</td>\n",
       "    </tr>\n",
       "    <tr>\n",
       "      <th>14</th>\n",
       "      <td>15</td>\n",
       "      <td>Jharkhand</td>\n",
       "      <td>338891</td>\n",
       "      <td>336645</td>\n",
       "      <td>5092</td>\n",
       "      <td>343983</td>\n",
       "    </tr>\n",
       "    <tr>\n",
       "      <th>15</th>\n",
       "      <td>16</td>\n",
       "      <td>Karnataka</td>\n",
       "      <td>2751059</td>\n",
       "      <td>2599472</td>\n",
       "      <td>33296</td>\n",
       "      <td>2784355</td>\n",
       "    </tr>\n",
       "    <tr>\n",
       "      <th>16</th>\n",
       "      <td>17</td>\n",
       "      <td>Kerala</td>\n",
       "      <td>2749819</td>\n",
       "      <td>2639593</td>\n",
       "      <td>11655</td>\n",
       "      <td>2761474</td>\n",
       "    </tr>\n",
       "    <tr>\n",
       "      <th>17</th>\n",
       "      <td>18</td>\n",
       "      <td>Ladakh</td>\n",
       "      <td>19483</td>\n",
       "      <td>18945</td>\n",
       "      <td>199</td>\n",
       "      <td>19682</td>\n",
       "    </tr>\n",
       "    <tr>\n",
       "      <th>18</th>\n",
       "      <td>19</td>\n",
       "      <td>Lakshadweep</td>\n",
       "      <td>9294</td>\n",
       "      <td>8847</td>\n",
       "      <td>45</td>\n",
       "      <td>9339</td>\n",
       "    </tr>\n",
       "    <tr>\n",
       "      <th>19</th>\n",
       "      <td>20</td>\n",
       "      <td>Maharashtra</td>\n",
       "      <td>5819490</td>\n",
       "      <td>5679746</td>\n",
       "      <td>115390</td>\n",
       "      <td>5934880</td>\n",
       "    </tr>\n",
       "    <tr>\n",
       "      <th>20</th>\n",
       "      <td>21</td>\n",
       "      <td>Manipur</td>\n",
       "      <td>60840</td>\n",
       "      <td>51762</td>\n",
       "      <td>1008</td>\n",
       "      <td>61848</td>\n",
       "    </tr>\n",
       "    <tr>\n",
       "      <th>21</th>\n",
       "      <td>22</td>\n",
       "      <td>Meghalaya</td>\n",
       "      <td>42496</td>\n",
       "      <td>38032</td>\n",
       "      <td>758</td>\n",
       "      <td>43254</td>\n",
       "    </tr>\n",
       "    <tr>\n",
       "      <th>22</th>\n",
       "      <td>23</td>\n",
       "      <td>Mizoram</td>\n",
       "      <td>16061</td>\n",
       "      <td>12414</td>\n",
       "      <td>74</td>\n",
       "      <td>16135</td>\n",
       "    </tr>\n",
       "    <tr>\n",
       "      <th>23</th>\n",
       "      <td>24</td>\n",
       "      <td>Madhya Pradesh</td>\n",
       "      <td>780160</td>\n",
       "      <td>776887</td>\n",
       "      <td>8649</td>\n",
       "      <td>788809</td>\n",
       "    </tr>\n",
       "    <tr>\n",
       "      <th>24</th>\n",
       "      <td>25</td>\n",
       "      <td>Nagaland</td>\n",
       "      <td>23504</td>\n",
       "      <td>20805</td>\n",
       "      <td>461</td>\n",
       "      <td>23965</td>\n",
       "    </tr>\n",
       "    <tr>\n",
       "      <th>25</th>\n",
       "      <td>26</td>\n",
       "      <td>Odisha</td>\n",
       "      <td>859629</td>\n",
       "      <td>817359</td>\n",
       "      <td>3432</td>\n",
       "      <td>863061</td>\n",
       "    </tr>\n",
       "    <tr>\n",
       "      <th>26</th>\n",
       "      <td>27</td>\n",
       "      <td>Puducherry</td>\n",
       "      <td>111920</td>\n",
       "      <td>107425</td>\n",
       "      <td>1702</td>\n",
       "      <td>113622</td>\n",
       "    </tr>\n",
       "    <tr>\n",
       "      <th>27</th>\n",
       "      <td>28</td>\n",
       "      <td>Punjab</td>\n",
       "      <td>574130</td>\n",
       "      <td>564084</td>\n",
       "      <td>15698</td>\n",
       "      <td>589828</td>\n",
       "    </tr>\n",
       "    <tr>\n",
       "      <th>28</th>\n",
       "      <td>29</td>\n",
       "      <td>Rajasthan</td>\n",
       "      <td>941548</td>\n",
       "      <td>936586</td>\n",
       "      <td>8865</td>\n",
       "      <td>950413</td>\n",
       "    </tr>\n",
       "    <tr>\n",
       "      <th>29</th>\n",
       "      <td>30</td>\n",
       "      <td>Sikkim</td>\n",
       "      <td>18521</td>\n",
       "      <td>15556</td>\n",
       "      <td>285</td>\n",
       "      <td>18806</td>\n",
       "    </tr>\n",
       "    <tr>\n",
       "      <th>30</th>\n",
       "      <td>31</td>\n",
       "      <td>Tamil Nadu</td>\n",
       "      <td>2358408</td>\n",
       "      <td>2244073</td>\n",
       "      <td>30338</td>\n",
       "      <td>2388746</td>\n",
       "    </tr>\n",
       "    <tr>\n",
       "      <th>31</th>\n",
       "      <td>32</td>\n",
       "      <td>Telengana</td>\n",
       "      <td>604404</td>\n",
       "      <td>584429</td>\n",
       "      <td>3521</td>\n",
       "      <td>607925</td>\n",
       "    </tr>\n",
       "    <tr>\n",
       "      <th>32</th>\n",
       "      <td>33</td>\n",
       "      <td>Tripura</td>\n",
       "      <td>60238</td>\n",
       "      <td>55116</td>\n",
       "      <td>634</td>\n",
       "      <td>60872</td>\n",
       "    </tr>\n",
       "    <tr>\n",
       "      <th>33</th>\n",
       "      <td>34</td>\n",
       "      <td>Uttar Pradesh</td>\n",
       "      <td>1681495</td>\n",
       "      <td>1674999</td>\n",
       "      <td>21963</td>\n",
       "      <td>1703458</td>\n",
       "    </tr>\n",
       "    <tr>\n",
       "      <th>34</th>\n",
       "      <td>35</td>\n",
       "      <td>Uttarakhand</td>\n",
       "      <td>330805</td>\n",
       "      <td>327233</td>\n",
       "      <td>6997</td>\n",
       "      <td>337802</td>\n",
       "    </tr>\n",
       "    <tr>\n",
       "      <th>35</th>\n",
       "      <td>36</td>\n",
       "      <td>West Bengal</td>\n",
       "      <td>1454113</td>\n",
       "      <td>1432961</td>\n",
       "      <td>17118</td>\n",
       "      <td>1471231</td>\n",
       "    </tr>\n",
       "  </tbody>\n",
       "</table>\n",
       "</div>"
      ],
      "text/plain": [
       "    S. No.                        Name of State / UT  Active Cases  \\\n",
       "0        1                       Andaman and Nicobar          7179   \n",
       "1        2                            Andhra Pradesh       1814642   \n",
       "2        3                         Arunachal Pradesh         32033   \n",
       "3        4                                     Assam        465912   \n",
       "4        5                                     Bihar        708796   \n",
       "5        6                                Chandigarh         60442   \n",
       "6        7                              Chhattisgarh        975391   \n",
       "7        8  Dadra and Nagar Haveli and Daman and Diu         10477   \n",
       "8        9                                     Delhi       1406834   \n",
       "9       10                                       Goa        160398   \n",
       "10      11                                   Gujarat        811364   \n",
       "11      12                                   Haryana        757497   \n",
       "12      13                          Himachal Pradesh        195993   \n",
       "13      14                         Jammu and Kashmir        305144   \n",
       "14      15                                 Jharkhand        338891   \n",
       "15      16                                 Karnataka       2751059   \n",
       "16      17                                    Kerala       2749819   \n",
       "17      18                                    Ladakh         19483   \n",
       "18      19                               Lakshadweep          9294   \n",
       "19      20                               Maharashtra       5819490   \n",
       "20      21                                   Manipur         60840   \n",
       "21      22                                 Meghalaya         42496   \n",
       "22      23                                   Mizoram         16061   \n",
       "23      24                            Madhya Pradesh        780160   \n",
       "24      25                                  Nagaland         23504   \n",
       "25      26                                    Odisha        859629   \n",
       "26      27                                Puducherry        111920   \n",
       "27      28                                    Punjab        574130   \n",
       "28      29                                 Rajasthan        941548   \n",
       "29      30                                    Sikkim         18521   \n",
       "30      31                                Tamil Nadu       2358408   \n",
       "31      32                                 Telengana        604404   \n",
       "32      33                                   Tripura         60238   \n",
       "33      34                             Uttar Pradesh       1681495   \n",
       "34      35                               Uttarakhand        330805   \n",
       "35      36                               West Bengal       1454113   \n",
       "\n",
       "    Cured/Discharged/Migrated  Deaths  Total Confirmed cases  \n",
       "0                        7079     127                   7306  \n",
       "1                     1743176   12109                1826751  \n",
       "2                       29223     155                  32188  \n",
       "3                      426259    4064                 469976  \n",
       "4                      704805    9523                 718319  \n",
       "5                       59980     799                  61241  \n",
       "6                      964265   13354                 988745  \n",
       "7                       10412       4                  10481  \n",
       "8                     1404085   24876                1431710  \n",
       "9                      156354    2960                 163358  \n",
       "10                     803122   10012                 821376  \n",
       "11                     753918    9109                 766606  \n",
       "12                     192260    3414                 199407  \n",
       "13                     293763    4217                 309361  \n",
       "14                     336645    5092                 343983  \n",
       "15                    2599472   33296                2784355  \n",
       "16                    2639593   11655                2761474  \n",
       "17                      18945     199                  19682  \n",
       "18                       8847      45                   9339  \n",
       "19                    5679746  115390                5934880  \n",
       "20                      51762    1008                  61848  \n",
       "21                      38032     758                  43254  \n",
       "22                      12414      74                  16135  \n",
       "23                     776887    8649                 788809  \n",
       "24                      20805     461                  23965  \n",
       "25                     817359    3432                 863061  \n",
       "26                     107425    1702                 113622  \n",
       "27                     564084   15698                 589828  \n",
       "28                     936586    8865                 950413  \n",
       "29                      15556     285                  18806  \n",
       "30                    2244073   30338                2388746  \n",
       "31                     584429    3521                 607925  \n",
       "32                      55116     634                  60872  \n",
       "33                    1674999   21963                1703458  \n",
       "34                     327233    6997                 337802  \n",
       "35                    1432961   17118                1471231  "
      ]
     },
     "execution_count": 80,
     "metadata": {},
     "output_type": "execute_result"
    }
   ],
   "source": [
    "data"
   ]
  },
  {
   "cell_type": "code",
   "execution_count": 81,
   "id": "c488f937",
   "metadata": {},
   "outputs": [
    {
     "data": {
      "text/html": [
       "<style  type=\"text/css\" >\n",
       "#T_dae05_row0_col0,#T_dae05_row0_col2,#T_dae05_row0_col3,#T_dae05_row0_col4,#T_dae05_row0_col5,#T_dae05_row2_col3,#T_dae05_row2_col4,#T_dae05_row7_col2,#T_dae05_row7_col3,#T_dae05_row7_col4,#T_dae05_row7_col5,#T_dae05_row17_col2,#T_dae05_row17_col3,#T_dae05_row17_col4,#T_dae05_row17_col5,#T_dae05_row18_col2,#T_dae05_row18_col3,#T_dae05_row18_col4,#T_dae05_row18_col5,#T_dae05_row22_col2,#T_dae05_row22_col3,#T_dae05_row22_col4,#T_dae05_row22_col5,#T_dae05_row24_col2,#T_dae05_row24_col3,#T_dae05_row24_col5,#T_dae05_row29_col2,#T_dae05_row29_col3,#T_dae05_row29_col4,#T_dae05_row29_col5{\n",
       "            background-color:  #fff5f0;\n",
       "            color:  #000000;\n",
       "        }#T_dae05_row1_col0,#T_dae05_row12_col4,#T_dae05_row25_col4,#T_dae05_row31_col4{\n",
       "            background-color:  #fff0e9;\n",
       "            color:  #000000;\n",
       "        }#T_dae05_row1_col2{\n",
       "            background-color:  #fca78b;\n",
       "            color:  #000000;\n",
       "        }#T_dae05_row1_col3,#T_dae05_row1_col5{\n",
       "            background-color:  #fca98c;\n",
       "            color:  #000000;\n",
       "        }#T_dae05_row1_col4,#T_dae05_row31_col2,#T_dae05_row31_col3{\n",
       "            background-color:  #fee4d8;\n",
       "            color:  #000000;\n",
       "        }#T_dae05_row2_col0,#T_dae05_row14_col2,#T_dae05_row14_col3,#T_dae05_row14_col5,#T_dae05_row34_col2,#T_dae05_row34_col3,#T_dae05_row34_col5{\n",
       "            background-color:  #ffece3;\n",
       "            color:  #000000;\n",
       "        }#T_dae05_row2_col2,#T_dae05_row2_col5,#T_dae05_row5_col4,#T_dae05_row21_col2,#T_dae05_row21_col3,#T_dae05_row21_col4,#T_dae05_row21_col5,#T_dae05_row24_col4,#T_dae05_row32_col4{\n",
       "            background-color:  #fff4ef;\n",
       "            color:  #000000;\n",
       "        }#T_dae05_row3_col0,#T_dae05_row4_col4{\n",
       "            background-color:  #fee7dc;\n",
       "            color:  #000000;\n",
       "        }#T_dae05_row3_col2,#T_dae05_row11_col4{\n",
       "            background-color:  #fee8dd;\n",
       "            color:  #000000;\n",
       "        }#T_dae05_row3_col3{\n",
       "            background-color:  #fee9df;\n",
       "            color:  #000000;\n",
       "        }#T_dae05_row3_col4,#T_dae05_row13_col4{\n",
       "            background-color:  #ffefe8;\n",
       "            color:  #000000;\n",
       "        }#T_dae05_row3_col5,#T_dae05_row23_col4,#T_dae05_row28_col4{\n",
       "            background-color:  #fee8de;\n",
       "            color:  #000000;\n",
       "        }#T_dae05_row4_col0,#T_dae05_row6_col4{\n",
       "            background-color:  #fee2d5;\n",
       "            color:  #000000;\n",
       "        }#T_dae05_row4_col2,#T_dae05_row4_col5{\n",
       "            background-color:  #fee1d4;\n",
       "            color:  #000000;\n",
       "        }#T_dae05_row4_col3{\n",
       "            background-color:  #fee1d3;\n",
       "            color:  #000000;\n",
       "        }#T_dae05_row5_col0,#T_dae05_row25_col3,#T_dae05_row25_col5{\n",
       "            background-color:  #fedbcc;\n",
       "            color:  #000000;\n",
       "        }#T_dae05_row5_col2,#T_dae05_row5_col3,#T_dae05_row5_col5,#T_dae05_row20_col2,#T_dae05_row20_col3,#T_dae05_row20_col4,#T_dae05_row20_col5,#T_dae05_row32_col2,#T_dae05_row32_col3,#T_dae05_row32_col5{\n",
       "            background-color:  #fff4ee;\n",
       "            color:  #000000;\n",
       "        }#T_dae05_row6_col0,#T_dae05_row6_col3{\n",
       "            background-color:  #fdd3c1;\n",
       "            color:  #000000;\n",
       "        }#T_dae05_row6_col2,#T_dae05_row6_col5{\n",
       "            background-color:  #fdd4c2;\n",
       "            color:  #000000;\n",
       "        }#T_dae05_row7_col0{\n",
       "            background-color:  #fdcab5;\n",
       "            color:  #000000;\n",
       "        }#T_dae05_row8_col0{\n",
       "            background-color:  #fcc2aa;\n",
       "            color:  #000000;\n",
       "        }#T_dae05_row8_col2,#T_dae05_row8_col5{\n",
       "            background-color:  #fcbea5;\n",
       "            color:  #000000;\n",
       "        }#T_dae05_row8_col3,#T_dae05_row35_col2,#T_dae05_row35_col5{\n",
       "            background-color:  #fcbca2;\n",
       "            color:  #000000;\n",
       "        }#T_dae05_row8_col4{\n",
       "            background-color:  #fdc5ae;\n",
       "            color:  #000000;\n",
       "        }#T_dae05_row9_col0{\n",
       "            background-color:  #fcb99f;\n",
       "            color:  #000000;\n",
       "        }#T_dae05_row9_col2,#T_dae05_row9_col3,#T_dae05_row9_col4,#T_dae05_row9_col5{\n",
       "            background-color:  #fff1ea;\n",
       "            color:  #000000;\n",
       "        }#T_dae05_row10_col0,#T_dae05_row15_col4,#T_dae05_row33_col2,#T_dae05_row33_col5{\n",
       "            background-color:  #fcaf93;\n",
       "            color:  #000000;\n",
       "        }#T_dae05_row10_col2,#T_dae05_row10_col3,#T_dae05_row10_col5{\n",
       "            background-color:  #fedccd;\n",
       "            color:  #000000;\n",
       "        }#T_dae05_row10_col4{\n",
       "            background-color:  #fee7db;\n",
       "            color:  #000000;\n",
       "        }#T_dae05_row11_col0{\n",
       "            background-color:  #fca689;\n",
       "            color:  #000000;\n",
       "        }#T_dae05_row11_col2,#T_dae05_row11_col3,#T_dae05_row23_col5{\n",
       "            background-color:  #fedfd0;\n",
       "            color:  #000000;\n",
       "        }#T_dae05_row11_col5{\n",
       "            background-color:  #fee0d2;\n",
       "            color:  #000000;\n",
       "        }#T_dae05_row12_col0{\n",
       "            background-color:  #fc9d7f;\n",
       "            color:  #000000;\n",
       "        }#T_dae05_row12_col2,#T_dae05_row12_col3,#T_dae05_row12_col5{\n",
       "            background-color:  #fff0e8;\n",
       "            color:  #000000;\n",
       "        }#T_dae05_row13_col0{\n",
       "            background-color:  #fc9373;\n",
       "            color:  #000000;\n",
       "        }#T_dae05_row13_col2,#T_dae05_row13_col5{\n",
       "            background-color:  #ffece4;\n",
       "            color:  #000000;\n",
       "        }#T_dae05_row13_col3{\n",
       "            background-color:  #ffede5;\n",
       "            color:  #000000;\n",
       "        }#T_dae05_row14_col0,#T_dae05_row30_col5{\n",
       "            background-color:  #fc8a6a;\n",
       "            color:  #000000;\n",
       "        }#T_dae05_row14_col4{\n",
       "            background-color:  #ffeee6;\n",
       "            color:  #000000;\n",
       "        }#T_dae05_row15_col0{\n",
       "            background-color:  #fc8161;\n",
       "            color:  #000000;\n",
       "        }#T_dae05_row15_col2,#T_dae05_row16_col2{\n",
       "            background-color:  #fb7353;\n",
       "            color:  #000000;\n",
       "        }#T_dae05_row15_col3{\n",
       "            background-color:  #fb7858;\n",
       "            color:  #000000;\n",
       "        }#T_dae05_row15_col5{\n",
       "            background-color:  #fb7555;\n",
       "            color:  #000000;\n",
       "        }#T_dae05_row16_col0{\n",
       "            background-color:  #fb7757;\n",
       "            color:  #000000;\n",
       "        }#T_dae05_row16_col3,#T_dae05_row16_col5{\n",
       "            background-color:  #fb7656;\n",
       "            color:  #000000;\n",
       "        }#T_dae05_row16_col4,#T_dae05_row27_col3,#T_dae05_row27_col5,#T_dae05_row31_col5{\n",
       "            background-color:  #fee5d8;\n",
       "            color:  #000000;\n",
       "        }#T_dae05_row17_col0{\n",
       "            background-color:  #fb6e4e;\n",
       "            color:  #000000;\n",
       "        }#T_dae05_row18_col0{\n",
       "            background-color:  #fa6547;\n",
       "            color:  #000000;\n",
       "        }#T_dae05_row19_col0{\n",
       "            background-color:  #f75b40;\n",
       "            color:  #000000;\n",
       "        }#T_dae05_row19_col2,#T_dae05_row19_col3,#T_dae05_row19_col4,#T_dae05_row19_col5,#T_dae05_row35_col0{\n",
       "            background-color:  #67000d;\n",
       "            color:  #f1f1f1;\n",
       "        }#T_dae05_row20_col0{\n",
       "            background-color:  #f44f39;\n",
       "            color:  #000000;\n",
       "        }#T_dae05_row21_col0{\n",
       "            background-color:  #f14432;\n",
       "            color:  #f1f1f1;\n",
       "        }#T_dae05_row22_col0{\n",
       "            background-color:  #ee3a2c;\n",
       "            color:  #f1f1f1;\n",
       "        }#T_dae05_row23_col0{\n",
       "            background-color:  #e53228;\n",
       "            color:  #f1f1f1;\n",
       "        }#T_dae05_row23_col2,#T_dae05_row23_col3,#T_dae05_row27_col4{\n",
       "            background-color:  #fedecf;\n",
       "            color:  #000000;\n",
       "        }#T_dae05_row24_col0{\n",
       "            background-color:  #dd2a25;\n",
       "            color:  #f1f1f1;\n",
       "        }#T_dae05_row25_col0{\n",
       "            background-color:  #d52221;\n",
       "            color:  #f1f1f1;\n",
       "        }#T_dae05_row25_col2,#T_dae05_row35_col4{\n",
       "            background-color:  #fedaca;\n",
       "            color:  #000000;\n",
       "        }#T_dae05_row26_col0{\n",
       "            background-color:  #cc191e;\n",
       "            color:  #f1f1f1;\n",
       "        }#T_dae05_row26_col2,#T_dae05_row26_col3,#T_dae05_row26_col5{\n",
       "            background-color:  #fff2ec;\n",
       "            color:  #000000;\n",
       "        }#T_dae05_row26_col4{\n",
       "            background-color:  #fff3ed;\n",
       "            color:  #000000;\n",
       "        }#T_dae05_row27_col0{\n",
       "            background-color:  #c4161c;\n",
       "            color:  #f1f1f1;\n",
       "        }#T_dae05_row27_col2{\n",
       "            background-color:  #fee5d9;\n",
       "            color:  #000000;\n",
       "        }#T_dae05_row28_col0{\n",
       "            background-color:  #bc141a;\n",
       "            color:  #f1f1f1;\n",
       "        }#T_dae05_row28_col2,#T_dae05_row28_col3{\n",
       "            background-color:  #fdd5c4;\n",
       "            color:  #000000;\n",
       "        }#T_dae05_row28_col5{\n",
       "            background-color:  #fdd7c6;\n",
       "            color:  #000000;\n",
       "        }#T_dae05_row29_col0{\n",
       "            background-color:  #b21218;\n",
       "            color:  #f1f1f1;\n",
       "        }#T_dae05_row30_col0{\n",
       "            background-color:  #aa1016;\n",
       "            color:  #f1f1f1;\n",
       "        }#T_dae05_row30_col2{\n",
       "            background-color:  #fc8969;\n",
       "            color:  #000000;\n",
       "        }#T_dae05_row30_col3{\n",
       "            background-color:  #fc8d6d;\n",
       "            color:  #000000;\n",
       "        }#T_dae05_row30_col4{\n",
       "            background-color:  #fcb79c;\n",
       "            color:  #000000;\n",
       "        }#T_dae05_row31_col0{\n",
       "            background-color:  #9f0e14;\n",
       "            color:  #f1f1f1;\n",
       "        }#T_dae05_row32_col0{\n",
       "            background-color:  #900a12;\n",
       "            color:  #f1f1f1;\n",
       "        }#T_dae05_row33_col0{\n",
       "            background-color:  #820711;\n",
       "            color:  #f1f1f1;\n",
       "        }#T_dae05_row33_col3{\n",
       "            background-color:  #fcad90;\n",
       "            color:  #000000;\n",
       "        }#T_dae05_row33_col4{\n",
       "            background-color:  #fdcdb9;\n",
       "            color:  #000000;\n",
       "        }#T_dae05_row34_col0{\n",
       "            background-color:  #75030f;\n",
       "            color:  #f1f1f1;\n",
       "        }#T_dae05_row34_col4{\n",
       "            background-color:  #ffebe2;\n",
       "            color:  #000000;\n",
       "        }#T_dae05_row35_col3{\n",
       "            background-color:  #fcbba1;\n",
       "            color:  #000000;\n",
       "        }</style><table id=\"T_dae05_\" ><thead>    <tr>        <th class=\"blank level0\" ></th>        <th class=\"col_heading level0 col0\" >S. No.</th>        <th class=\"col_heading level0 col1\" >Name of State / UT</th>        <th class=\"col_heading level0 col2\" >Active Cases</th>        <th class=\"col_heading level0 col3\" >Cured/Discharged/Migrated</th>        <th class=\"col_heading level0 col4\" >Deaths</th>        <th class=\"col_heading level0 col5\" >Total Confirmed cases</th>    </tr></thead><tbody>\n",
       "                <tr>\n",
       "                        <th id=\"T_dae05_level0_row0\" class=\"row_heading level0 row0\" >0</th>\n",
       "                        <td id=\"T_dae05_row0_col0\" class=\"data row0 col0\" >1</td>\n",
       "                        <td id=\"T_dae05_row0_col1\" class=\"data row0 col1\" >Andaman and Nicobar</td>\n",
       "                        <td id=\"T_dae05_row0_col2\" class=\"data row0 col2\" >7179</td>\n",
       "                        <td id=\"T_dae05_row0_col3\" class=\"data row0 col3\" >7079</td>\n",
       "                        <td id=\"T_dae05_row0_col4\" class=\"data row0 col4\" >127</td>\n",
       "                        <td id=\"T_dae05_row0_col5\" class=\"data row0 col5\" >7306</td>\n",
       "            </tr>\n",
       "            <tr>\n",
       "                        <th id=\"T_dae05_level0_row1\" class=\"row_heading level0 row1\" >1</th>\n",
       "                        <td id=\"T_dae05_row1_col0\" class=\"data row1 col0\" >2</td>\n",
       "                        <td id=\"T_dae05_row1_col1\" class=\"data row1 col1\" >Andhra Pradesh</td>\n",
       "                        <td id=\"T_dae05_row1_col2\" class=\"data row1 col2\" >1814642</td>\n",
       "                        <td id=\"T_dae05_row1_col3\" class=\"data row1 col3\" >1743176</td>\n",
       "                        <td id=\"T_dae05_row1_col4\" class=\"data row1 col4\" >12109</td>\n",
       "                        <td id=\"T_dae05_row1_col5\" class=\"data row1 col5\" >1826751</td>\n",
       "            </tr>\n",
       "            <tr>\n",
       "                        <th id=\"T_dae05_level0_row2\" class=\"row_heading level0 row2\" >2</th>\n",
       "                        <td id=\"T_dae05_row2_col0\" class=\"data row2 col0\" >3</td>\n",
       "                        <td id=\"T_dae05_row2_col1\" class=\"data row2 col1\" >Arunachal Pradesh</td>\n",
       "                        <td id=\"T_dae05_row2_col2\" class=\"data row2 col2\" >32033</td>\n",
       "                        <td id=\"T_dae05_row2_col3\" class=\"data row2 col3\" >29223</td>\n",
       "                        <td id=\"T_dae05_row2_col4\" class=\"data row2 col4\" >155</td>\n",
       "                        <td id=\"T_dae05_row2_col5\" class=\"data row2 col5\" >32188</td>\n",
       "            </tr>\n",
       "            <tr>\n",
       "                        <th id=\"T_dae05_level0_row3\" class=\"row_heading level0 row3\" >3</th>\n",
       "                        <td id=\"T_dae05_row3_col0\" class=\"data row3 col0\" >4</td>\n",
       "                        <td id=\"T_dae05_row3_col1\" class=\"data row3 col1\" >Assam</td>\n",
       "                        <td id=\"T_dae05_row3_col2\" class=\"data row3 col2\" >465912</td>\n",
       "                        <td id=\"T_dae05_row3_col3\" class=\"data row3 col3\" >426259</td>\n",
       "                        <td id=\"T_dae05_row3_col4\" class=\"data row3 col4\" >4064</td>\n",
       "                        <td id=\"T_dae05_row3_col5\" class=\"data row3 col5\" >469976</td>\n",
       "            </tr>\n",
       "            <tr>\n",
       "                        <th id=\"T_dae05_level0_row4\" class=\"row_heading level0 row4\" >4</th>\n",
       "                        <td id=\"T_dae05_row4_col0\" class=\"data row4 col0\" >5</td>\n",
       "                        <td id=\"T_dae05_row4_col1\" class=\"data row4 col1\" >Bihar</td>\n",
       "                        <td id=\"T_dae05_row4_col2\" class=\"data row4 col2\" >708796</td>\n",
       "                        <td id=\"T_dae05_row4_col3\" class=\"data row4 col3\" >704805</td>\n",
       "                        <td id=\"T_dae05_row4_col4\" class=\"data row4 col4\" >9523</td>\n",
       "                        <td id=\"T_dae05_row4_col5\" class=\"data row4 col5\" >718319</td>\n",
       "            </tr>\n",
       "            <tr>\n",
       "                        <th id=\"T_dae05_level0_row5\" class=\"row_heading level0 row5\" >5</th>\n",
       "                        <td id=\"T_dae05_row5_col0\" class=\"data row5 col0\" >6</td>\n",
       "                        <td id=\"T_dae05_row5_col1\" class=\"data row5 col1\" >Chandigarh</td>\n",
       "                        <td id=\"T_dae05_row5_col2\" class=\"data row5 col2\" >60442</td>\n",
       "                        <td id=\"T_dae05_row5_col3\" class=\"data row5 col3\" >59980</td>\n",
       "                        <td id=\"T_dae05_row5_col4\" class=\"data row5 col4\" >799</td>\n",
       "                        <td id=\"T_dae05_row5_col5\" class=\"data row5 col5\" >61241</td>\n",
       "            </tr>\n",
       "            <tr>\n",
       "                        <th id=\"T_dae05_level0_row6\" class=\"row_heading level0 row6\" >6</th>\n",
       "                        <td id=\"T_dae05_row6_col0\" class=\"data row6 col0\" >7</td>\n",
       "                        <td id=\"T_dae05_row6_col1\" class=\"data row6 col1\" >Chhattisgarh</td>\n",
       "                        <td id=\"T_dae05_row6_col2\" class=\"data row6 col2\" >975391</td>\n",
       "                        <td id=\"T_dae05_row6_col3\" class=\"data row6 col3\" >964265</td>\n",
       "                        <td id=\"T_dae05_row6_col4\" class=\"data row6 col4\" >13354</td>\n",
       "                        <td id=\"T_dae05_row6_col5\" class=\"data row6 col5\" >988745</td>\n",
       "            </tr>\n",
       "            <tr>\n",
       "                        <th id=\"T_dae05_level0_row7\" class=\"row_heading level0 row7\" >7</th>\n",
       "                        <td id=\"T_dae05_row7_col0\" class=\"data row7 col0\" >8</td>\n",
       "                        <td id=\"T_dae05_row7_col1\" class=\"data row7 col1\" >Dadra and Nagar Haveli and Daman and Diu</td>\n",
       "                        <td id=\"T_dae05_row7_col2\" class=\"data row7 col2\" >10477</td>\n",
       "                        <td id=\"T_dae05_row7_col3\" class=\"data row7 col3\" >10412</td>\n",
       "                        <td id=\"T_dae05_row7_col4\" class=\"data row7 col4\" >4</td>\n",
       "                        <td id=\"T_dae05_row7_col5\" class=\"data row7 col5\" >10481</td>\n",
       "            </tr>\n",
       "            <tr>\n",
       "                        <th id=\"T_dae05_level0_row8\" class=\"row_heading level0 row8\" >8</th>\n",
       "                        <td id=\"T_dae05_row8_col0\" class=\"data row8 col0\" >9</td>\n",
       "                        <td id=\"T_dae05_row8_col1\" class=\"data row8 col1\" >Delhi</td>\n",
       "                        <td id=\"T_dae05_row8_col2\" class=\"data row8 col2\" >1406834</td>\n",
       "                        <td id=\"T_dae05_row8_col3\" class=\"data row8 col3\" >1404085</td>\n",
       "                        <td id=\"T_dae05_row8_col4\" class=\"data row8 col4\" >24876</td>\n",
       "                        <td id=\"T_dae05_row8_col5\" class=\"data row8 col5\" >1431710</td>\n",
       "            </tr>\n",
       "            <tr>\n",
       "                        <th id=\"T_dae05_level0_row9\" class=\"row_heading level0 row9\" >9</th>\n",
       "                        <td id=\"T_dae05_row9_col0\" class=\"data row9 col0\" >10</td>\n",
       "                        <td id=\"T_dae05_row9_col1\" class=\"data row9 col1\" >Goa</td>\n",
       "                        <td id=\"T_dae05_row9_col2\" class=\"data row9 col2\" >160398</td>\n",
       "                        <td id=\"T_dae05_row9_col3\" class=\"data row9 col3\" >156354</td>\n",
       "                        <td id=\"T_dae05_row9_col4\" class=\"data row9 col4\" >2960</td>\n",
       "                        <td id=\"T_dae05_row9_col5\" class=\"data row9 col5\" >163358</td>\n",
       "            </tr>\n",
       "            <tr>\n",
       "                        <th id=\"T_dae05_level0_row10\" class=\"row_heading level0 row10\" >10</th>\n",
       "                        <td id=\"T_dae05_row10_col0\" class=\"data row10 col0\" >11</td>\n",
       "                        <td id=\"T_dae05_row10_col1\" class=\"data row10 col1\" >Gujarat</td>\n",
       "                        <td id=\"T_dae05_row10_col2\" class=\"data row10 col2\" >811364</td>\n",
       "                        <td id=\"T_dae05_row10_col3\" class=\"data row10 col3\" >803122</td>\n",
       "                        <td id=\"T_dae05_row10_col4\" class=\"data row10 col4\" >10012</td>\n",
       "                        <td id=\"T_dae05_row10_col5\" class=\"data row10 col5\" >821376</td>\n",
       "            </tr>\n",
       "            <tr>\n",
       "                        <th id=\"T_dae05_level0_row11\" class=\"row_heading level0 row11\" >11</th>\n",
       "                        <td id=\"T_dae05_row11_col0\" class=\"data row11 col0\" >12</td>\n",
       "                        <td id=\"T_dae05_row11_col1\" class=\"data row11 col1\" >Haryana</td>\n",
       "                        <td id=\"T_dae05_row11_col2\" class=\"data row11 col2\" >757497</td>\n",
       "                        <td id=\"T_dae05_row11_col3\" class=\"data row11 col3\" >753918</td>\n",
       "                        <td id=\"T_dae05_row11_col4\" class=\"data row11 col4\" >9109</td>\n",
       "                        <td id=\"T_dae05_row11_col5\" class=\"data row11 col5\" >766606</td>\n",
       "            </tr>\n",
       "            <tr>\n",
       "                        <th id=\"T_dae05_level0_row12\" class=\"row_heading level0 row12\" >12</th>\n",
       "                        <td id=\"T_dae05_row12_col0\" class=\"data row12 col0\" >13</td>\n",
       "                        <td id=\"T_dae05_row12_col1\" class=\"data row12 col1\" >Himachal Pradesh</td>\n",
       "                        <td id=\"T_dae05_row12_col2\" class=\"data row12 col2\" >195993</td>\n",
       "                        <td id=\"T_dae05_row12_col3\" class=\"data row12 col3\" >192260</td>\n",
       "                        <td id=\"T_dae05_row12_col4\" class=\"data row12 col4\" >3414</td>\n",
       "                        <td id=\"T_dae05_row12_col5\" class=\"data row12 col5\" >199407</td>\n",
       "            </tr>\n",
       "            <tr>\n",
       "                        <th id=\"T_dae05_level0_row13\" class=\"row_heading level0 row13\" >13</th>\n",
       "                        <td id=\"T_dae05_row13_col0\" class=\"data row13 col0\" >14</td>\n",
       "                        <td id=\"T_dae05_row13_col1\" class=\"data row13 col1\" >Jammu and Kashmir</td>\n",
       "                        <td id=\"T_dae05_row13_col2\" class=\"data row13 col2\" >305144</td>\n",
       "                        <td id=\"T_dae05_row13_col3\" class=\"data row13 col3\" >293763</td>\n",
       "                        <td id=\"T_dae05_row13_col4\" class=\"data row13 col4\" >4217</td>\n",
       "                        <td id=\"T_dae05_row13_col5\" class=\"data row13 col5\" >309361</td>\n",
       "            </tr>\n",
       "            <tr>\n",
       "                        <th id=\"T_dae05_level0_row14\" class=\"row_heading level0 row14\" >14</th>\n",
       "                        <td id=\"T_dae05_row14_col0\" class=\"data row14 col0\" >15</td>\n",
       "                        <td id=\"T_dae05_row14_col1\" class=\"data row14 col1\" >Jharkhand</td>\n",
       "                        <td id=\"T_dae05_row14_col2\" class=\"data row14 col2\" >338891</td>\n",
       "                        <td id=\"T_dae05_row14_col3\" class=\"data row14 col3\" >336645</td>\n",
       "                        <td id=\"T_dae05_row14_col4\" class=\"data row14 col4\" >5092</td>\n",
       "                        <td id=\"T_dae05_row14_col5\" class=\"data row14 col5\" >343983</td>\n",
       "            </tr>\n",
       "            <tr>\n",
       "                        <th id=\"T_dae05_level0_row15\" class=\"row_heading level0 row15\" >15</th>\n",
       "                        <td id=\"T_dae05_row15_col0\" class=\"data row15 col0\" >16</td>\n",
       "                        <td id=\"T_dae05_row15_col1\" class=\"data row15 col1\" >Karnataka</td>\n",
       "                        <td id=\"T_dae05_row15_col2\" class=\"data row15 col2\" >2751059</td>\n",
       "                        <td id=\"T_dae05_row15_col3\" class=\"data row15 col3\" >2599472</td>\n",
       "                        <td id=\"T_dae05_row15_col4\" class=\"data row15 col4\" >33296</td>\n",
       "                        <td id=\"T_dae05_row15_col5\" class=\"data row15 col5\" >2784355</td>\n",
       "            </tr>\n",
       "            <tr>\n",
       "                        <th id=\"T_dae05_level0_row16\" class=\"row_heading level0 row16\" >16</th>\n",
       "                        <td id=\"T_dae05_row16_col0\" class=\"data row16 col0\" >17</td>\n",
       "                        <td id=\"T_dae05_row16_col1\" class=\"data row16 col1\" >Kerala</td>\n",
       "                        <td id=\"T_dae05_row16_col2\" class=\"data row16 col2\" >2749819</td>\n",
       "                        <td id=\"T_dae05_row16_col3\" class=\"data row16 col3\" >2639593</td>\n",
       "                        <td id=\"T_dae05_row16_col4\" class=\"data row16 col4\" >11655</td>\n",
       "                        <td id=\"T_dae05_row16_col5\" class=\"data row16 col5\" >2761474</td>\n",
       "            </tr>\n",
       "            <tr>\n",
       "                        <th id=\"T_dae05_level0_row17\" class=\"row_heading level0 row17\" >17</th>\n",
       "                        <td id=\"T_dae05_row17_col0\" class=\"data row17 col0\" >18</td>\n",
       "                        <td id=\"T_dae05_row17_col1\" class=\"data row17 col1\" >Ladakh</td>\n",
       "                        <td id=\"T_dae05_row17_col2\" class=\"data row17 col2\" >19483</td>\n",
       "                        <td id=\"T_dae05_row17_col3\" class=\"data row17 col3\" >18945</td>\n",
       "                        <td id=\"T_dae05_row17_col4\" class=\"data row17 col4\" >199</td>\n",
       "                        <td id=\"T_dae05_row17_col5\" class=\"data row17 col5\" >19682</td>\n",
       "            </tr>\n",
       "            <tr>\n",
       "                        <th id=\"T_dae05_level0_row18\" class=\"row_heading level0 row18\" >18</th>\n",
       "                        <td id=\"T_dae05_row18_col0\" class=\"data row18 col0\" >19</td>\n",
       "                        <td id=\"T_dae05_row18_col1\" class=\"data row18 col1\" >Lakshadweep</td>\n",
       "                        <td id=\"T_dae05_row18_col2\" class=\"data row18 col2\" >9294</td>\n",
       "                        <td id=\"T_dae05_row18_col3\" class=\"data row18 col3\" >8847</td>\n",
       "                        <td id=\"T_dae05_row18_col4\" class=\"data row18 col4\" >45</td>\n",
       "                        <td id=\"T_dae05_row18_col5\" class=\"data row18 col5\" >9339</td>\n",
       "            </tr>\n",
       "            <tr>\n",
       "                        <th id=\"T_dae05_level0_row19\" class=\"row_heading level0 row19\" >19</th>\n",
       "                        <td id=\"T_dae05_row19_col0\" class=\"data row19 col0\" >20</td>\n",
       "                        <td id=\"T_dae05_row19_col1\" class=\"data row19 col1\" >Maharashtra</td>\n",
       "                        <td id=\"T_dae05_row19_col2\" class=\"data row19 col2\" >5819490</td>\n",
       "                        <td id=\"T_dae05_row19_col3\" class=\"data row19 col3\" >5679746</td>\n",
       "                        <td id=\"T_dae05_row19_col4\" class=\"data row19 col4\" >115390</td>\n",
       "                        <td id=\"T_dae05_row19_col5\" class=\"data row19 col5\" >5934880</td>\n",
       "            </tr>\n",
       "            <tr>\n",
       "                        <th id=\"T_dae05_level0_row20\" class=\"row_heading level0 row20\" >20</th>\n",
       "                        <td id=\"T_dae05_row20_col0\" class=\"data row20 col0\" >21</td>\n",
       "                        <td id=\"T_dae05_row20_col1\" class=\"data row20 col1\" >Manipur</td>\n",
       "                        <td id=\"T_dae05_row20_col2\" class=\"data row20 col2\" >60840</td>\n",
       "                        <td id=\"T_dae05_row20_col3\" class=\"data row20 col3\" >51762</td>\n",
       "                        <td id=\"T_dae05_row20_col4\" class=\"data row20 col4\" >1008</td>\n",
       "                        <td id=\"T_dae05_row20_col5\" class=\"data row20 col5\" >61848</td>\n",
       "            </tr>\n",
       "            <tr>\n",
       "                        <th id=\"T_dae05_level0_row21\" class=\"row_heading level0 row21\" >21</th>\n",
       "                        <td id=\"T_dae05_row21_col0\" class=\"data row21 col0\" >22</td>\n",
       "                        <td id=\"T_dae05_row21_col1\" class=\"data row21 col1\" >Meghalaya</td>\n",
       "                        <td id=\"T_dae05_row21_col2\" class=\"data row21 col2\" >42496</td>\n",
       "                        <td id=\"T_dae05_row21_col3\" class=\"data row21 col3\" >38032</td>\n",
       "                        <td id=\"T_dae05_row21_col4\" class=\"data row21 col4\" >758</td>\n",
       "                        <td id=\"T_dae05_row21_col5\" class=\"data row21 col5\" >43254</td>\n",
       "            </tr>\n",
       "            <tr>\n",
       "                        <th id=\"T_dae05_level0_row22\" class=\"row_heading level0 row22\" >22</th>\n",
       "                        <td id=\"T_dae05_row22_col0\" class=\"data row22 col0\" >23</td>\n",
       "                        <td id=\"T_dae05_row22_col1\" class=\"data row22 col1\" >Mizoram</td>\n",
       "                        <td id=\"T_dae05_row22_col2\" class=\"data row22 col2\" >16061</td>\n",
       "                        <td id=\"T_dae05_row22_col3\" class=\"data row22 col3\" >12414</td>\n",
       "                        <td id=\"T_dae05_row22_col4\" class=\"data row22 col4\" >74</td>\n",
       "                        <td id=\"T_dae05_row22_col5\" class=\"data row22 col5\" >16135</td>\n",
       "            </tr>\n",
       "            <tr>\n",
       "                        <th id=\"T_dae05_level0_row23\" class=\"row_heading level0 row23\" >23</th>\n",
       "                        <td id=\"T_dae05_row23_col0\" class=\"data row23 col0\" >24</td>\n",
       "                        <td id=\"T_dae05_row23_col1\" class=\"data row23 col1\" >Madhya Pradesh</td>\n",
       "                        <td id=\"T_dae05_row23_col2\" class=\"data row23 col2\" >780160</td>\n",
       "                        <td id=\"T_dae05_row23_col3\" class=\"data row23 col3\" >776887</td>\n",
       "                        <td id=\"T_dae05_row23_col4\" class=\"data row23 col4\" >8649</td>\n",
       "                        <td id=\"T_dae05_row23_col5\" class=\"data row23 col5\" >788809</td>\n",
       "            </tr>\n",
       "            <tr>\n",
       "                        <th id=\"T_dae05_level0_row24\" class=\"row_heading level0 row24\" >24</th>\n",
       "                        <td id=\"T_dae05_row24_col0\" class=\"data row24 col0\" >25</td>\n",
       "                        <td id=\"T_dae05_row24_col1\" class=\"data row24 col1\" >Nagaland</td>\n",
       "                        <td id=\"T_dae05_row24_col2\" class=\"data row24 col2\" >23504</td>\n",
       "                        <td id=\"T_dae05_row24_col3\" class=\"data row24 col3\" >20805</td>\n",
       "                        <td id=\"T_dae05_row24_col4\" class=\"data row24 col4\" >461</td>\n",
       "                        <td id=\"T_dae05_row24_col5\" class=\"data row24 col5\" >23965</td>\n",
       "            </tr>\n",
       "            <tr>\n",
       "                        <th id=\"T_dae05_level0_row25\" class=\"row_heading level0 row25\" >25</th>\n",
       "                        <td id=\"T_dae05_row25_col0\" class=\"data row25 col0\" >26</td>\n",
       "                        <td id=\"T_dae05_row25_col1\" class=\"data row25 col1\" >Odisha</td>\n",
       "                        <td id=\"T_dae05_row25_col2\" class=\"data row25 col2\" >859629</td>\n",
       "                        <td id=\"T_dae05_row25_col3\" class=\"data row25 col3\" >817359</td>\n",
       "                        <td id=\"T_dae05_row25_col4\" class=\"data row25 col4\" >3432</td>\n",
       "                        <td id=\"T_dae05_row25_col5\" class=\"data row25 col5\" >863061</td>\n",
       "            </tr>\n",
       "            <tr>\n",
       "                        <th id=\"T_dae05_level0_row26\" class=\"row_heading level0 row26\" >26</th>\n",
       "                        <td id=\"T_dae05_row26_col0\" class=\"data row26 col0\" >27</td>\n",
       "                        <td id=\"T_dae05_row26_col1\" class=\"data row26 col1\" >Puducherry</td>\n",
       "                        <td id=\"T_dae05_row26_col2\" class=\"data row26 col2\" >111920</td>\n",
       "                        <td id=\"T_dae05_row26_col3\" class=\"data row26 col3\" >107425</td>\n",
       "                        <td id=\"T_dae05_row26_col4\" class=\"data row26 col4\" >1702</td>\n",
       "                        <td id=\"T_dae05_row26_col5\" class=\"data row26 col5\" >113622</td>\n",
       "            </tr>\n",
       "            <tr>\n",
       "                        <th id=\"T_dae05_level0_row27\" class=\"row_heading level0 row27\" >27</th>\n",
       "                        <td id=\"T_dae05_row27_col0\" class=\"data row27 col0\" >28</td>\n",
       "                        <td id=\"T_dae05_row27_col1\" class=\"data row27 col1\" >Punjab</td>\n",
       "                        <td id=\"T_dae05_row27_col2\" class=\"data row27 col2\" >574130</td>\n",
       "                        <td id=\"T_dae05_row27_col3\" class=\"data row27 col3\" >564084</td>\n",
       "                        <td id=\"T_dae05_row27_col4\" class=\"data row27 col4\" >15698</td>\n",
       "                        <td id=\"T_dae05_row27_col5\" class=\"data row27 col5\" >589828</td>\n",
       "            </tr>\n",
       "            <tr>\n",
       "                        <th id=\"T_dae05_level0_row28\" class=\"row_heading level0 row28\" >28</th>\n",
       "                        <td id=\"T_dae05_row28_col0\" class=\"data row28 col0\" >29</td>\n",
       "                        <td id=\"T_dae05_row28_col1\" class=\"data row28 col1\" >Rajasthan</td>\n",
       "                        <td id=\"T_dae05_row28_col2\" class=\"data row28 col2\" >941548</td>\n",
       "                        <td id=\"T_dae05_row28_col3\" class=\"data row28 col3\" >936586</td>\n",
       "                        <td id=\"T_dae05_row28_col4\" class=\"data row28 col4\" >8865</td>\n",
       "                        <td id=\"T_dae05_row28_col5\" class=\"data row28 col5\" >950413</td>\n",
       "            </tr>\n",
       "            <tr>\n",
       "                        <th id=\"T_dae05_level0_row29\" class=\"row_heading level0 row29\" >29</th>\n",
       "                        <td id=\"T_dae05_row29_col0\" class=\"data row29 col0\" >30</td>\n",
       "                        <td id=\"T_dae05_row29_col1\" class=\"data row29 col1\" >Sikkim</td>\n",
       "                        <td id=\"T_dae05_row29_col2\" class=\"data row29 col2\" >18521</td>\n",
       "                        <td id=\"T_dae05_row29_col3\" class=\"data row29 col3\" >15556</td>\n",
       "                        <td id=\"T_dae05_row29_col4\" class=\"data row29 col4\" >285</td>\n",
       "                        <td id=\"T_dae05_row29_col5\" class=\"data row29 col5\" >18806</td>\n",
       "            </tr>\n",
       "            <tr>\n",
       "                        <th id=\"T_dae05_level0_row30\" class=\"row_heading level0 row30\" >30</th>\n",
       "                        <td id=\"T_dae05_row30_col0\" class=\"data row30 col0\" >31</td>\n",
       "                        <td id=\"T_dae05_row30_col1\" class=\"data row30 col1\" >Tamil Nadu</td>\n",
       "                        <td id=\"T_dae05_row30_col2\" class=\"data row30 col2\" >2358408</td>\n",
       "                        <td id=\"T_dae05_row30_col3\" class=\"data row30 col3\" >2244073</td>\n",
       "                        <td id=\"T_dae05_row30_col4\" class=\"data row30 col4\" >30338</td>\n",
       "                        <td id=\"T_dae05_row30_col5\" class=\"data row30 col5\" >2388746</td>\n",
       "            </tr>\n",
       "            <tr>\n",
       "                        <th id=\"T_dae05_level0_row31\" class=\"row_heading level0 row31\" >31</th>\n",
       "                        <td id=\"T_dae05_row31_col0\" class=\"data row31 col0\" >32</td>\n",
       "                        <td id=\"T_dae05_row31_col1\" class=\"data row31 col1\" >Telengana</td>\n",
       "                        <td id=\"T_dae05_row31_col2\" class=\"data row31 col2\" >604404</td>\n",
       "                        <td id=\"T_dae05_row31_col3\" class=\"data row31 col3\" >584429</td>\n",
       "                        <td id=\"T_dae05_row31_col4\" class=\"data row31 col4\" >3521</td>\n",
       "                        <td id=\"T_dae05_row31_col5\" class=\"data row31 col5\" >607925</td>\n",
       "            </tr>\n",
       "            <tr>\n",
       "                        <th id=\"T_dae05_level0_row32\" class=\"row_heading level0 row32\" >32</th>\n",
       "                        <td id=\"T_dae05_row32_col0\" class=\"data row32 col0\" >33</td>\n",
       "                        <td id=\"T_dae05_row32_col1\" class=\"data row32 col1\" >Tripura</td>\n",
       "                        <td id=\"T_dae05_row32_col2\" class=\"data row32 col2\" >60238</td>\n",
       "                        <td id=\"T_dae05_row32_col3\" class=\"data row32 col3\" >55116</td>\n",
       "                        <td id=\"T_dae05_row32_col4\" class=\"data row32 col4\" >634</td>\n",
       "                        <td id=\"T_dae05_row32_col5\" class=\"data row32 col5\" >60872</td>\n",
       "            </tr>\n",
       "            <tr>\n",
       "                        <th id=\"T_dae05_level0_row33\" class=\"row_heading level0 row33\" >33</th>\n",
       "                        <td id=\"T_dae05_row33_col0\" class=\"data row33 col0\" >34</td>\n",
       "                        <td id=\"T_dae05_row33_col1\" class=\"data row33 col1\" >Uttar Pradesh</td>\n",
       "                        <td id=\"T_dae05_row33_col2\" class=\"data row33 col2\" >1681495</td>\n",
       "                        <td id=\"T_dae05_row33_col3\" class=\"data row33 col3\" >1674999</td>\n",
       "                        <td id=\"T_dae05_row33_col4\" class=\"data row33 col4\" >21963</td>\n",
       "                        <td id=\"T_dae05_row33_col5\" class=\"data row33 col5\" >1703458</td>\n",
       "            </tr>\n",
       "            <tr>\n",
       "                        <th id=\"T_dae05_level0_row34\" class=\"row_heading level0 row34\" >34</th>\n",
       "                        <td id=\"T_dae05_row34_col0\" class=\"data row34 col0\" >35</td>\n",
       "                        <td id=\"T_dae05_row34_col1\" class=\"data row34 col1\" >Uttarakhand</td>\n",
       "                        <td id=\"T_dae05_row34_col2\" class=\"data row34 col2\" >330805</td>\n",
       "                        <td id=\"T_dae05_row34_col3\" class=\"data row34 col3\" >327233</td>\n",
       "                        <td id=\"T_dae05_row34_col4\" class=\"data row34 col4\" >6997</td>\n",
       "                        <td id=\"T_dae05_row34_col5\" class=\"data row34 col5\" >337802</td>\n",
       "            </tr>\n",
       "            <tr>\n",
       "                        <th id=\"T_dae05_level0_row35\" class=\"row_heading level0 row35\" >35</th>\n",
       "                        <td id=\"T_dae05_row35_col0\" class=\"data row35 col0\" >36</td>\n",
       "                        <td id=\"T_dae05_row35_col1\" class=\"data row35 col1\" >West Bengal</td>\n",
       "                        <td id=\"T_dae05_row35_col2\" class=\"data row35 col2\" >1454113</td>\n",
       "                        <td id=\"T_dae05_row35_col3\" class=\"data row35 col3\" >1432961</td>\n",
       "                        <td id=\"T_dae05_row35_col4\" class=\"data row35 col4\" >17118</td>\n",
       "                        <td id=\"T_dae05_row35_col5\" class=\"data row35 col5\" >1471231</td>\n",
       "            </tr>\n",
       "    </tbody></table>"
      ],
      "text/plain": [
       "<pandas.io.formats.style.Styler at 0x286bdcf4b80>"
      ]
     },
     "execution_count": 81,
     "metadata": {},
     "output_type": "execute_result"
    }
   ],
   "source": [
    "data.style.background_gradient(cmap='Reds')"
   ]
  },
  {
   "cell_type": "code",
   "execution_count": 82,
   "id": "0ce60468",
   "metadata": {},
   "outputs": [],
   "source": [
    "Total_Active_Cases=data.groupby('Name of State / UT')['Active Cases'].sum().sort_values(ascending=False).to_frame()"
   ]
  },
  {
   "cell_type": "code",
   "execution_count": 83,
   "id": "72afd7b4",
   "metadata": {},
   "outputs": [
    {
     "data": {
      "text/html": [
       "<div>\n",
       "<style scoped>\n",
       "    .dataframe tbody tr th:only-of-type {\n",
       "        vertical-align: middle;\n",
       "    }\n",
       "\n",
       "    .dataframe tbody tr th {\n",
       "        vertical-align: top;\n",
       "    }\n",
       "\n",
       "    .dataframe thead th {\n",
       "        text-align: right;\n",
       "    }\n",
       "</style>\n",
       "<table border=\"1\" class=\"dataframe\">\n",
       "  <thead>\n",
       "    <tr style=\"text-align: right;\">\n",
       "      <th></th>\n",
       "      <th>Active Cases</th>\n",
       "    </tr>\n",
       "    <tr>\n",
       "      <th>Name of State / UT</th>\n",
       "      <th></th>\n",
       "    </tr>\n",
       "  </thead>\n",
       "  <tbody>\n",
       "    <tr>\n",
       "      <th>Maharashtra</th>\n",
       "      <td>5819490</td>\n",
       "    </tr>\n",
       "    <tr>\n",
       "      <th>Karnataka</th>\n",
       "      <td>2751059</td>\n",
       "    </tr>\n",
       "    <tr>\n",
       "      <th>Kerala</th>\n",
       "      <td>2749819</td>\n",
       "    </tr>\n",
       "    <tr>\n",
       "      <th>Tamil Nadu</th>\n",
       "      <td>2358408</td>\n",
       "    </tr>\n",
       "    <tr>\n",
       "      <th>Andhra Pradesh</th>\n",
       "      <td>1814642</td>\n",
       "    </tr>\n",
       "    <tr>\n",
       "      <th>Uttar Pradesh</th>\n",
       "      <td>1681495</td>\n",
       "    </tr>\n",
       "    <tr>\n",
       "      <th>West Bengal</th>\n",
       "      <td>1454113</td>\n",
       "    </tr>\n",
       "    <tr>\n",
       "      <th>Delhi</th>\n",
       "      <td>1406834</td>\n",
       "    </tr>\n",
       "    <tr>\n",
       "      <th>Chhattisgarh</th>\n",
       "      <td>975391</td>\n",
       "    </tr>\n",
       "    <tr>\n",
       "      <th>Rajasthan</th>\n",
       "      <td>941548</td>\n",
       "    </tr>\n",
       "    <tr>\n",
       "      <th>Odisha</th>\n",
       "      <td>859629</td>\n",
       "    </tr>\n",
       "    <tr>\n",
       "      <th>Gujarat</th>\n",
       "      <td>811364</td>\n",
       "    </tr>\n",
       "    <tr>\n",
       "      <th>Madhya Pradesh</th>\n",
       "      <td>780160</td>\n",
       "    </tr>\n",
       "    <tr>\n",
       "      <th>Haryana</th>\n",
       "      <td>757497</td>\n",
       "    </tr>\n",
       "    <tr>\n",
       "      <th>Bihar</th>\n",
       "      <td>708796</td>\n",
       "    </tr>\n",
       "    <tr>\n",
       "      <th>Telengana</th>\n",
       "      <td>604404</td>\n",
       "    </tr>\n",
       "    <tr>\n",
       "      <th>Punjab</th>\n",
       "      <td>574130</td>\n",
       "    </tr>\n",
       "    <tr>\n",
       "      <th>Assam</th>\n",
       "      <td>465912</td>\n",
       "    </tr>\n",
       "    <tr>\n",
       "      <th>Jharkhand</th>\n",
       "      <td>338891</td>\n",
       "    </tr>\n",
       "    <tr>\n",
       "      <th>Uttarakhand</th>\n",
       "      <td>330805</td>\n",
       "    </tr>\n",
       "    <tr>\n",
       "      <th>Jammu and Kashmir</th>\n",
       "      <td>305144</td>\n",
       "    </tr>\n",
       "    <tr>\n",
       "      <th>Himachal Pradesh</th>\n",
       "      <td>195993</td>\n",
       "    </tr>\n",
       "    <tr>\n",
       "      <th>Goa</th>\n",
       "      <td>160398</td>\n",
       "    </tr>\n",
       "    <tr>\n",
       "      <th>Puducherry</th>\n",
       "      <td>111920</td>\n",
       "    </tr>\n",
       "    <tr>\n",
       "      <th>Manipur</th>\n",
       "      <td>60840</td>\n",
       "    </tr>\n",
       "    <tr>\n",
       "      <th>Chandigarh</th>\n",
       "      <td>60442</td>\n",
       "    </tr>\n",
       "    <tr>\n",
       "      <th>Tripura</th>\n",
       "      <td>60238</td>\n",
       "    </tr>\n",
       "    <tr>\n",
       "      <th>Meghalaya</th>\n",
       "      <td>42496</td>\n",
       "    </tr>\n",
       "    <tr>\n",
       "      <th>Arunachal Pradesh</th>\n",
       "      <td>32033</td>\n",
       "    </tr>\n",
       "    <tr>\n",
       "      <th>Nagaland</th>\n",
       "      <td>23504</td>\n",
       "    </tr>\n",
       "    <tr>\n",
       "      <th>Ladakh</th>\n",
       "      <td>19483</td>\n",
       "    </tr>\n",
       "    <tr>\n",
       "      <th>Sikkim</th>\n",
       "      <td>18521</td>\n",
       "    </tr>\n",
       "    <tr>\n",
       "      <th>Mizoram</th>\n",
       "      <td>16061</td>\n",
       "    </tr>\n",
       "    <tr>\n",
       "      <th>Dadra and Nagar Haveli and Daman and Diu</th>\n",
       "      <td>10477</td>\n",
       "    </tr>\n",
       "    <tr>\n",
       "      <th>Lakshadweep</th>\n",
       "      <td>9294</td>\n",
       "    </tr>\n",
       "    <tr>\n",
       "      <th>Andaman and Nicobar</th>\n",
       "      <td>7179</td>\n",
       "    </tr>\n",
       "  </tbody>\n",
       "</table>\n",
       "</div>"
      ],
      "text/plain": [
       "                                          Active Cases\n",
       "Name of State / UT                                    \n",
       "Maharashtra                                    5819490\n",
       "Karnataka                                      2751059\n",
       "Kerala                                         2749819\n",
       "Tamil Nadu                                     2358408\n",
       "Andhra Pradesh                                 1814642\n",
       "Uttar Pradesh                                  1681495\n",
       "West Bengal                                    1454113\n",
       "Delhi                                          1406834\n",
       "Chhattisgarh                                    975391\n",
       "Rajasthan                                       941548\n",
       "Odisha                                          859629\n",
       "Gujarat                                         811364\n",
       "Madhya Pradesh                                  780160\n",
       "Haryana                                         757497\n",
       "Bihar                                           708796\n",
       "Telengana                                       604404\n",
       "Punjab                                          574130\n",
       "Assam                                           465912\n",
       "Jharkhand                                       338891\n",
       "Uttarakhand                                     330805\n",
       "Jammu and Kashmir                               305144\n",
       "Himachal Pradesh                                195993\n",
       "Goa                                             160398\n",
       "Puducherry                                      111920\n",
       "Manipur                                          60840\n",
       "Chandigarh                                       60442\n",
       "Tripura                                          60238\n",
       "Meghalaya                                        42496\n",
       "Arunachal Pradesh                                32033\n",
       "Nagaland                                         23504\n",
       "Ladakh                                           19483\n",
       "Sikkim                                           18521\n",
       "Mizoram                                          16061\n",
       "Dadra and Nagar Haveli and Daman and Diu         10477\n",
       "Lakshadweep                                       9294\n",
       "Andaman and Nicobar                               7179"
      ]
     },
     "execution_count": 83,
     "metadata": {},
     "output_type": "execute_result"
    }
   ],
   "source": [
    "Total_Active_Cases"
   ]
  },
  {
   "cell_type": "code",
   "execution_count": 84,
   "id": "8db37b45",
   "metadata": {},
   "outputs": [
    {
     "data": {
      "text/html": [
       "<style  type=\"text/css\" >\n",
       "#T_999b4_row0_col0{\n",
       "            background-color:  #67000d;\n",
       "            color:  #f1f1f1;\n",
       "        }#T_999b4_row1_col0,#T_999b4_row2_col0{\n",
       "            background-color:  #fb7353;\n",
       "            color:  #000000;\n",
       "        }#T_999b4_row3_col0{\n",
       "            background-color:  #fc8969;\n",
       "            color:  #000000;\n",
       "        }#T_999b4_row4_col0{\n",
       "            background-color:  #fca78b;\n",
       "            color:  #000000;\n",
       "        }#T_999b4_row5_col0{\n",
       "            background-color:  #fcaf93;\n",
       "            color:  #000000;\n",
       "        }#T_999b4_row6_col0{\n",
       "            background-color:  #fcbca2;\n",
       "            color:  #000000;\n",
       "        }#T_999b4_row7_col0{\n",
       "            background-color:  #fcbea5;\n",
       "            color:  #000000;\n",
       "        }#T_999b4_row8_col0{\n",
       "            background-color:  #fdd4c2;\n",
       "            color:  #000000;\n",
       "        }#T_999b4_row9_col0{\n",
       "            background-color:  #fdd5c4;\n",
       "            color:  #000000;\n",
       "        }#T_999b4_row10_col0{\n",
       "            background-color:  #fedaca;\n",
       "            color:  #000000;\n",
       "        }#T_999b4_row11_col0{\n",
       "            background-color:  #fedccd;\n",
       "            color:  #000000;\n",
       "        }#T_999b4_row12_col0{\n",
       "            background-color:  #fedecf;\n",
       "            color:  #000000;\n",
       "        }#T_999b4_row13_col0{\n",
       "            background-color:  #fedfd0;\n",
       "            color:  #000000;\n",
       "        }#T_999b4_row14_col0{\n",
       "            background-color:  #fee1d4;\n",
       "            color:  #000000;\n",
       "        }#T_999b4_row15_col0{\n",
       "            background-color:  #fee4d8;\n",
       "            color:  #000000;\n",
       "        }#T_999b4_row16_col0{\n",
       "            background-color:  #fee5d9;\n",
       "            color:  #000000;\n",
       "        }#T_999b4_row17_col0{\n",
       "            background-color:  #fee8dd;\n",
       "            color:  #000000;\n",
       "        }#T_999b4_row18_col0,#T_999b4_row19_col0{\n",
       "            background-color:  #ffece3;\n",
       "            color:  #000000;\n",
       "        }#T_999b4_row20_col0{\n",
       "            background-color:  #ffece4;\n",
       "            color:  #000000;\n",
       "        }#T_999b4_row21_col0{\n",
       "            background-color:  #fff0e8;\n",
       "            color:  #000000;\n",
       "        }#T_999b4_row22_col0{\n",
       "            background-color:  #fff1ea;\n",
       "            color:  #000000;\n",
       "        }#T_999b4_row23_col0{\n",
       "            background-color:  #fff2ec;\n",
       "            color:  #000000;\n",
       "        }#T_999b4_row24_col0,#T_999b4_row25_col0,#T_999b4_row26_col0{\n",
       "            background-color:  #fff4ee;\n",
       "            color:  #000000;\n",
       "        }#T_999b4_row27_col0,#T_999b4_row28_col0{\n",
       "            background-color:  #fff4ef;\n",
       "            color:  #000000;\n",
       "        }#T_999b4_row29_col0,#T_999b4_row30_col0,#T_999b4_row31_col0,#T_999b4_row32_col0,#T_999b4_row33_col0,#T_999b4_row34_col0,#T_999b4_row35_col0{\n",
       "            background-color:  #fff5f0;\n",
       "            color:  #000000;\n",
       "        }</style><table id=\"T_999b4_\" ><thead>    <tr>        <th class=\"blank level0\" ></th>        <th class=\"col_heading level0 col0\" >Active Cases</th>    </tr>    <tr>        <th class=\"index_name level0\" >Name of State / UT</th>        <th class=\"blank\" ></th>    </tr></thead><tbody>\n",
       "                <tr>\n",
       "                        <th id=\"T_999b4_level0_row0\" class=\"row_heading level0 row0\" >Maharashtra</th>\n",
       "                        <td id=\"T_999b4_row0_col0\" class=\"data row0 col0\" >5819490</td>\n",
       "            </tr>\n",
       "            <tr>\n",
       "                        <th id=\"T_999b4_level0_row1\" class=\"row_heading level0 row1\" >Karnataka</th>\n",
       "                        <td id=\"T_999b4_row1_col0\" class=\"data row1 col0\" >2751059</td>\n",
       "            </tr>\n",
       "            <tr>\n",
       "                        <th id=\"T_999b4_level0_row2\" class=\"row_heading level0 row2\" >Kerala</th>\n",
       "                        <td id=\"T_999b4_row2_col0\" class=\"data row2 col0\" >2749819</td>\n",
       "            </tr>\n",
       "            <tr>\n",
       "                        <th id=\"T_999b4_level0_row3\" class=\"row_heading level0 row3\" >Tamil Nadu</th>\n",
       "                        <td id=\"T_999b4_row3_col0\" class=\"data row3 col0\" >2358408</td>\n",
       "            </tr>\n",
       "            <tr>\n",
       "                        <th id=\"T_999b4_level0_row4\" class=\"row_heading level0 row4\" >Andhra Pradesh</th>\n",
       "                        <td id=\"T_999b4_row4_col0\" class=\"data row4 col0\" >1814642</td>\n",
       "            </tr>\n",
       "            <tr>\n",
       "                        <th id=\"T_999b4_level0_row5\" class=\"row_heading level0 row5\" >Uttar Pradesh</th>\n",
       "                        <td id=\"T_999b4_row5_col0\" class=\"data row5 col0\" >1681495</td>\n",
       "            </tr>\n",
       "            <tr>\n",
       "                        <th id=\"T_999b4_level0_row6\" class=\"row_heading level0 row6\" >West Bengal</th>\n",
       "                        <td id=\"T_999b4_row6_col0\" class=\"data row6 col0\" >1454113</td>\n",
       "            </tr>\n",
       "            <tr>\n",
       "                        <th id=\"T_999b4_level0_row7\" class=\"row_heading level0 row7\" >Delhi</th>\n",
       "                        <td id=\"T_999b4_row7_col0\" class=\"data row7 col0\" >1406834</td>\n",
       "            </tr>\n",
       "            <tr>\n",
       "                        <th id=\"T_999b4_level0_row8\" class=\"row_heading level0 row8\" >Chhattisgarh</th>\n",
       "                        <td id=\"T_999b4_row8_col0\" class=\"data row8 col0\" >975391</td>\n",
       "            </tr>\n",
       "            <tr>\n",
       "                        <th id=\"T_999b4_level0_row9\" class=\"row_heading level0 row9\" >Rajasthan</th>\n",
       "                        <td id=\"T_999b4_row9_col0\" class=\"data row9 col0\" >941548</td>\n",
       "            </tr>\n",
       "            <tr>\n",
       "                        <th id=\"T_999b4_level0_row10\" class=\"row_heading level0 row10\" >Odisha</th>\n",
       "                        <td id=\"T_999b4_row10_col0\" class=\"data row10 col0\" >859629</td>\n",
       "            </tr>\n",
       "            <tr>\n",
       "                        <th id=\"T_999b4_level0_row11\" class=\"row_heading level0 row11\" >Gujarat</th>\n",
       "                        <td id=\"T_999b4_row11_col0\" class=\"data row11 col0\" >811364</td>\n",
       "            </tr>\n",
       "            <tr>\n",
       "                        <th id=\"T_999b4_level0_row12\" class=\"row_heading level0 row12\" >Madhya Pradesh</th>\n",
       "                        <td id=\"T_999b4_row12_col0\" class=\"data row12 col0\" >780160</td>\n",
       "            </tr>\n",
       "            <tr>\n",
       "                        <th id=\"T_999b4_level0_row13\" class=\"row_heading level0 row13\" >Haryana</th>\n",
       "                        <td id=\"T_999b4_row13_col0\" class=\"data row13 col0\" >757497</td>\n",
       "            </tr>\n",
       "            <tr>\n",
       "                        <th id=\"T_999b4_level0_row14\" class=\"row_heading level0 row14\" >Bihar</th>\n",
       "                        <td id=\"T_999b4_row14_col0\" class=\"data row14 col0\" >708796</td>\n",
       "            </tr>\n",
       "            <tr>\n",
       "                        <th id=\"T_999b4_level0_row15\" class=\"row_heading level0 row15\" >Telengana</th>\n",
       "                        <td id=\"T_999b4_row15_col0\" class=\"data row15 col0\" >604404</td>\n",
       "            </tr>\n",
       "            <tr>\n",
       "                        <th id=\"T_999b4_level0_row16\" class=\"row_heading level0 row16\" >Punjab</th>\n",
       "                        <td id=\"T_999b4_row16_col0\" class=\"data row16 col0\" >574130</td>\n",
       "            </tr>\n",
       "            <tr>\n",
       "                        <th id=\"T_999b4_level0_row17\" class=\"row_heading level0 row17\" >Assam</th>\n",
       "                        <td id=\"T_999b4_row17_col0\" class=\"data row17 col0\" >465912</td>\n",
       "            </tr>\n",
       "            <tr>\n",
       "                        <th id=\"T_999b4_level0_row18\" class=\"row_heading level0 row18\" >Jharkhand</th>\n",
       "                        <td id=\"T_999b4_row18_col0\" class=\"data row18 col0\" >338891</td>\n",
       "            </tr>\n",
       "            <tr>\n",
       "                        <th id=\"T_999b4_level0_row19\" class=\"row_heading level0 row19\" >Uttarakhand</th>\n",
       "                        <td id=\"T_999b4_row19_col0\" class=\"data row19 col0\" >330805</td>\n",
       "            </tr>\n",
       "            <tr>\n",
       "                        <th id=\"T_999b4_level0_row20\" class=\"row_heading level0 row20\" >Jammu and Kashmir</th>\n",
       "                        <td id=\"T_999b4_row20_col0\" class=\"data row20 col0\" >305144</td>\n",
       "            </tr>\n",
       "            <tr>\n",
       "                        <th id=\"T_999b4_level0_row21\" class=\"row_heading level0 row21\" >Himachal Pradesh</th>\n",
       "                        <td id=\"T_999b4_row21_col0\" class=\"data row21 col0\" >195993</td>\n",
       "            </tr>\n",
       "            <tr>\n",
       "                        <th id=\"T_999b4_level0_row22\" class=\"row_heading level0 row22\" >Goa</th>\n",
       "                        <td id=\"T_999b4_row22_col0\" class=\"data row22 col0\" >160398</td>\n",
       "            </tr>\n",
       "            <tr>\n",
       "                        <th id=\"T_999b4_level0_row23\" class=\"row_heading level0 row23\" >Puducherry</th>\n",
       "                        <td id=\"T_999b4_row23_col0\" class=\"data row23 col0\" >111920</td>\n",
       "            </tr>\n",
       "            <tr>\n",
       "                        <th id=\"T_999b4_level0_row24\" class=\"row_heading level0 row24\" >Manipur</th>\n",
       "                        <td id=\"T_999b4_row24_col0\" class=\"data row24 col0\" >60840</td>\n",
       "            </tr>\n",
       "            <tr>\n",
       "                        <th id=\"T_999b4_level0_row25\" class=\"row_heading level0 row25\" >Chandigarh</th>\n",
       "                        <td id=\"T_999b4_row25_col0\" class=\"data row25 col0\" >60442</td>\n",
       "            </tr>\n",
       "            <tr>\n",
       "                        <th id=\"T_999b4_level0_row26\" class=\"row_heading level0 row26\" >Tripura</th>\n",
       "                        <td id=\"T_999b4_row26_col0\" class=\"data row26 col0\" >60238</td>\n",
       "            </tr>\n",
       "            <tr>\n",
       "                        <th id=\"T_999b4_level0_row27\" class=\"row_heading level0 row27\" >Meghalaya</th>\n",
       "                        <td id=\"T_999b4_row27_col0\" class=\"data row27 col0\" >42496</td>\n",
       "            </tr>\n",
       "            <tr>\n",
       "                        <th id=\"T_999b4_level0_row28\" class=\"row_heading level0 row28\" >Arunachal Pradesh</th>\n",
       "                        <td id=\"T_999b4_row28_col0\" class=\"data row28 col0\" >32033</td>\n",
       "            </tr>\n",
       "            <tr>\n",
       "                        <th id=\"T_999b4_level0_row29\" class=\"row_heading level0 row29\" >Nagaland</th>\n",
       "                        <td id=\"T_999b4_row29_col0\" class=\"data row29 col0\" >23504</td>\n",
       "            </tr>\n",
       "            <tr>\n",
       "                        <th id=\"T_999b4_level0_row30\" class=\"row_heading level0 row30\" >Ladakh</th>\n",
       "                        <td id=\"T_999b4_row30_col0\" class=\"data row30 col0\" >19483</td>\n",
       "            </tr>\n",
       "            <tr>\n",
       "                        <th id=\"T_999b4_level0_row31\" class=\"row_heading level0 row31\" >Sikkim</th>\n",
       "                        <td id=\"T_999b4_row31_col0\" class=\"data row31 col0\" >18521</td>\n",
       "            </tr>\n",
       "            <tr>\n",
       "                        <th id=\"T_999b4_level0_row32\" class=\"row_heading level0 row32\" >Mizoram</th>\n",
       "                        <td id=\"T_999b4_row32_col0\" class=\"data row32 col0\" >16061</td>\n",
       "            </tr>\n",
       "            <tr>\n",
       "                        <th id=\"T_999b4_level0_row33\" class=\"row_heading level0 row33\" >Dadra and Nagar Haveli and Daman and Diu</th>\n",
       "                        <td id=\"T_999b4_row33_col0\" class=\"data row33 col0\" >10477</td>\n",
       "            </tr>\n",
       "            <tr>\n",
       "                        <th id=\"T_999b4_level0_row34\" class=\"row_heading level0 row34\" >Lakshadweep</th>\n",
       "                        <td id=\"T_999b4_row34_col0\" class=\"data row34 col0\" >9294</td>\n",
       "            </tr>\n",
       "            <tr>\n",
       "                        <th id=\"T_999b4_level0_row35\" class=\"row_heading level0 row35\" >Andaman and Nicobar</th>\n",
       "                        <td id=\"T_999b4_row35_col0\" class=\"data row35 col0\" >7179</td>\n",
       "            </tr>\n",
       "    </tbody></table>"
      ],
      "text/plain": [
       "<pandas.io.formats.style.Styler at 0x286bdd1c460>"
      ]
     },
     "execution_count": 84,
     "metadata": {},
     "output_type": "execute_result"
    }
   ],
   "source": [
    "Total_Active_Cases.style.background_gradient(cmap='Reds')"
   ]
  },
  {
   "cell_type": "code",
   "execution_count": null,
   "id": "eefdc3b0",
   "metadata": {},
   "outputs": [],
   "source": []
  },
  {
   "cell_type": "code",
   "execution_count": 85,
   "id": "5ecf0b3f",
   "metadata": {},
   "outputs": [],
   "source": [
    "#Graphical Representation"
   ]
  },
  {
   "cell_type": "code",
   "execution_count": 86,
   "id": "6b5109b3",
   "metadata": {},
   "outputs": [
    {
     "data": {
      "image/png": "[encoded data removed]",
      "text/plain": [
       "<Figure size 432x288 with 1 Axes>"
      ]
     },
     "metadata": {
      "needs_background": "light"
     },
     "output_type": "display_data"
    },
    {
     "data": {
      "application/vnd.plotly.v1+json": {
       "config": {
        "linkText": "Export to plot.ly",
        "plotlyServerURL": "https://plot.ly",
        "showLink": true
       },
       "data": [
        {
         "marker": {
          "color": "rgba(255, 153, 51, 0.6)",
          "line": {
           "color": "rgba(255, 153, 51, 1.0)",
           "width": 1
          }
         },
         "name": "Active Cases",
         "orientation": "v",
         "text": "",
         "type": "bar",
         "x": [
          "Andaman and Nicobar",
          "Andhra Pradesh",
          "Arunachal Pradesh",
          "Assam",
          "Bihar",
          "Chandigarh",
          "Chhattisgarh",
          "Dadra and Nagar Haveli and Daman and Diu",
          "Delhi",
          "Goa",
          "Gujarat",
          "Haryana",
          "Himachal Pradesh",
          "Jammu and Kashmir",
          "Jharkhand",
          "Karnataka",
          "Kerala",
          "Ladakh",
          "Lakshadweep",
          "Maharashtra",
          "Manipur",
          "Meghalaya",
          "Mizoram",
          "Madhya Pradesh",
          "Nagaland",
          "Odisha",
          "Puducherry",
          "Punjab",
          "Rajasthan",
          "Sikkim",
          "Tamil Nadu",
          "Telengana",
          "Tripura",
          "Uttar Pradesh",
          "Uttarakhand",
          "West Bengal"
         ],
         "y": [
          7179,
          1814642,
          32033,
          465912,
          708796,
          60442,
          975391,
          10477,
          1406834,
          160398,
          811364,
          757497,
          195993,
          305144,
          338891,
          2751059,
          2749819,
          19483,
          9294,
          5819490,
          60840,
          42496,
          16061,
          780160,
          23504,
          859629,
          111920,
          574130,
          941548,
          18521,
          2358408,
          604404,
          60238,
          1681495,
          330805,
          1454113
         ]
        }
       ],
       "layout": {
        "legend": {
         "bgcolor": "#F5F6F9",
         "font": {
          "color": "#4D5663"
         }
        },
        "paper_bgcolor": "#F5F6F9",
        "plot_bgcolor": "#F5F6F9",
        "template": {
         "data": {
          "bar": [
           {
            "error_x": {
             "color": "#2a3f5f"
            },
            "error_y": {
             "color": "#2a3f5f"
            },
            "marker": {
             "line": {
              "color": "#E5ECF6",
              "width": 0.5
             }
            },
            "type": "bar"
           }
          ],
          "barpolar": [
           {
            "marker": {
             "line": {
              "color": "#E5ECF6",
              "width": 0.5
             }
            },
            "type": "barpolar"
           }
          ],
          "carpet": [
           {
            "aaxis": {
             "endlinecolor": "#2a3f5f",
             "gridcolor": "white",
             "linecolor": "white",
             "minorgridcolor": "white",
             "startlinecolor": "#2a3f5f"
            },
            "baxis": {
             "endlinecolor": "#2a3f5f",
             "gridcolor": "white",
             "linecolor": "white",
             "minorgridcolor": "white",
             "startlinecolor": "#2a3f5f"
            },
            "type": "carpet"
           }
          ],
          "choropleth": [
           {
            "colorbar": {
             "outlinewidth": 0,
             "ticks": ""
            },
            "type": "choropleth"
           }
          ],
          "contour": [
           {
            "colorbar": {
             "outlinewidth": 0,
             "ticks": ""
            },
            "colorscale": [
             [
              0,
              "#0d0887"
             ],
             [
              0.1111111111111111,
              "#46039f"
             ],
             [
              0.2222222222222222,
              "#7201a8"
             ],
             [
              0.3333333333333333,
              "#9c179e"
             ],
             [
              0.4444444444444444,
              "#bd3786"
             ],
             [
              0.5555555555555556,
              "#d8576b"
             ],
             [
              0.6666666666666666,
              "#ed7953"
             ],
             [
              0.7777777777777778,
              "#fb9f3a"
             ],
             [
              0.8888888888888888,
              "#fdca26"
             ],
             [
              1,
              "#f0f921"
             ]
            ],
            "type": "contour"
           }
          ],
          "contourcarpet": [
           {
            "colorbar": {
             "outlinewidth": 0,
             "ticks": ""
            },
            "type": "contourcarpet"
           }
          ],
          "heatmap": [
           {
            "colorbar": {
             "outlinewidth": 0,
             "ticks": ""
            },
            "colorscale": [
             [
              0,
              "#0d0887"
             ],
             [
              0.1111111111111111,
              "#46039f"
             ],
             [
              0.2222222222222222,
              "#7201a8"
             ],
             [
              0.3333333333333333,
              "#9c179e"
             ],
             [
              0.4444444444444444,
              "#bd3786"
             ],
             [
              0.5555555555555556,
              "#d8576b"
             ],
             [
              0.6666666666666666,
              "#ed7953"
             ],
             [
              0.7777777777777778,
              "#fb9f3a"
             ],
             [
              0.8888888888888888,
              "#fdca26"
             ],
             [
              1,
              "#f0f921"
             ]
            ],
            "type": "heatmap"
           }
          ],
          "heatmapgl": [
           {
            "colorbar": {
             "outlinewidth": 0,
             "ticks": ""
            },
            "colorscale": [
             [
              0,
              "#0d0887"
             ],
             [
              0.1111111111111111,
              "#46039f"
             ],
             [
              0.2222222222222222,
              "#7201a8"
             ],
             [
              0.3333333333333333,
              "#9c179e"
             ],
             [
              0.4444444444444444,
              "#bd3786"
             ],
             [
              0.5555555555555556,
              "#d8576b"
             ],
             [
              0.6666666666666666,
              "#ed7953"
             ],
             [
              0.7777777777777778,
              "#fb9f3a"
             ],
             [
              0.8888888888888888,
              "#fdca26"
             ],
             [
              1,
              "#f0f921"
             ]
            ],
            "type": "heatmapgl"
           }
          ],
          "histogram": [
           {
            "marker": {
             "colorbar": {
              "outlinewidth": 0,
              "ticks": ""
             }
            },
            "type": "histogram"
           }
          ],
          "histogram2d": [
           {
            "colorbar": {
             "outlinewidth": 0,
             "ticks": ""
            },
            "colorscale": [
             [
              0,
              "#0d0887"
             ],
             [
              0.1111111111111111,
              "#46039f"
             ],
             [
              0.2222222222222222,
              "#7201a8"
             ],
             [
              0.3333333333333333,
              "#9c179e"
             ],
             [
              0.4444444444444444,
              "#bd3786"
             ],
             [
              0.5555555555555556,
              "#d8576b"
             ],
             [
              0.6666666666666666,
              "#ed7953"
             ],
             [
              0.7777777777777778,
              "#fb9f3a"
             ],
             [
              0.8888888888888888,
              "#fdca26"
             ],
             [
              1,
              "#f0f921"
             ]
            ],
            "type": "histogram2d"
           }
          ],
          "histogram2dcontour": [
           {
            "colorbar": {
             "outlinewidth": 0,
             "ticks": ""
            },
            "colorscale": [
             [
              0,
              "#0d0887"
             ],
             [
              0.1111111111111111,
              "#46039f"
             ],
             [
              0.2222222222222222,
              "#7201a8"
             ],
             [
              0.3333333333333333,
              "#9c179e"
             ],
             [
              0.4444444444444444,
              "#bd3786"
             ],
             [
              0.5555555555555556,
              "#d8576b"
             ],
             [
              0.6666666666666666,
              "#ed7953"
             ],
             [
              0.7777777777777778,
              "#fb9f3a"
             ],
             [
              0.8888888888888888,
              "#fdca26"
             ],
             [
              1,
              "#f0f921"
             ]
            ],
            "type": "histogram2dcontour"
           }
          ],
          "mesh3d": [
           {
            "colorbar": {
             "outlinewidth": 0,
             "ticks": ""
            },
            "type": "mesh3d"
           }
          ],
          "parcoords": [
           {
            "line": {
             "colorbar": {
              "outlinewidth": 0,
              "ticks": ""
             }
            },
            "type": "parcoords"
           }
          ],
          "pie": [
           {
            "automargin": true,
            "type": "pie"
           }
          ],
          "scatter": [
           {
            "marker": {
             "colorbar": {
              "outlinewidth": 0,
              "ticks": ""
             }
            },
            "type": "scatter"
           }
          ],
          "scatter3d": [
           {
            "line": {
             "colorbar": {
              "outlinewidth": 0,
              "ticks": ""
             }
            },
            "marker": {
             "colorbar": {
              "outlinewidth": 0,
              "ticks": ""
             }
            },
            "type": "scatter3d"
           }
          ],
          "scattercarpet": [
           {
            "marker": {
             "colorbar": {
              "outlinewidth": 0,
              "ticks": ""
             }
            },
            "type": "scattercarpet"
           }
          ],
          "scattergeo": [
           {
            "marker": {
             "colorbar": {
              "outlinewidth": 0,
              "ticks": ""
             }
            },
            "type": "scattergeo"
           }
          ],
          "scattergl": [
           {
            "marker": {
             "colorbar": {
              "outlinewidth": 0,
              "ticks": ""
             }
            },
            "type": "scattergl"
           }
          ],
          "scattermapbox": [
           {
            "marker": {
             "colorbar": {
              "outlinewidth": 0,
              "ticks": ""
             }
            },
            "type": "scattermapbox"
           }
          ],
          "scatterpolar": [
           {
            "marker": {
             "colorbar": {
              "outlinewidth": 0,
              "ticks": ""
             }
            },
            "type": "scatterpolar"
           }
          ],
          "scatterpolargl": [
           {
            "marker": {
             "colorbar": {
              "outlinewidth": 0,
              "ticks": ""
             }
            },
            "type": "scatterpolargl"
           }
          ],
          "scatterternary": [
           {
            "marker": {
             "colorbar": {
              "outlinewidth": 0,
              "ticks": ""
             }
            },
            "type": "scatterternary"
           }
          ],
          "surface": [
           {
            "colorbar": {
             "outlinewidth": 0,
             "ticks": ""
            },
            "colorscale": [
             [
              0,
              "#0d0887"
             ],
             [
              0.1111111111111111,
              "#46039f"
             ],
             [
              0.2222222222222222,
              "#7201a8"
             ],
             [
              0.3333333333333333,
              "#9c179e"
             ],
             [
              0.4444444444444444,
              "#bd3786"
             ],
             [
              0.5555555555555556,
              "#d8576b"
             ],
             [
              0.6666666666666666,
              "#ed7953"
             ],
             [
              0.7777777777777778,
              "#fb9f3a"
             ],
             [
              0.8888888888888888,
              "#fdca26"
             ],
             [
              1,
              "#f0f921"
             ]
            ],
            "type": "surface"
           }
          ],
          "table": [
           {
            "cells": {
             "fill": {
              "color": "#EBF0F8"
             },
             "line": {
              "color": "white"
             }
            },
            "header": {
             "fill": {
              "color": "#C8D4E3"
             },
             "line": {
              "color": "white"
             }
            },
            "type": "table"
           }
          ]
         },
         "layout": {
          "annotationdefaults": {
           "arrowcolor": "#2a3f5f",
           "arrowhead": 0,
           "arrowwidth": 1
          },
          "autotypenumbers": "strict",
          "coloraxis": {
           "colorbar": {
            "outlinewidth": 0,
            "ticks": ""
           }
          },
          "colorscale": {
           "diverging": [
            [
             0,
             "#8e0152"
            ],
            [
             0.1,
             "#c51b7d"
            ],
            [
             0.2,
             "#de77ae"
            ],
            [
             0.3,
             "#f1b6da"
            ],
            [
             0.4,
             "#fde0ef"
            ],
            [
             0.5,
             "#f7f7f7"
            ],
            [
             0.6,
             "#e6f5d0"
            ],
            [
             0.7,
             "#b8e186"
            ],
            [
             0.8,
             "#7fbc41"
            ],
            [
             0.9,
             "#4d9221"
            ],
            [
             1,
             "#276419"
            ]
           ],
           "sequential": [
            [
             0,
             "#0d0887"
            ],
            [
             0.1111111111111111,
             "#46039f"
            ],
            [
             0.2222222222222222,
             "#7201a8"
            ],
            [
             0.3333333333333333,
             "#9c179e"
            ],
            [
             0.4444444444444444,
             "#bd3786"
            ],
            [
             0.5555555555555556,
             "#d8576b"
            ],
            [
             0.6666666666666666,
             "#ed7953"
            ],
            [
             0.7777777777777778,
             "#fb9f3a"
            ],
            [
             0.8888888888888888,
             "#fdca26"
            ],
            [
             1,
             "#f0f921"
            ]
           ],
           "sequentialminus": [
            [
             0,
             "#0d0887"
            ],
            [
             0.1111111111111111,
             "#46039f"
            ],
            [
             0.2222222222222222,
             "#7201a8"
            ],
            [
             0.3333333333333333,
             "#9c179e"
            ],
            [
             0.4444444444444444,
             "#bd3786"
            ],
            [
             0.5555555555555556,
             "#d8576b"
            ],
            [
             0.6666666666666666,
             "#ed7953"
            ],
            [
             0.7777777777777778,
             "#fb9f3a"
            ],
            [
             0.8888888888888888,
             "#fdca26"
            ],
            [
             1,
             "#f0f921"
            ]
           ]
          },
          "colorway": [
           "#636efa",
           "#EF553B",
           "#00cc96",
           "#ab63fa",
           "#FFA15A",
           "#19d3f3",
           "#FF6692",
           "#B6E880",
           "#FF97FF",
           "#FECB52"
          ],
          "font": {
           "color": "#2a3f5f"
          },
          "geo": {
           "bgcolor": "white",
           "lakecolor": "white",
           "landcolor": "#E5ECF6",
           "showlakes": true,
           "showland": true,
           "subunitcolor": "white"
          },
          "hoverlabel": {
           "align": "left"
          },
          "hovermode": "closest",
          "mapbox": {
           "style": "light"
          },
          "paper_bgcolor": "white",
          "plot_bgcolor": "#E5ECF6",
          "polar": {
           "angularaxis": {
            "gridcolor": "white",
            "linecolor": "white",
            "ticks": ""
           },
           "bgcolor": "#E5ECF6",
           "radialaxis": {
            "gridcolor": "white",
            "linecolor": "white",
            "ticks": ""
           }
          },
          "scene": {
           "xaxis": {
            "backgroundcolor": "#E5ECF6",
            "gridcolor": "white",
            "gridwidth": 2,
            "linecolor": "white",
            "showbackground": true,
            "ticks": "",
            "zerolinecolor": "white"
           },
           "yaxis": {
            "backgroundcolor": "#E5ECF6",
            "gridcolor": "white",
            "gridwidth": 2,
            "linecolor": "white",
            "showbackground": true,
            "ticks": "",
            "zerolinecolor": "white"
           },
           "zaxis": {
            "backgroundcolor": "#E5ECF6",
            "gridcolor": "white",
            "gridwidth": 2,
            "linecolor": "white",
            "showbackground": true,
            "ticks": "",
            "zerolinecolor": "white"
           }
          },
          "shapedefaults": {
           "line": {
            "color": "#2a3f5f"
           }
          },
          "ternary": {
           "aaxis": {
            "gridcolor": "white",
            "linecolor": "white",
            "ticks": ""
           },
           "baxis": {
            "gridcolor": "white",
            "linecolor": "white",
            "ticks": ""
           },
           "bgcolor": "#E5ECF6",
           "caxis": {
            "gridcolor": "white",
            "linecolor": "white",
            "ticks": ""
           }
          },
          "title": {
           "x": 0.05
          },
          "xaxis": {
           "automargin": true,
           "gridcolor": "white",
           "linecolor": "white",
           "ticks": "",
           "title": {
            "standoff": 15
           },
           "zerolinecolor": "white",
           "zerolinewidth": 2
          },
          "yaxis": {
           "automargin": true,
           "gridcolor": "white",
           "linecolor": "white",
           "ticks": "",
           "title": {
            "standoff": 15
           },
           "zerolinecolor": "white",
           "zerolinewidth": 2
          }
         }
        },
        "title": {
         "font": {
          "color": "#4D5663"
         }
        },
        "xaxis": {
         "gridcolor": "#E1E5ED",
         "showgrid": true,
         "tickfont": {
          "color": "#4D5663"
         },
         "title": {
          "font": {
           "color": "#4D5663"
          },
          "text": ""
         },
         "zerolinecolor": "#E1E5ED"
        },
        "yaxis": {
         "gridcolor": "#E1E5ED",
         "showgrid": true,
         "tickfont": {
          "color": "#4D5663"
         },
         "title": {
          "font": {
           "color": "#4D5663"
          },
          "text": ""
         },
         "zerolinecolor": "#E1E5ED"
        }
       }
      },
      "text/html": [
       "<div>                            <div id=\"d148a670-d010-49a8-b4ac-a4e062042af3\" class=\"plotly-graph-div\" style=\"height:525px; width:100%;\"></div>            <script type=\"text/javascript\">                require([\"plotly\"], function(Plotly) {                    window.PLOTLYENV=window.PLOTLYENV || {};\n",
       "                    window.PLOTLYENV.BASE_URL='https://plot.ly';                                    if (document.getElementById(\"d148a670-d010-49a8-b4ac-a4e062042af3\")) {                    Plotly.newPlot(                        \"d148a670-d010-49a8-b4ac-a4e062042af3\",                        [{\"marker\": {\"color\": \"rgba(255, 153, 51, 0.6)\", \"line\": {\"color\": \"rgba(255, 153, 51, 1.0)\", \"width\": 1}}, \"name\": \"Active Cases\", \"orientation\": \"v\", \"text\": \"\", \"type\": \"bar\", \"x\": [\"Andaman and Nicobar\", \"Andhra Pradesh\", \"Arunachal Pradesh\", \"Assam\", \"Bihar\", \"Chandigarh\", \"Chhattisgarh\", \"Dadra and Nagar Haveli and Daman and Diu\", \"Delhi\", \"Goa\", \"Gujarat\", \"Haryana\", \"Himachal Pradesh\", \"Jammu and Kashmir\", \"Jharkhand\", \"Karnataka\", \"Kerala\", \"Ladakh\", \"Lakshadweep\", \"Maharashtra\", \"Manipur\", \"Meghalaya\", \"Mizoram\", \"Madhya Pradesh\", \"Nagaland\", \"Odisha\", \"Puducherry\", \"Punjab\", \"Rajasthan\", \"Sikkim\", \"Tamil Nadu\", \"Telengana\", \"Tripura\", \"Uttar Pradesh\", \"Uttarakhand\", \"West Bengal\"], \"y\": [7179, 1814642, 32033, 465912, 708796, 60442, 975391, 10477, 1406834, 160398, 811364, 757497, 195993, 305144, 338891, 2751059, 2749819, 19483, 9294, 5819490, 60840, 42496, 16061, 780160, 23504, 859629, 111920, 574130, 941548, 18521, 2358408, 604404, 60238, 1681495, 330805, 1454113]}],                        {\"legend\": {\"bgcolor\": \"#F5F6F9\", \"font\": {\"color\": \"#4D5663\"}}, \"paper_bgcolor\": \"#F5F6F9\", \"plot_bgcolor\": \"#F5F6F9\", \"template\": {\"data\": {\"bar\": [{\"error_x\": {\"color\": \"#2a3f5f\"}, \"error_y\": {\"color\": \"#2a3f5f\"}, \"marker\": {\"line\": {\"color\": \"#E5ECF6\", \"width\": 0.5}}, \"type\": \"bar\"}], \"barpolar\": [{\"marker\": {\"line\": {\"color\": \"#E5ECF6\", \"width\": 0.5}}, \"type\": \"barpolar\"}], \"carpet\": [{\"aaxis\": {\"endlinecolor\": \"#2a3f5f\", \"gridcolor\": \"white\", \"linecolor\": \"white\", \"minorgridcolor\": \"white\", \"startlinecolor\": \"#2a3f5f\"}, \"baxis\": {\"endlinecolor\": \"#2a3f5f\", \"gridcolor\": \"white\", \"linecolor\": \"white\", \"minorgridcolor\": \"white\", \"startlinecolor\": \"#2a3f5f\"}, \"type\": \"carpet\"}], \"choropleth\": [{\"colorbar\": {\"outlinewidth\": 0, \"ticks\": \"\"}, \"type\": \"choropleth\"}], \"contour\": [{\"colorbar\": {\"outlinewidth\": 0, \"ticks\": \"\"}, \"colorscale\": [[0.0, \"#0d0887\"], [0.1111111111111111, \"#46039f\"], [0.2222222222222222, \"#7201a8\"], [0.3333333333333333, \"#9c179e\"], [0.4444444444444444, \"#bd3786\"], [0.5555555555555556, \"#d8576b\"], [0.6666666666666666, \"#ed7953\"], [0.7777777777777778, \"#fb9f3a\"], [0.8888888888888888, \"#fdca26\"], [1.0, \"#f0f921\"]], \"type\": \"contour\"}], \"contourcarpet\": [{\"colorbar\": {\"outlinewidth\": 0, \"ticks\": \"\"}, \"type\": \"contourcarpet\"}], \"heatmap\": [{\"colorbar\": {\"outlinewidth\": 0, \"ticks\": \"\"}, \"colorscale\": [[0.0, \"#0d0887\"], [0.1111111111111111, \"#46039f\"], [0.2222222222222222, \"#7201a8\"], [0.3333333333333333, \"#9c179e\"], [0.4444444444444444, \"#bd3786\"], [0.5555555555555556, \"#d8576b\"], [0.6666666666666666, \"#ed7953\"], [0.7777777777777778, \"#fb9f3a\"], [0.8888888888888888, \"#fdca26\"], [1.0, \"#f0f921\"]], \"type\": \"heatmap\"}], \"heatmapgl\": [{\"colorbar\": {\"outlinewidth\": 0, \"ticks\": \"\"}, \"colorscale\": [[0.0, \"#0d0887\"], [0.1111111111111111, \"#46039f\"], [0.2222222222222222, \"#7201a8\"], [0.3333333333333333, \"#9c179e\"], [0.4444444444444444, \"#bd3786\"], [0.5555555555555556, \"#d8576b\"], [0.6666666666666666, \"#ed7953\"], [0.7777777777777778, \"#fb9f3a\"], [0.8888888888888888, \"#fdca26\"], [1.0, \"#f0f921\"]], \"type\": \"heatmapgl\"}], \"histogram\": [{\"marker\": {\"colorbar\": {\"outlinewidth\": 0, \"ticks\": \"\"}}, \"type\": \"histogram\"}], \"histogram2d\": [{\"colorbar\": {\"outlinewidth\": 0, \"ticks\": \"\"}, \"colorscale\": [[0.0, \"#0d0887\"], [0.1111111111111111, \"#46039f\"], [0.2222222222222222, \"#7201a8\"], [0.3333333333333333, \"#9c179e\"], [0.4444444444444444, \"#bd3786\"], [0.5555555555555556, \"#d8576b\"], [0.6666666666666666, \"#ed7953\"], [0.7777777777777778, \"#fb9f3a\"], [0.8888888888888888, \"#fdca26\"], [1.0, \"#f0f921\"]], \"type\": \"histogram2d\"}], \"histogram2dcontour\": [{\"colorbar\": {\"outlinewidth\": 0, \"ticks\": \"\"}, \"colorscale\": [[0.0, \"#0d0887\"], [0.1111111111111111, \"#46039f\"], [0.2222222222222222, \"#7201a8\"], [0.3333333333333333, \"#9c179e\"], [0.4444444444444444, \"#bd3786\"], [0.5555555555555556, \"#d8576b\"], [0.6666666666666666, \"#ed7953\"], [0.7777777777777778, \"#fb9f3a\"], [0.8888888888888888, \"#fdca26\"], [1.0, \"#f0f921\"]], \"type\": \"histogram2dcontour\"}], \"mesh3d\": [{\"colorbar\": {\"outlinewidth\": 0, \"ticks\": \"\"}, \"type\": \"mesh3d\"}], \"parcoords\": [{\"line\": {\"colorbar\": {\"outlinewidth\": 0, \"ticks\": \"\"}}, \"type\": \"parcoords\"}], \"pie\": [{\"automargin\": true, \"type\": \"pie\"}], \"scatter\": [{\"marker\": {\"colorbar\": {\"outlinewidth\": 0, \"ticks\": \"\"}}, \"type\": \"scatter\"}], \"scatter3d\": [{\"line\": {\"colorbar\": {\"outlinewidth\": 0, \"ticks\": \"\"}}, \"marker\": {\"colorbar\": {\"outlinewidth\": 0, \"ticks\": \"\"}}, \"type\": \"scatter3d\"}], \"scattercarpet\": [{\"marker\": {\"colorbar\": {\"outlinewidth\": 0, \"ticks\": \"\"}}, \"type\": \"scattercarpet\"}], \"scattergeo\": [{\"marker\": {\"colorbar\": {\"outlinewidth\": 0, \"ticks\": \"\"}}, \"type\": \"scattergeo\"}], \"scattergl\": [{\"marker\": {\"colorbar\": {\"outlinewidth\": 0, \"ticks\": \"\"}}, \"type\": \"scattergl\"}], \"scattermapbox\": [{\"marker\": {\"colorbar\": {\"outlinewidth\": 0, \"ticks\": \"\"}}, \"type\": \"scattermapbox\"}], \"scatterpolar\": [{\"marker\": {\"colorbar\": {\"outlinewidth\": 0, \"ticks\": \"\"}}, \"type\": \"scatterpolar\"}], \"scatterpolargl\": [{\"marker\": {\"colorbar\": {\"outlinewidth\": 0, \"ticks\": \"\"}}, \"type\": \"scatterpolargl\"}], \"scatterternary\": [{\"marker\": {\"colorbar\": {\"outlinewidth\": 0, \"ticks\": \"\"}}, \"type\": \"scatterternary\"}], \"surface\": [{\"colorbar\": {\"outlinewidth\": 0, \"ticks\": \"\"}, \"colorscale\": [[0.0, \"#0d0887\"], [0.1111111111111111, \"#46039f\"], [0.2222222222222222, \"#7201a8\"], [0.3333333333333333, \"#9c179e\"], [0.4444444444444444, \"#bd3786\"], [0.5555555555555556, \"#d8576b\"], [0.6666666666666666, \"#ed7953\"], [0.7777777777777778, \"#fb9f3a\"], [0.8888888888888888, \"#fdca26\"], [1.0, \"#f0f921\"]], \"type\": \"surface\"}], \"table\": [{\"cells\": {\"fill\": {\"color\": \"#EBF0F8\"}, \"line\": {\"color\": \"white\"}}, \"header\": {\"fill\": {\"color\": \"#C8D4E3\"}, \"line\": {\"color\": \"white\"}}, \"type\": \"table\"}]}, \"layout\": {\"annotationdefaults\": {\"arrowcolor\": \"#2a3f5f\", \"arrowhead\": 0, \"arrowwidth\": 1}, \"autotypenumbers\": \"strict\", \"coloraxis\": {\"colorbar\": {\"outlinewidth\": 0, \"ticks\": \"\"}}, \"colorscale\": {\"diverging\": [[0, \"#8e0152\"], [0.1, \"#c51b7d\"], [0.2, \"#de77ae\"], [0.3, \"#f1b6da\"], [0.4, \"#fde0ef\"], [0.5, \"#f7f7f7\"], [0.6, \"#e6f5d0\"], [0.7, \"#b8e186\"], [0.8, \"#7fbc41\"], [0.9, \"#4d9221\"], [1, \"#276419\"]], \"sequential\": [[0.0, \"#0d0887\"], [0.1111111111111111, \"#46039f\"], [0.2222222222222222, \"#7201a8\"], [0.3333333333333333, \"#9c179e\"], [0.4444444444444444, \"#bd3786\"], [0.5555555555555556, \"#d8576b\"], [0.6666666666666666, \"#ed7953\"], [0.7777777777777778, \"#fb9f3a\"], [0.8888888888888888, \"#fdca26\"], [1.0, \"#f0f921\"]], \"sequentialminus\": [[0.0, \"#0d0887\"], [0.1111111111111111, \"#46039f\"], [0.2222222222222222, \"#7201a8\"], [0.3333333333333333, \"#9c179e\"], [0.4444444444444444, \"#bd3786\"], [0.5555555555555556, \"#d8576b\"], [0.6666666666666666, \"#ed7953\"], [0.7777777777777778, \"#fb9f3a\"], [0.8888888888888888, \"#fdca26\"], [1.0, \"#f0f921\"]]}, \"colorway\": [\"#636efa\", \"#EF553B\", \"#00cc96\", \"#ab63fa\", \"#FFA15A\", \"#19d3f3\", \"#FF6692\", \"#B6E880\", \"#FF97FF\", \"#FECB52\"], \"font\": {\"color\": \"#2a3f5f\"}, \"geo\": {\"bgcolor\": \"white\", \"lakecolor\": \"white\", \"landcolor\": \"#E5ECF6\", \"showlakes\": true, \"showland\": true, \"subunitcolor\": \"white\"}, \"hoverlabel\": {\"align\": \"left\"}, \"hovermode\": \"closest\", \"mapbox\": {\"style\": \"light\"}, \"paper_bgcolor\": \"white\", \"plot_bgcolor\": \"#E5ECF6\", \"polar\": {\"angularaxis\": {\"gridcolor\": \"white\", \"linecolor\": \"white\", \"ticks\": \"\"}, \"bgcolor\": \"#E5ECF6\", \"radialaxis\": {\"gridcolor\": \"white\", \"linecolor\": \"white\", \"ticks\": \"\"}}, \"scene\": {\"xaxis\": {\"backgroundcolor\": \"#E5ECF6\", \"gridcolor\": \"white\", \"gridwidth\": 2, \"linecolor\": \"white\", \"showbackground\": true, \"ticks\": \"\", \"zerolinecolor\": \"white\"}, \"yaxis\": {\"backgroundcolor\": \"#E5ECF6\", \"gridcolor\": \"white\", \"gridwidth\": 2, \"linecolor\": \"white\", \"showbackground\": true, \"ticks\": \"\", \"zerolinecolor\": \"white\"}, \"zaxis\": {\"backgroundcolor\": \"#E5ECF6\", \"gridcolor\": \"white\", \"gridwidth\": 2, \"linecolor\": \"white\", \"showbackground\": true, \"ticks\": \"\", \"zerolinecolor\": \"white\"}}, \"shapedefaults\": {\"line\": {\"color\": \"#2a3f5f\"}}, \"ternary\": {\"aaxis\": {\"gridcolor\": \"white\", \"linecolor\": \"white\", \"ticks\": \"\"}, \"baxis\": {\"gridcolor\": \"white\", \"linecolor\": \"white\", \"ticks\": \"\"}, \"bgcolor\": \"#E5ECF6\", \"caxis\": {\"gridcolor\": \"white\", \"linecolor\": \"white\", \"ticks\": \"\"}}, \"title\": {\"x\": 0.05}, \"xaxis\": {\"automargin\": true, \"gridcolor\": \"white\", \"linecolor\": \"white\", \"ticks\": \"\", \"title\": {\"standoff\": 15}, \"zerolinecolor\": \"white\", \"zerolinewidth\": 2}, \"yaxis\": {\"automargin\": true, \"gridcolor\": \"white\", \"linecolor\": \"white\", \"ticks\": \"\", \"title\": {\"standoff\": 15}, \"zerolinecolor\": \"white\", \"zerolinewidth\": 2}}}, \"title\": {\"font\": {\"color\": \"#4D5663\"}}, \"xaxis\": {\"gridcolor\": \"#E1E5ED\", \"showgrid\": true, \"tickfont\": {\"color\": \"#4D5663\"}, \"title\": {\"font\": {\"color\": \"#4D5663\"}, \"text\": \"\"}, \"zerolinecolor\": \"#E1E5ED\"}, \"yaxis\": {\"gridcolor\": \"#E1E5ED\", \"showgrid\": true, \"tickfont\": {\"color\": \"#4D5663\"}, \"title\": {\"font\": {\"color\": \"#4D5663\"}, \"text\": \"\"}, \"zerolinecolor\": \"#E1E5ED\"}},                        {\"showLink\": true, \"linkText\": \"Export to plot.ly\", \"plotlyServerURL\": \"https://plot.ly\", \"responsive\": true}                    ).then(function(){\n",
       "                            \n",
       "var gd = document.getElementById('d148a670-d010-49a8-b4ac-a4e062042af3');\n",
       "var x = new MutationObserver(function (mutations, observer) {{\n",
       "        var display = window.getComputedStyle(gd).display;\n",
       "        if (!display || display === 'none') {{\n",
       "            console.log([gd, 'removed!']);\n",
       "            Plotly.purge(gd);\n",
       "            observer.disconnect();\n",
       "        }}\n",
       "}});\n",
       "\n",
       "// Listen for the removal of the full notebook cells\n",
       "var notebookContainer = gd.closest('#notebook-container');\n",
       "if (notebookContainer) {{\n",
       "    x.observe(notebookContainer, {childList: true});\n",
       "}}\n",
       "\n",
       "// Listen for the clearing of the current output cell\n",
       "var outputEl = gd.closest('.output');\n",
       "if (outputEl) {{\n",
       "    x.observe(outputEl, {childList: true});\n",
       "}}\n",
       "\n",
       "                        })                };                });            </script>        </div>"
      ]
     },
     "metadata": {},
     "output_type": "display_data"
    }
   ],
   "source": [
    "#pands vis\n",
    "\n",
    "data.plot(kind='bar',x='Name of State / UT',y='Active Cases')\n",
    "plt.show()\n",
    "\n",
    "#Plotly\n",
    "data.iplot(kind='bar',x='Name of State / UT',y='Active Cases')"
   ]
  },
  {
   "cell_type": "code",
   "execution_count": 87,
   "id": "62ad7ec1",
   "metadata": {},
   "outputs": [
    {
     "data": {
      "text/plain": [
       "<BarContainer object of 36 artists>"
      ]
     },
     "execution_count": 87,
     "metadata": {},
     "output_type": "execute_result"
    },
    {
     "data": {
      "image/png": "[encoded data removed]",
      "text/plain": [
       "<Figure size 432x288 with 1 Axes>"
      ]
     },
     "metadata": {
      "needs_background": "light"
     },
     "output_type": "display_data"
    }
   ],
   "source": [
    "#Matplotlib vis\n",
    "\n",
    "plt.bar(data['Name of State / UT'],data['Active Cases'])"
   ]
  },
  {
   "cell_type": "code",
   "execution_count": 88,
   "id": "afd9f604",
   "metadata": {},
   "outputs": [
    {
     "data": {
      "application/vnd.plotly.v1+json": {
       "config": {
        "plotlyServerURL": "https://plot.ly"
       },
       "data": [
        {
         "alignmentgroup": "True",
         "hovertemplate": "Name of State / UT=%{x}<br>Active Cases=%{y}<extra></extra>",
         "legendgroup": "",
         "marker": {
          "color": "#636efa"
         },
         "name": "",
         "offsetgroup": "",
         "orientation": "v",
         "showlegend": false,
         "textposition": "auto",
         "type": "bar",
         "x": [
          "Andaman and Nicobar",
          "Andhra Pradesh",
          "Arunachal Pradesh",
          "Assam",
          "Bihar",
          "Chandigarh",
          "Chhattisgarh",
          "Dadra and Nagar Haveli and Daman and Diu",
          "Delhi",
          "Goa",
          "Gujarat",
          "Haryana",
          "Himachal Pradesh",
          "Jammu and Kashmir",
          "Jharkhand",
          "Karnataka",
          "Kerala",
          "Ladakh",
          "Lakshadweep",
          "Maharashtra",
          "Manipur",
          "Meghalaya",
          "Mizoram",
          "Madhya Pradesh",
          "Nagaland",
          "Odisha",
          "Puducherry",
          "Punjab",
          "Rajasthan",
          "Sikkim",
          "Tamil Nadu",
          "Telengana",
          "Tripura",
          "Uttar Pradesh",
          "Uttarakhand",
          "West Bengal"
         ],
         "xaxis": "x",
         "y": [
          7179,
          1814642,
          32033,
          465912,
          708796,
          60442,
          975391,
          10477,
          1406834,
          160398,
          811364,
          757497,
          195993,
          305144,
          338891,
          2751059,
          2749819,
          19483,
          9294,
          5819490,
          60840,
          42496,
          16061,
          780160,
          23504,
          859629,
          111920,
          574130,
          941548,
          18521,
          2358408,
          604404,
          60238,
          1681495,
          330805,
          1454113
         ],
         "yaxis": "y"
        }
       ],
       "layout": {
        "barmode": "relative",
        "legend": {
         "tracegroupgap": 0
        },
        "margin": {
         "t": 60
        },
        "template": {
         "data": {
          "bar": [
           {
            "error_x": {
             "color": "#2a3f5f"
            },
            "error_y": {
             "color": "#2a3f5f"
            },
            "marker": {
             "line": {
              "color": "#E5ECF6",
              "width": 0.5
             }
            },
            "type": "bar"
           }
          ],
          "barpolar": [
           {
            "marker": {
             "line": {
              "color": "#E5ECF6",
              "width": 0.5
             }
            },
            "type": "barpolar"
           }
          ],
          "carpet": [
           {
            "aaxis": {
             "endlinecolor": "#2a3f5f",
             "gridcolor": "white",
             "linecolor": "white",
             "minorgridcolor": "white",
             "startlinecolor": "#2a3f5f"
            },
            "baxis": {
             "endlinecolor": "#2a3f5f",
             "gridcolor": "white",
             "linecolor": "white",
             "minorgridcolor": "white",
             "startlinecolor": "#2a3f5f"
            },
            "type": "carpet"
           }
          ],
          "choropleth": [
           {
            "colorbar": {
             "outlinewidth": 0,
             "ticks": ""
            },
            "type": "choropleth"
           }
          ],
          "contour": [
           {
            "colorbar": {
             "outlinewidth": 0,
             "ticks": ""
            },
            "colorscale": [
             [
              0,
              "#0d0887"
             ],
             [
              0.1111111111111111,
              "#46039f"
             ],
             [
              0.2222222222222222,
              "#7201a8"
             ],
             [
              0.3333333333333333,
              "#9c179e"
             ],
             [
              0.4444444444444444,
              "#bd3786"
             ],
             [
              0.5555555555555556,
              "#d8576b"
             ],
             [
              0.6666666666666666,
              "#ed7953"
             ],
             [
              0.7777777777777778,
              "#fb9f3a"
             ],
             [
              0.8888888888888888,
              "#fdca26"
             ],
             [
              1,
              "#f0f921"
             ]
            ],
            "type": "contour"
           }
          ],
          "contourcarpet": [
           {
            "colorbar": {
             "outlinewidth": 0,
             "ticks": ""
            },
            "type": "contourcarpet"
           }
          ],
          "heatmap": [
           {
            "colorbar": {
             "outlinewidth": 0,
             "ticks": ""
            },
            "colorscale": [
             [
              0,
              "#0d0887"
             ],
             [
              0.1111111111111111,
              "#46039f"
             ],
             [
              0.2222222222222222,
              "#7201a8"
             ],
             [
              0.3333333333333333,
              "#9c179e"
             ],
             [
              0.4444444444444444,
              "#bd3786"
             ],
             [
              0.5555555555555556,
              "#d8576b"
             ],
             [
              0.6666666666666666,
              "#ed7953"
             ],
             [
              0.7777777777777778,
              "#fb9f3a"
             ],
             [
              0.8888888888888888,
              "#fdca26"
             ],
             [
              1,
              "#f0f921"
             ]
            ],
            "type": "heatmap"
           }
          ],
          "heatmapgl": [
           {
            "colorbar": {
             "outlinewidth": 0,
             "ticks": ""
            },
            "colorscale": [
             [
              0,
              "#0d0887"
             ],
             [
              0.1111111111111111,
              "#46039f"
             ],
             [
              0.2222222222222222,
              "#7201a8"
             ],
             [
              0.3333333333333333,
              "#9c179e"
             ],
             [
              0.4444444444444444,
              "#bd3786"
             ],
             [
              0.5555555555555556,
              "#d8576b"
             ],
             [
              0.6666666666666666,
              "#ed7953"
             ],
             [
              0.7777777777777778,
              "#fb9f3a"
             ],
             [
              0.8888888888888888,
              "#fdca26"
             ],
             [
              1,
              "#f0f921"
             ]
            ],
            "type": "heatmapgl"
           }
          ],
          "histogram": [
           {
            "marker": {
             "colorbar": {
              "outlinewidth": 0,
              "ticks": ""
             }
            },
            "type": "histogram"
           }
          ],
          "histogram2d": [
           {
            "colorbar": {
             "outlinewidth": 0,
             "ticks": ""
            },
            "colorscale": [
             [
              0,
              "#0d0887"
             ],
             [
              0.1111111111111111,
              "#46039f"
             ],
             [
              0.2222222222222222,
              "#7201a8"
             ],
             [
              0.3333333333333333,
              "#9c179e"
             ],
             [
              0.4444444444444444,
              "#bd3786"
             ],
             [
              0.5555555555555556,
              "#d8576b"
             ],
             [
              0.6666666666666666,
              "#ed7953"
             ],
             [
              0.7777777777777778,
              "#fb9f3a"
             ],
             [
              0.8888888888888888,
              "#fdca26"
             ],
             [
              1,
              "#f0f921"
             ]
            ],
            "type": "histogram2d"
           }
          ],
          "histogram2dcontour": [
           {
            "colorbar": {
             "outlinewidth": 0,
             "ticks": ""
            },
            "colorscale": [
             [
              0,
              "#0d0887"
             ],
             [
              0.1111111111111111,
              "#46039f"
             ],
             [
              0.2222222222222222,
              "#7201a8"
             ],
             [
              0.3333333333333333,
              "#9c179e"
             ],
             [
              0.4444444444444444,
              "#bd3786"
             ],
             [
              0.5555555555555556,
              "#d8576b"
             ],
             [
              0.6666666666666666,
              "#ed7953"
             ],
             [
              0.7777777777777778,
              "#fb9f3a"
             ],
             [
              0.8888888888888888,
              "#fdca26"
             ],
             [
              1,
              "#f0f921"
             ]
            ],
            "type": "histogram2dcontour"
           }
          ],
          "mesh3d": [
           {
            "colorbar": {
             "outlinewidth": 0,
             "ticks": ""
            },
            "type": "mesh3d"
           }
          ],
          "parcoords": [
           {
            "line": {
             "colorbar": {
              "outlinewidth": 0,
              "ticks": ""
             }
            },
            "type": "parcoords"
           }
          ],
          "pie": [
           {
            "automargin": true,
            "type": "pie"
           }
          ],
          "scatter": [
           {
            "marker": {
             "colorbar": {
              "outlinewidth": 0,
              "ticks": ""
             }
            },
            "type": "scatter"
           }
          ],
          "scatter3d": [
           {
            "line": {
             "colorbar": {
              "outlinewidth": 0,
              "ticks": ""
             }
            },
            "marker": {
             "colorbar": {
              "outlinewidth": 0,
              "ticks": ""
             }
            },
            "type": "scatter3d"
           }
          ],
          "scattercarpet": [
           {
            "marker": {
             "colorbar": {
              "outlinewidth": 0,
              "ticks": ""
             }
            },
            "type": "scattercarpet"
           }
          ],
          "scattergeo": [
           {
            "marker": {
             "colorbar": {
              "outlinewidth": 0,
              "ticks": ""
             }
            },
            "type": "scattergeo"
           }
          ],
          "scattergl": [
           {
            "marker": {
             "colorbar": {
              "outlinewidth": 0,
              "ticks": ""
             }
            },
            "type": "scattergl"
           }
          ],
          "scattermapbox": [
           {
            "marker": {
             "colorbar": {
              "outlinewidth": 0,
              "ticks": ""
             }
            },
            "type": "scattermapbox"
           }
          ],
          "scatterpolar": [
           {
            "marker": {
             "colorbar": {
              "outlinewidth": 0,
              "ticks": ""
             }
            },
            "type": "scatterpolar"
           }
          ],
          "scatterpolargl": [
           {
            "marker": {
             "colorbar": {
              "outlinewidth": 0,
              "ticks": ""
             }
            },
            "type": "scatterpolargl"
           }
          ],
          "scatterternary": [
           {
            "marker": {
             "colorbar": {
              "outlinewidth": 0,
              "ticks": ""
             }
            },
            "type": "scatterternary"
           }
          ],
          "surface": [
           {
            "colorbar": {
             "outlinewidth": 0,
             "ticks": ""
            },
            "colorscale": [
             [
              0,
              "#0d0887"
             ],
             [
              0.1111111111111111,
              "#46039f"
             ],
             [
              0.2222222222222222,
              "#7201a8"
             ],
             [
              0.3333333333333333,
              "#9c179e"
             ],
             [
              0.4444444444444444,
              "#bd3786"
             ],
             [
              0.5555555555555556,
              "#d8576b"
             ],
             [
              0.6666666666666666,
              "#ed7953"
             ],
             [
              0.7777777777777778,
              "#fb9f3a"
             ],
             [
              0.8888888888888888,
              "#fdca26"
             ],
             [
              1,
              "#f0f921"
             ]
            ],
            "type": "surface"
           }
          ],
          "table": [
           {
            "cells": {
             "fill": {
              "color": "#EBF0F8"
             },
             "line": {
              "color": "white"
             }
            },
            "header": {
             "fill": {
              "color": "#C8D4E3"
             },
             "line": {
              "color": "white"
             }
            },
            "type": "table"
           }
          ]
         },
         "layout": {
          "annotationdefaults": {
           "arrowcolor": "#2a3f5f",
           "arrowhead": 0,
           "arrowwidth": 1
          },
          "autotypenumbers": "strict",
          "coloraxis": {
           "colorbar": {
            "outlinewidth": 0,
            "ticks": ""
           }
          },
          "colorscale": {
           "diverging": [
            [
             0,
             "#8e0152"
            ],
            [
             0.1,
             "#c51b7d"
            ],
            [
             0.2,
             "#de77ae"
            ],
            [
             0.3,
             "#f1b6da"
            ],
            [
             0.4,
             "#fde0ef"
            ],
            [
             0.5,
             "#f7f7f7"
            ],
            [
             0.6,
             "#e6f5d0"
            ],
            [
             0.7,
             "#b8e186"
            ],
            [
             0.8,
             "#7fbc41"
            ],
            [
             0.9,
             "#4d9221"
            ],
            [
             1,
             "#276419"
            ]
           ],
           "sequential": [
            [
             0,
             "#0d0887"
            ],
            [
             0.1111111111111111,
             "#46039f"
            ],
            [
             0.2222222222222222,
             "#7201a8"
            ],
            [
             0.3333333333333333,
             "#9c179e"
            ],
            [
             0.4444444444444444,
             "#bd3786"
            ],
            [
             0.5555555555555556,
             "#d8576b"
            ],
            [
             0.6666666666666666,
             "#ed7953"
            ],
            [
             0.7777777777777778,
             "#fb9f3a"
            ],
            [
             0.8888888888888888,
             "#fdca26"
            ],
            [
             1,
             "#f0f921"
            ]
           ],
           "sequentialminus": [
            [
             0,
             "#0d0887"
            ],
            [
             0.1111111111111111,
             "#46039f"
            ],
            [
             0.2222222222222222,
             "#7201a8"
            ],
            [
             0.3333333333333333,
             "#9c179e"
            ],
            [
             0.4444444444444444,
             "#bd3786"
            ],
            [
             0.5555555555555556,
             "#d8576b"
            ],
            [
             0.6666666666666666,
             "#ed7953"
            ],
            [
             0.7777777777777778,
             "#fb9f3a"
            ],
            [
             0.8888888888888888,
             "#fdca26"
            ],
            [
             1,
             "#f0f921"
            ]
           ]
          },
          "colorway": [
           "#636efa",
           "#EF553B",
           "#00cc96",
           "#ab63fa",
           "#FFA15A",
           "#19d3f3",
           "#FF6692",
           "#B6E880",
           "#FF97FF",
           "#FECB52"
          ],
          "font": {
           "color": "#2a3f5f"
          },
          "geo": {
           "bgcolor": "white",
           "lakecolor": "white",
           "landcolor": "#E5ECF6",
           "showlakes": true,
           "showland": true,
           "subunitcolor": "white"
          },
          "hoverlabel": {
           "align": "left"
          },
          "hovermode": "closest",
          "mapbox": {
           "style": "light"
          },
          "paper_bgcolor": "white",
          "plot_bgcolor": "#E5ECF6",
          "polar": {
           "angularaxis": {
            "gridcolor": "white",
            "linecolor": "white",
            "ticks": ""
           },
           "bgcolor": "#E5ECF6",
           "radialaxis": {
            "gridcolor": "white",
            "linecolor": "white",
            "ticks": ""
           }
          },
          "scene": {
           "xaxis": {
            "backgroundcolor": "#E5ECF6",
            "gridcolor": "white",
            "gridwidth": 2,
            "linecolor": "white",
            "showbackground": true,
            "ticks": "",
            "zerolinecolor": "white"
           },
           "yaxis": {
            "backgroundcolor": "#E5ECF6",
            "gridcolor": "white",
            "gridwidth": 2,
            "linecolor": "white",
            "showbackground": true,
            "ticks": "",
            "zerolinecolor": "white"
           },
           "zaxis": {
            "backgroundcolor": "#E5ECF6",
            "gridcolor": "white",
            "gridwidth": 2,
            "linecolor": "white",
            "showbackground": true,
            "ticks": "",
            "zerolinecolor": "white"
           }
          },
          "shapedefaults": {
           "line": {
            "color": "#2a3f5f"
           }
          },
          "ternary": {
           "aaxis": {
            "gridcolor": "white",
            "linecolor": "white",
            "ticks": ""
           },
           "baxis": {
            "gridcolor": "white",
            "linecolor": "white",
            "ticks": ""
           },
           "bgcolor": "#E5ECF6",
           "caxis": {
            "gridcolor": "white",
            "linecolor": "white",
            "ticks": ""
           }
          },
          "title": {
           "x": 0.05
          },
          "xaxis": {
           "automargin": true,
           "gridcolor": "white",
           "linecolor": "white",
           "ticks": "",
           "title": {
            "standoff": 15
           },
           "zerolinecolor": "white",
           "zerolinewidth": 2
          },
          "yaxis": {
           "automargin": true,
           "gridcolor": "white",
           "linecolor": "white",
           "ticks": "",
           "title": {
            "standoff": 15
           },
           "zerolinecolor": "white",
           "zerolinewidth": 2
          }
         }
        },
        "xaxis": {
         "anchor": "y",
         "domain": [
          0,
          1
         ],
         "title": {
          "text": "Name of State / UT"
         }
        },
        "yaxis": {
         "anchor": "x",
         "domain": [
          0,
          1
         ],
         "title": {
          "text": "Active Cases"
         }
        }
       }
      },
      "text/html": [
       "<div>                            <div id=\"e6e3bbb6-cf93-47a9-9b6e-f5090bd30431\" class=\"plotly-graph-div\" style=\"height:525px; width:100%;\"></div>            <script type=\"text/javascript\">                require([\"plotly\"], function(Plotly) {                    window.PLOTLYENV=window.PLOTLYENV || {};                                    if (document.getElementById(\"e6e3bbb6-cf93-47a9-9b6e-f5090bd30431\")) {                    Plotly.newPlot(                        \"e6e3bbb6-cf93-47a9-9b6e-f5090bd30431\",                        [{\"alignmentgroup\": \"True\", \"hovertemplate\": \"Name of State / UT=%{x}<br>Active Cases=%{y}<extra></extra>\", \"legendgroup\": \"\", \"marker\": {\"color\": \"#636efa\"}, \"name\": \"\", \"offsetgroup\": \"\", \"orientation\": \"v\", \"showlegend\": false, \"textposition\": \"auto\", \"type\": \"bar\", \"x\": [\"Andaman and Nicobar\", \"Andhra Pradesh\", \"Arunachal Pradesh\", \"Assam\", \"Bihar\", \"Chandigarh\", \"Chhattisgarh\", \"Dadra and Nagar Haveli and Daman and Diu\", \"Delhi\", \"Goa\", \"Gujarat\", \"Haryana\", \"Himachal Pradesh\", \"Jammu and Kashmir\", \"Jharkhand\", \"Karnataka\", \"Kerala\", \"Ladakh\", \"Lakshadweep\", \"Maharashtra\", \"Manipur\", \"Meghalaya\", \"Mizoram\", \"Madhya Pradesh\", \"Nagaland\", \"Odisha\", \"Puducherry\", \"Punjab\", \"Rajasthan\", \"Sikkim\", \"Tamil Nadu\", \"Telengana\", \"Tripura\", \"Uttar Pradesh\", \"Uttarakhand\", \"West Bengal\"], \"xaxis\": \"x\", \"y\": [7179, 1814642, 32033, 465912, 708796, 60442, 975391, 10477, 1406834, 160398, 811364, 757497, 195993, 305144, 338891, 2751059, 2749819, 19483, 9294, 5819490, 60840, 42496, 16061, 780160, 23504, 859629, 111920, 574130, 941548, 18521, 2358408, 604404, 60238, 1681495, 330805, 1454113], \"yaxis\": \"y\"}],                        {\"barmode\": \"relative\", \"legend\": {\"tracegroupgap\": 0}, \"margin\": {\"t\": 60}, \"template\": {\"data\": {\"bar\": [{\"error_x\": {\"color\": \"#2a3f5f\"}, \"error_y\": {\"color\": \"#2a3f5f\"}, \"marker\": {\"line\": {\"color\": \"#E5ECF6\", \"width\": 0.5}}, \"type\": \"bar\"}], \"barpolar\": [{\"marker\": {\"line\": {\"color\": \"#E5ECF6\", \"width\": 0.5}}, \"type\": \"barpolar\"}], \"carpet\": [{\"aaxis\": {\"endlinecolor\": \"#2a3f5f\", \"gridcolor\": \"white\", \"linecolor\": \"white\", \"minorgridcolor\": \"white\", \"startlinecolor\": \"#2a3f5f\"}, \"baxis\": {\"endlinecolor\": \"#2a3f5f\", \"gridcolor\": \"white\", \"linecolor\": \"white\", \"minorgridcolor\": \"white\", \"startlinecolor\": \"#2a3f5f\"}, \"type\": \"carpet\"}], \"choropleth\": [{\"colorbar\": {\"outlinewidth\": 0, \"ticks\": \"\"}, \"type\": \"choropleth\"}], \"contour\": [{\"colorbar\": {\"outlinewidth\": 0, \"ticks\": \"\"}, \"colorscale\": [[0.0, \"#0d0887\"], [0.1111111111111111, \"#46039f\"], [0.2222222222222222, \"#7201a8\"], [0.3333333333333333, \"#9c179e\"], [0.4444444444444444, \"#bd3786\"], [0.5555555555555556, \"#d8576b\"], [0.6666666666666666, \"#ed7953\"], [0.7777777777777778, \"#fb9f3a\"], [0.8888888888888888, \"#fdca26\"], [1.0, \"#f0f921\"]], \"type\": \"contour\"}], \"contourcarpet\": [{\"colorbar\": {\"outlinewidth\": 0, \"ticks\": \"\"}, \"type\": \"contourcarpet\"}], \"heatmap\": [{\"colorbar\": {\"outlinewidth\": 0, \"ticks\": \"\"}, \"colorscale\": [[0.0, \"#0d0887\"], [0.1111111111111111, \"#46039f\"], [0.2222222222222222, \"#7201a8\"], [0.3333333333333333, \"#9c179e\"], [0.4444444444444444, \"#bd3786\"], [0.5555555555555556, \"#d8576b\"], [0.6666666666666666, \"#ed7953\"], [0.7777777777777778, \"#fb9f3a\"], [0.8888888888888888, \"#fdca26\"], [1.0, \"#f0f921\"]], \"type\": \"heatmap\"}], \"heatmapgl\": [{\"colorbar\": {\"outlinewidth\": 0, \"ticks\": \"\"}, \"colorscale\": [[0.0, \"#0d0887\"], [0.1111111111111111, \"#46039f\"], [0.2222222222222222, \"#7201a8\"], [0.3333333333333333, \"#9c179e\"], [0.4444444444444444, \"#bd3786\"], [0.5555555555555556, \"#d8576b\"], [0.6666666666666666, \"#ed7953\"], [0.7777777777777778, \"#fb9f3a\"], [0.8888888888888888, \"#fdca26\"], [1.0, \"#f0f921\"]], \"type\": \"heatmapgl\"}], \"histogram\": [{\"marker\": {\"colorbar\": {\"outlinewidth\": 0, \"ticks\": \"\"}}, \"type\": \"histogram\"}], \"histogram2d\": [{\"colorbar\": {\"outlinewidth\": 0, \"ticks\": \"\"}, \"colorscale\": [[0.0, \"#0d0887\"], [0.1111111111111111, \"#46039f\"], [0.2222222222222222, \"#7201a8\"], [0.3333333333333333, \"#9c179e\"], [0.4444444444444444, \"#bd3786\"], [0.5555555555555556, \"#d8576b\"], [0.6666666666666666, \"#ed7953\"], [0.7777777777777778, \"#fb9f3a\"], [0.8888888888888888, \"#fdca26\"], [1.0, \"#f0f921\"]], \"type\": \"histogram2d\"}], \"histogram2dcontour\": [{\"colorbar\": {\"outlinewidth\": 0, \"ticks\": \"\"}, \"colorscale\": [[0.0, \"#0d0887\"], [0.1111111111111111, \"#46039f\"], [0.2222222222222222, \"#7201a8\"], [0.3333333333333333, \"#9c179e\"], [0.4444444444444444, \"#bd3786\"], [0.5555555555555556, \"#d8576b\"], [0.6666666666666666, \"#ed7953\"], [0.7777777777777778, \"#fb9f3a\"], [0.8888888888888888, \"#fdca26\"], [1.0, \"#f0f921\"]], \"type\": \"histogram2dcontour\"}], \"mesh3d\": [{\"colorbar\": {\"outlinewidth\": 0, \"ticks\": \"\"}, \"type\": \"mesh3d\"}], \"parcoords\": [{\"line\": {\"colorbar\": {\"outlinewidth\": 0, \"ticks\": \"\"}}, \"type\": \"parcoords\"}], \"pie\": [{\"automargin\": true, \"type\": \"pie\"}], \"scatter\": [{\"marker\": {\"colorbar\": {\"outlinewidth\": 0, \"ticks\": \"\"}}, \"type\": \"scatter\"}], \"scatter3d\": [{\"line\": {\"colorbar\": {\"outlinewidth\": 0, \"ticks\": \"\"}}, \"marker\": {\"colorbar\": {\"outlinewidth\": 0, \"ticks\": \"\"}}, \"type\": \"scatter3d\"}], \"scattercarpet\": [{\"marker\": {\"colorbar\": {\"outlinewidth\": 0, \"ticks\": \"\"}}, \"type\": \"scattercarpet\"}], \"scattergeo\": [{\"marker\": {\"colorbar\": {\"outlinewidth\": 0, \"ticks\": \"\"}}, \"type\": \"scattergeo\"}], \"scattergl\": [{\"marker\": {\"colorbar\": {\"outlinewidth\": 0, \"ticks\": \"\"}}, \"type\": \"scattergl\"}], \"scattermapbox\": [{\"marker\": {\"colorbar\": {\"outlinewidth\": 0, \"ticks\": \"\"}}, \"type\": \"scattermapbox\"}], \"scatterpolar\": [{\"marker\": {\"colorbar\": {\"outlinewidth\": 0, \"ticks\": \"\"}}, \"type\": \"scatterpolar\"}], \"scatterpolargl\": [{\"marker\": {\"colorbar\": {\"outlinewidth\": 0, \"ticks\": \"\"}}, \"type\": \"scatterpolargl\"}], \"scatterternary\": [{\"marker\": {\"colorbar\": {\"outlinewidth\": 0, \"ticks\": \"\"}}, \"type\": \"scatterternary\"}], \"surface\": [{\"colorbar\": {\"outlinewidth\": 0, \"ticks\": \"\"}, \"colorscale\": [[0.0, \"#0d0887\"], [0.1111111111111111, \"#46039f\"], [0.2222222222222222, \"#7201a8\"], [0.3333333333333333, \"#9c179e\"], [0.4444444444444444, \"#bd3786\"], [0.5555555555555556, \"#d8576b\"], [0.6666666666666666, \"#ed7953\"], [0.7777777777777778, \"#fb9f3a\"], [0.8888888888888888, \"#fdca26\"], [1.0, \"#f0f921\"]], \"type\": \"surface\"}], \"table\": [{\"cells\": {\"fill\": {\"color\": \"#EBF0F8\"}, \"line\": {\"color\": \"white\"}}, \"header\": {\"fill\": {\"color\": \"#C8D4E3\"}, \"line\": {\"color\": \"white\"}}, \"type\": \"table\"}]}, \"layout\": {\"annotationdefaults\": {\"arrowcolor\": \"#2a3f5f\", \"arrowhead\": 0, \"arrowwidth\": 1}, \"autotypenumbers\": \"strict\", \"coloraxis\": {\"colorbar\": {\"outlinewidth\": 0, \"ticks\": \"\"}}, \"colorscale\": {\"diverging\": [[0, \"#8e0152\"], [0.1, \"#c51b7d\"], [0.2, \"#de77ae\"], [0.3, \"#f1b6da\"], [0.4, \"#fde0ef\"], [0.5, \"#f7f7f7\"], [0.6, \"#e6f5d0\"], [0.7, \"#b8e186\"], [0.8, \"#7fbc41\"], [0.9, \"#4d9221\"], [1, \"#276419\"]], \"sequential\": [[0.0, \"#0d0887\"], [0.1111111111111111, \"#46039f\"], [0.2222222222222222, \"#7201a8\"], [0.3333333333333333, \"#9c179e\"], [0.4444444444444444, \"#bd3786\"], [0.5555555555555556, \"#d8576b\"], [0.6666666666666666, \"#ed7953\"], [0.7777777777777778, \"#fb9f3a\"], [0.8888888888888888, \"#fdca26\"], [1.0, \"#f0f921\"]], \"sequentialminus\": [[0.0, \"#0d0887\"], [0.1111111111111111, \"#46039f\"], [0.2222222222222222, \"#7201a8\"], [0.3333333333333333, \"#9c179e\"], [0.4444444444444444, \"#bd3786\"], [0.5555555555555556, \"#d8576b\"], [0.6666666666666666, \"#ed7953\"], [0.7777777777777778, \"#fb9f3a\"], [0.8888888888888888, \"#fdca26\"], [1.0, \"#f0f921\"]]}, \"colorway\": [\"#636efa\", \"#EF553B\", \"#00cc96\", \"#ab63fa\", \"#FFA15A\", \"#19d3f3\", \"#FF6692\", \"#B6E880\", \"#FF97FF\", \"#FECB52\"], \"font\": {\"color\": \"#2a3f5f\"}, \"geo\": {\"bgcolor\": \"white\", \"lakecolor\": \"white\", \"landcolor\": \"#E5ECF6\", \"showlakes\": true, \"showland\": true, \"subunitcolor\": \"white\"}, \"hoverlabel\": {\"align\": \"left\"}, \"hovermode\": \"closest\", \"mapbox\": {\"style\": \"light\"}, \"paper_bgcolor\": \"white\", \"plot_bgcolor\": \"#E5ECF6\", \"polar\": {\"angularaxis\": {\"gridcolor\": \"white\", \"linecolor\": \"white\", \"ticks\": \"\"}, \"bgcolor\": \"#E5ECF6\", \"radialaxis\": {\"gridcolor\": \"white\", \"linecolor\": \"white\", \"ticks\": \"\"}}, \"scene\": {\"xaxis\": {\"backgroundcolor\": \"#E5ECF6\", \"gridcolor\": \"white\", \"gridwidth\": 2, \"linecolor\": \"white\", \"showbackground\": true, \"ticks\": \"\", \"zerolinecolor\": \"white\"}, \"yaxis\": {\"backgroundcolor\": \"#E5ECF6\", \"gridcolor\": \"white\", \"gridwidth\": 2, \"linecolor\": \"white\", \"showbackground\": true, \"ticks\": \"\", \"zerolinecolor\": \"white\"}, \"zaxis\": {\"backgroundcolor\": \"#E5ECF6\", \"gridcolor\": \"white\", \"gridwidth\": 2, \"linecolor\": \"white\", \"showbackground\": true, \"ticks\": \"\", \"zerolinecolor\": \"white\"}}, \"shapedefaults\": {\"line\": {\"color\": \"#2a3f5f\"}}, \"ternary\": {\"aaxis\": {\"gridcolor\": \"white\", \"linecolor\": \"white\", \"ticks\": \"\"}, \"baxis\": {\"gridcolor\": \"white\", \"linecolor\": \"white\", \"ticks\": \"\"}, \"bgcolor\": \"#E5ECF6\", \"caxis\": {\"gridcolor\": \"white\", \"linecolor\": \"white\", \"ticks\": \"\"}}, \"title\": {\"x\": 0.05}, \"xaxis\": {\"automargin\": true, \"gridcolor\": \"white\", \"linecolor\": \"white\", \"ticks\": \"\", \"title\": {\"standoff\": 15}, \"zerolinecolor\": \"white\", \"zerolinewidth\": 2}, \"yaxis\": {\"automargin\": true, \"gridcolor\": \"white\", \"linecolor\": \"white\", \"ticks\": \"\", \"title\": {\"standoff\": 15}, \"zerolinecolor\": \"white\", \"zerolinewidth\": 2}}}, \"xaxis\": {\"anchor\": \"y\", \"domain\": [0.0, 1.0], \"title\": {\"text\": \"Name of State / UT\"}}, \"yaxis\": {\"anchor\": \"x\", \"domain\": [0.0, 1.0], \"title\": {\"text\": \"Active Cases\"}}},                        {\"responsive\": true}                    ).then(function(){\n",
       "                            \n",
       "var gd = document.getElementById('e6e3bbb6-cf93-47a9-9b6e-f5090bd30431');\n",
       "var x = new MutationObserver(function (mutations, observer) {{\n",
       "        var display = window.getComputedStyle(gd).display;\n",
       "        if (!display || display === 'none') {{\n",
       "            console.log([gd, 'removed!']);\n",
       "            Plotly.purge(gd);\n",
       "            observer.disconnect();\n",
       "        }}\n",
       "}});\n",
       "\n",
       "// Listen for the removal of the full notebook cells\n",
       "var notebookContainer = gd.closest('#notebook-container');\n",
       "if (notebookContainer) {{\n",
       "    x.observe(notebookContainer, {childList: true});\n",
       "}}\n",
       "\n",
       "// Listen for the clearing of the current output cell\n",
       "var outputEl = gd.closest('.output');\n",
       "if (outputEl) {{\n",
       "    x.observe(outputEl, {childList: true});\n",
       "}}\n",
       "\n",
       "                        })                };                });            </script>        </div>"
      ]
     },
     "metadata": {},
     "output_type": "display_data"
    }
   ],
   "source": [
    "px.bar(data,x='Name of State / UT',y='Active Cases')"
   ]
  },
  {
   "cell_type": "code",
   "execution_count": null,
   "id": "a8c677d6",
   "metadata": {},
   "outputs": [],
   "source": []
  },
  {
   "cell_type": "code",
   "execution_count": 89,
   "id": "50958857",
   "metadata": {},
   "outputs": [
    {
     "data": {
      "text/plain": [
       "<AxesSubplot:xlabel='Name of State / UT', ylabel='Active Cases'>"
      ]
     },
     "execution_count": 89,
     "metadata": {},
     "output_type": "execute_result"
    },
    {
     "data": {
      "image/png": "[encoded data removed]",
      "text/plain": [
       "<Figure size 432x288 with 1 Axes>"
      ]
     },
     "metadata": {
      "needs_background": "light"
     },
     "output_type": "display_data"
    }
   ],
   "source": [
    "#Using pandas Functions\n",
    "data.plot(kind='scatter',x='Name of State / UT',y='Active Cases')"
   ]
  },
  {
   "cell_type": "code",
   "execution_count": 90,
   "id": "1d0ecdda",
   "metadata": {},
   "outputs": [
    {
     "data": {
      "text/plain": [
       "<matplotlib.collections.PathCollection at 0x286c45d3a30>"
      ]
     },
     "execution_count": 90,
     "metadata": {},
     "output_type": "execute_result"
    },
    {
     "data": {
      "image/png": "[encoded data removed]",
      "text/plain": [
       "<Figure size 432x288 with 1 Axes>"
      ]
     },
     "metadata": {
      "needs_background": "light"
     },
     "output_type": "display_data"
    }
   ],
   "source": [
    "plt.scatter(data['Name of State / UT'],data['Active Cases'])"
   ]
  },
  {
   "cell_type": "code",
   "execution_count": 91,
   "id": "9264932f",
   "metadata": {},
   "outputs": [
    {
     "data": {
      "application/vnd.plotly.v1+json": {
       "config": {
        "linkText": "Export to plot.ly",
        "plotlyServerURL": "https://plot.ly",
        "showLink": true
       },
       "data": [
        {
         "line": {
          "color": "rgba(255, 0, 136, 1.0)",
          "dash": "solid",
          "shape": "linear",
          "width": 1.3
         },
         "marker": {
          "size": 20,
          "symbol": "circle"
         },
         "mode": "markers+lines",
         "name": "Active Cases",
         "text": "",
         "type": "scatter",
         "x": [
          "Andaman and Nicobar",
          "Andhra Pradesh",
          "Arunachal Pradesh",
          "Assam",
          "Bihar",
          "Chandigarh",
          "Chhattisgarh",
          "Dadra and Nagar Haveli and Daman and Diu",
          "Delhi",
          "Goa",
          "Gujarat",
          "Haryana",
          "Himachal Pradesh",
          "Jammu and Kashmir",
          "Jharkhand",
          "Karnataka",
          "Kerala",
          "Ladakh",
          "Lakshadweep",
          "Maharashtra",
          "Manipur",
          "Meghalaya",
          "Mizoram",
          "Madhya Pradesh",
          "Nagaland",
          "Odisha",
          "Puducherry",
          "Punjab",
          "Rajasthan",
          "Sikkim",
          "Tamil Nadu",
          "Telengana",
          "Tripura",
          "Uttar Pradesh",
          "Uttarakhand",
          "West Bengal"
         ],
         "y": [
          7179,
          1814642,
          32033,
          465912,
          708796,
          60442,
          975391,
          10477,
          1406834,
          160398,
          811364,
          757497,
          195993,
          305144,
          338891,
          2751059,
          2749819,
          19483,
          9294,
          5819490,
          60840,
          42496,
          16061,
          780160,
          23504,
          859629,
          111920,
          574130,
          941548,
          18521,
          2358408,
          604404,
          60238,
          1681495,
          330805,
          1454113
         ]
        }
       ],
       "layout": {
        "legend": {
         "bgcolor": "#F5F6F9",
         "font": {
          "color": "#4D5663"
         }
        },
        "paper_bgcolor": "#F5F6F9",
        "plot_bgcolor": "#F5F6F9",
        "template": {
         "data": {
          "bar": [
           {
            "error_x": {
             "color": "#2a3f5f"
            },
            "error_y": {
             "color": "#2a3f5f"
            },
            "marker": {
             "line": {
              "color": "#E5ECF6",
              "width": 0.5
             }
            },
            "type": "bar"
           }
          ],
          "barpolar": [
           {
            "marker": {
             "line": {
              "color": "#E5ECF6",
              "width": 0.5
             }
            },
            "type": "barpolar"
           }
          ],
          "carpet": [
           {
            "aaxis": {
             "endlinecolor": "#2a3f5f",
             "gridcolor": "white",
             "linecolor": "white",
             "minorgridcolor": "white",
             "startlinecolor": "#2a3f5f"
            },
            "baxis": {
             "endlinecolor": "#2a3f5f",
             "gridcolor": "white",
             "linecolor": "white",
             "minorgridcolor": "white",
             "startlinecolor": "#2a3f5f"
            },
            "type": "carpet"
           }
          ],
          "choropleth": [
           {
            "colorbar": {
             "outlinewidth": 0,
             "ticks": ""
            },
            "type": "choropleth"
           }
          ],
          "contour": [
           {
            "colorbar": {
             "outlinewidth": 0,
             "ticks": ""
            },
            "colorscale": [
             [
              0,
              "#0d0887"
             ],
             [
              0.1111111111111111,
              "#46039f"
             ],
             [
              0.2222222222222222,
              "#7201a8"
             ],
             [
              0.3333333333333333,
              "#9c179e"
             ],
             [
              0.4444444444444444,
              "#bd3786"
             ],
             [
              0.5555555555555556,
              "#d8576b"
             ],
             [
              0.6666666666666666,
              "#ed7953"
             ],
             [
              0.7777777777777778,
              "#fb9f3a"
             ],
             [
              0.8888888888888888,
              "#fdca26"
             ],
             [
              1,
              "#f0f921"
             ]
            ],
            "type": "contour"
           }
          ],
          "contourcarpet": [
           {
            "colorbar": {
             "outlinewidth": 0,
             "ticks": ""
            },
            "type": "contourcarpet"
           }
          ],
          "heatmap": [
           {
            "colorbar": {
             "outlinewidth": 0,
             "ticks": ""
            },
            "colorscale": [
             [
              0,
              "#0d0887"
             ],
             [
              0.1111111111111111,
              "#46039f"
             ],
             [
              0.2222222222222222,
              "#7201a8"
             ],
             [
              0.3333333333333333,
              "#9c179e"
             ],
             [
              0.4444444444444444,
              "#bd3786"
             ],
             [
              0.5555555555555556,
              "#d8576b"
             ],
             [
              0.6666666666666666,
              "#ed7953"
             ],
             [
              0.7777777777777778,
              "#fb9f3a"
             ],
             [
              0.8888888888888888,
              "#fdca26"
             ],
             [
              1,
              "#f0f921"
             ]
            ],
            "type": "heatmap"
           }
          ],
          "heatmapgl": [
           {
            "colorbar": {
             "outlinewidth": 0,
             "ticks": ""
            },
            "colorscale": [
             [
              0,
              "#0d0887"
             ],
             [
              0.1111111111111111,
              "#46039f"
             ],
             [
              0.2222222222222222,
              "#7201a8"
             ],
             [
              0.3333333333333333,
              "#9c179e"
             ],
             [
              0.4444444444444444,
              "#bd3786"
             ],
             [
              0.5555555555555556,
              "#d8576b"
             ],
             [
              0.6666666666666666,
              "#ed7953"
             ],
             [
              0.7777777777777778,
              "#fb9f3a"
             ],
             [
              0.8888888888888888,
              "#fdca26"
             ],
             [
              1,
              "#f0f921"
             ]
            ],
            "type": "heatmapgl"
           }
          ],
          "histogram": [
           {
            "marker": {
             "colorbar": {
              "outlinewidth": 0,
              "ticks": ""
             }
            },
            "type": "histogram"
           }
          ],
          "histogram2d": [
           {
            "colorbar": {
             "outlinewidth": 0,
             "ticks": ""
            },
            "colorscale": [
             [
              0,
              "#0d0887"
             ],
             [
              0.1111111111111111,
              "#46039f"
             ],
             [
              0.2222222222222222,
              "#7201a8"
             ],
             [
              0.3333333333333333,
              "#9c179e"
             ],
             [
              0.4444444444444444,
              "#bd3786"
             ],
             [
              0.5555555555555556,
              "#d8576b"
             ],
             [
              0.6666666666666666,
              "#ed7953"
             ],
             [
              0.7777777777777778,
              "#fb9f3a"
             ],
             [
              0.8888888888888888,
              "#fdca26"
             ],
             [
              1,
              "#f0f921"
             ]
            ],
            "type": "histogram2d"
           }
          ],
          "histogram2dcontour": [
           {
            "colorbar": {
             "outlinewidth": 0,
             "ticks": ""
            },
            "colorscale": [
             [
              0,
              "#0d0887"
             ],
             [
              0.1111111111111111,
              "#46039f"
             ],
             [
              0.2222222222222222,
              "#7201a8"
             ],
             [
              0.3333333333333333,
              "#9c179e"
             ],
             [
              0.4444444444444444,
              "#bd3786"
             ],
             [
              0.5555555555555556,
              "#d8576b"
             ],
             [
              0.6666666666666666,
              "#ed7953"
             ],
             [
              0.7777777777777778,
              "#fb9f3a"
             ],
             [
              0.8888888888888888,
              "#fdca26"
             ],
             [
              1,
              "#f0f921"
             ]
            ],
            "type": "histogram2dcontour"
           }
          ],
          "mesh3d": [
           {
            "colorbar": {
             "outlinewidth": 0,
             "ticks": ""
            },
            "type": "mesh3d"
           }
          ],
          "parcoords": [
           {
            "line": {
             "colorbar": {
              "outlinewidth": 0,
              "ticks": ""
             }
            },
            "type": "parcoords"
           }
          ],
          "pie": [
           {
            "automargin": true,
            "type": "pie"
           }
          ],
          "scatter": [
           {
            "marker": {
             "colorbar": {
              "outlinewidth": 0,
              "ticks": ""
             }
            },
            "type": "scatter"
           }
          ],
          "scatter3d": [
           {
            "line": {
             "colorbar": {
              "outlinewidth": 0,
              "ticks": ""
             }
            },
            "marker": {
             "colorbar": {
              "outlinewidth": 0,
              "ticks": ""
             }
            },
            "type": "scatter3d"
           }
          ],
          "scattercarpet": [
           {
            "marker": {
             "colorbar": {
              "outlinewidth": 0,
              "ticks": ""
             }
            },
            "type": "scattercarpet"
           }
          ],
          "scattergeo": [
           {
            "marker": {
             "colorbar": {
              "outlinewidth": 0,
              "ticks": ""
             }
            },
            "type": "scattergeo"
           }
          ],
          "scattergl": [
           {
            "marker": {
             "colorbar": {
              "outlinewidth": 0,
              "ticks": ""
             }
            },
            "type": "scattergl"
           }
          ],
          "scattermapbox": [
           {
            "marker": {
             "colorbar": {
              "outlinewidth": 0,
              "ticks": ""
             }
            },
            "type": "scattermapbox"
           }
          ],
          "scatterpolar": [
           {
            "marker": {
             "colorbar": {
              "outlinewidth": 0,
              "ticks": ""
             }
            },
            "type": "scatterpolar"
           }
          ],
          "scatterpolargl": [
           {
            "marker": {
             "colorbar": {
              "outlinewidth": 0,
              "ticks": ""
             }
            },
            "type": "scatterpolargl"
           }
          ],
          "scatterternary": [
           {
            "marker": {
             "colorbar": {
              "outlinewidth": 0,
              "ticks": ""
             }
            },
            "type": "scatterternary"
           }
          ],
          "surface": [
           {
            "colorbar": {
             "outlinewidth": 0,
             "ticks": ""
            },
            "colorscale": [
             [
              0,
              "#0d0887"
             ],
             [
              0.1111111111111111,
              "#46039f"
             ],
             [
              0.2222222222222222,
              "#7201a8"
             ],
             [
              0.3333333333333333,
              "#9c179e"
             ],
             [
              0.4444444444444444,
              "#bd3786"
             ],
             [
              0.5555555555555556,
              "#d8576b"
             ],
             [
              0.6666666666666666,
              "#ed7953"
             ],
             [
              0.7777777777777778,
              "#fb9f3a"
             ],
             [
              0.8888888888888888,
              "#fdca26"
             ],
             [
              1,
              "#f0f921"
             ]
            ],
            "type": "surface"
           }
          ],
          "table": [
           {
            "cells": {
             "fill": {
              "color": "#EBF0F8"
             },
             "line": {
              "color": "white"
             }
            },
            "header": {
             "fill": {
              "color": "#C8D4E3"
             },
             "line": {
              "color": "white"
             }
            },
            "type": "table"
           }
          ]
         },
         "layout": {
          "annotationdefaults": {
           "arrowcolor": "#2a3f5f",
           "arrowhead": 0,
           "arrowwidth": 1
          },
          "autotypenumbers": "strict",
          "coloraxis": {
           "colorbar": {
            "outlinewidth": 0,
            "ticks": ""
           }
          },
          "colorscale": {
           "diverging": [
            [
             0,
             "#8e0152"
            ],
            [
             0.1,
             "#c51b7d"
            ],
            [
             0.2,
             "#de77ae"
            ],
            [
             0.3,
             "#f1b6da"
            ],
            [
             0.4,
             "#fde0ef"
            ],
            [
             0.5,
             "#f7f7f7"
            ],
            [
             0.6,
             "#e6f5d0"
            ],
            [
             0.7,
             "#b8e186"
            ],
            [
             0.8,
             "#7fbc41"
            ],
            [
             0.9,
             "#4d9221"
            ],
            [
             1,
             "#276419"
            ]
           ],
           "sequential": [
            [
             0,
             "#0d0887"
            ],
            [
             0.1111111111111111,
             "#46039f"
            ],
            [
             0.2222222222222222,
             "#7201a8"
            ],
            [
             0.3333333333333333,
             "#9c179e"
            ],
            [
             0.4444444444444444,
             "#bd3786"
            ],
            [
             0.5555555555555556,
             "#d8576b"
            ],
            [
             0.6666666666666666,
             "#ed7953"
            ],
            [
             0.7777777777777778,
             "#fb9f3a"
            ],
            [
             0.8888888888888888,
             "#fdca26"
            ],
            [
             1,
             "#f0f921"
            ]
           ],
           "sequentialminus": [
            [
             0,
             "#0d0887"
            ],
            [
             0.1111111111111111,
             "#46039f"
            ],
            [
             0.2222222222222222,
             "#7201a8"
            ],
            [
             0.3333333333333333,
             "#9c179e"
            ],
            [
             0.4444444444444444,
             "#bd3786"
            ],
            [
             0.5555555555555556,
             "#d8576b"
            ],
            [
             0.6666666666666666,
             "#ed7953"
            ],
            [
             0.7777777777777778,
             "#fb9f3a"
            ],
            [
             0.8888888888888888,
             "#fdca26"
            ],
            [
             1,
             "#f0f921"
            ]
           ]
          },
          "colorway": [
           "#636efa",
           "#EF553B",
           "#00cc96",
           "#ab63fa",
           "#FFA15A",
           "#19d3f3",
           "#FF6692",
           "#B6E880",
           "#FF97FF",
           "#FECB52"
          ],
          "font": {
           "color": "#2a3f5f"
          },
          "geo": {
           "bgcolor": "white",
           "lakecolor": "white",
           "landcolor": "#E5ECF6",
           "showlakes": true,
           "showland": true,
           "subunitcolor": "white"
          },
          "hoverlabel": {
           "align": "left"
          },
          "hovermode": "closest",
          "mapbox": {
           "style": "light"
          },
          "paper_bgcolor": "white",
          "plot_bgcolor": "#E5ECF6",
          "polar": {
           "angularaxis": {
            "gridcolor": "white",
            "linecolor": "white",
            "ticks": ""
           },
           "bgcolor": "#E5ECF6",
           "radialaxis": {
            "gridcolor": "white",
            "linecolor": "white",
            "ticks": ""
           }
          },
          "scene": {
           "xaxis": {
            "backgroundcolor": "#E5ECF6",
            "gridcolor": "white",
            "gridwidth": 2,
            "linecolor": "white",
            "showbackground": true,
            "ticks": "",
            "zerolinecolor": "white"
           },
           "yaxis": {
            "backgroundcolor": "#E5ECF6",
            "gridcolor": "white",
            "gridwidth": 2,
            "linecolor": "white",
            "showbackground": true,
            "ticks": "",
            "zerolinecolor": "white"
           },
           "zaxis": {
            "backgroundcolor": "#E5ECF6",
            "gridcolor": "white",
            "gridwidth": 2,
            "linecolor": "white",
            "showbackground": true,
            "ticks": "",
            "zerolinecolor": "white"
           }
          },
          "shapedefaults": {
           "line": {
            "color": "#2a3f5f"
           }
          },
          "ternary": {
           "aaxis": {
            "gridcolor": "white",
            "linecolor": "white",
            "ticks": ""
           },
           "baxis": {
            "gridcolor": "white",
            "linecolor": "white",
            "ticks": ""
           },
           "bgcolor": "#E5ECF6",
           "caxis": {
            "gridcolor": "white",
            "linecolor": "white",
            "ticks": ""
           }
          },
          "title": {
           "x": 0.05
          },
          "xaxis": {
           "automargin": true,
           "gridcolor": "white",
           "linecolor": "white",
           "ticks": "",
           "title": {
            "standoff": 15
           },
           "zerolinecolor": "white",
           "zerolinewidth": 2
          },
          "yaxis": {
           "automargin": true,
           "gridcolor": "white",
           "linecolor": "white",
           "ticks": "",
           "title": {
            "standoff": 15
           },
           "zerolinecolor": "white",
           "zerolinewidth": 2
          }
         }
        },
        "title": {
         "font": {
          "color": "#4D5663"
         },
         "text": "My Graph"
        },
        "xaxis": {
         "gridcolor": "#E1E5ED",
         "showgrid": true,
         "tickfont": {
          "color": "#4D5663"
         },
         "title": {
          "font": {
           "color": "#4D5663"
          },
          "text": "Name of State / UT"
         },
         "zerolinecolor": "#E1E5ED"
        },
        "yaxis": {
         "gridcolor": "#E1E5ED",
         "showgrid": true,
         "tickfont": {
          "color": "#4D5663"
         },
         "title": {
          "font": {
           "color": "#4D5663"
          },
          "text": "Active Cases"
         },
         "zerolinecolor": "#E1E5ED"
        }
       }
      },
      "text/html": [
       "<div>                            <div id=\"36fd0bd6-cb4e-4e95-b06e-14f41a2e54d9\" class=\"plotly-graph-div\" style=\"height:525px; width:100%;\"></div>            <script type=\"text/javascript\">                require([\"plotly\"], function(Plotly) {                    window.PLOTLYENV=window.PLOTLYENV || {};\n",
       "                    window.PLOTLYENV.BASE_URL='https://plot.ly';                                    if (document.getElementById(\"36fd0bd6-cb4e-4e95-b06e-14f41a2e54d9\")) {                    Plotly.newPlot(                        \"36fd0bd6-cb4e-4e95-b06e-14f41a2e54d9\",                        [{\"line\": {\"color\": \"rgba(255, 0, 136, 1.0)\", \"dash\": \"solid\", \"shape\": \"linear\", \"width\": 1.3}, \"marker\": {\"size\": 20, \"symbol\": \"circle\"}, \"mode\": \"markers+lines\", \"name\": \"Active Cases\", \"text\": \"\", \"type\": \"scatter\", \"x\": [\"Andaman and Nicobar\", \"Andhra Pradesh\", \"Arunachal Pradesh\", \"Assam\", \"Bihar\", \"Chandigarh\", \"Chhattisgarh\", \"Dadra and Nagar Haveli and Daman and Diu\", \"Delhi\", \"Goa\", \"Gujarat\", \"Haryana\", \"Himachal Pradesh\", \"Jammu and Kashmir\", \"Jharkhand\", \"Karnataka\", \"Kerala\", \"Ladakh\", \"Lakshadweep\", \"Maharashtra\", \"Manipur\", \"Meghalaya\", \"Mizoram\", \"Madhya Pradesh\", \"Nagaland\", \"Odisha\", \"Puducherry\", \"Punjab\", \"Rajasthan\", \"Sikkim\", \"Tamil Nadu\", \"Telengana\", \"Tripura\", \"Uttar Pradesh\", \"Uttarakhand\", \"West Bengal\"], \"y\": [7179, 1814642, 32033, 465912, 708796, 60442, 975391, 10477, 1406834, 160398, 811364, 757497, 195993, 305144, 338891, 2751059, 2749819, 19483, 9294, 5819490, 60840, 42496, 16061, 780160, 23504, 859629, 111920, 574130, 941548, 18521, 2358408, 604404, 60238, 1681495, 330805, 1454113]}],                        {\"legend\": {\"bgcolor\": \"#F5F6F9\", \"font\": {\"color\": \"#4D5663\"}}, \"paper_bgcolor\": \"#F5F6F9\", \"plot_bgcolor\": \"#F5F6F9\", \"template\": {\"data\": {\"bar\": [{\"error_x\": {\"color\": \"#2a3f5f\"}, \"error_y\": {\"color\": \"#2a3f5f\"}, \"marker\": {\"line\": {\"color\": \"#E5ECF6\", \"width\": 0.5}}, \"type\": \"bar\"}], \"barpolar\": [{\"marker\": {\"line\": {\"color\": \"#E5ECF6\", \"width\": 0.5}}, \"type\": \"barpolar\"}], \"carpet\": [{\"aaxis\": {\"endlinecolor\": \"#2a3f5f\", \"gridcolor\": \"white\", \"linecolor\": \"white\", \"minorgridcolor\": \"white\", \"startlinecolor\": \"#2a3f5f\"}, \"baxis\": {\"endlinecolor\": \"#2a3f5f\", \"gridcolor\": \"white\", \"linecolor\": \"white\", \"minorgridcolor\": \"white\", \"startlinecolor\": \"#2a3f5f\"}, \"type\": \"carpet\"}], \"choropleth\": [{\"colorbar\": {\"outlinewidth\": 0, \"ticks\": \"\"}, \"type\": \"choropleth\"}], \"contour\": [{\"colorbar\": {\"outlinewidth\": 0, \"ticks\": \"\"}, \"colorscale\": [[0.0, \"#0d0887\"], [0.1111111111111111, \"#46039f\"], [0.2222222222222222, \"#7201a8\"], [0.3333333333333333, \"#9c179e\"], [0.4444444444444444, \"#bd3786\"], [0.5555555555555556, \"#d8576b\"], [0.6666666666666666, \"#ed7953\"], [0.7777777777777778, \"#fb9f3a\"], [0.8888888888888888, \"#fdca26\"], [1.0, \"#f0f921\"]], \"type\": \"contour\"}], \"contourcarpet\": [{\"colorbar\": {\"outlinewidth\": 0, \"ticks\": \"\"}, \"type\": \"contourcarpet\"}], \"heatmap\": [{\"colorbar\": {\"outlinewidth\": 0, \"ticks\": \"\"}, \"colorscale\": [[0.0, \"#0d0887\"], [0.1111111111111111, \"#46039f\"], [0.2222222222222222, \"#7201a8\"], [0.3333333333333333, \"#9c179e\"], [0.4444444444444444, \"#bd3786\"], [0.5555555555555556, \"#d8576b\"], [0.6666666666666666, \"#ed7953\"], [0.7777777777777778, \"#fb9f3a\"], [0.8888888888888888, \"#fdca26\"], [1.0, \"#f0f921\"]], \"type\": \"heatmap\"}], \"heatmapgl\": [{\"colorbar\": {\"outlinewidth\": 0, \"ticks\": \"\"}, \"colorscale\": [[0.0, \"#0d0887\"], [0.1111111111111111, \"#46039f\"], [0.2222222222222222, \"#7201a8\"], [0.3333333333333333, \"#9c179e\"], [0.4444444444444444, \"#bd3786\"], [0.5555555555555556, \"#d8576b\"], [0.6666666666666666, \"#ed7953\"], [0.7777777777777778, \"#fb9f3a\"], [0.8888888888888888, \"#fdca26\"], [1.0, \"#f0f921\"]], \"type\": \"heatmapgl\"}], \"histogram\": [{\"marker\": {\"colorbar\": {\"outlinewidth\": 0, \"ticks\": \"\"}}, \"type\": \"histogram\"}], \"histogram2d\": [{\"colorbar\": {\"outlinewidth\": 0, \"ticks\": \"\"}, \"colorscale\": [[0.0, \"#0d0887\"], [0.1111111111111111, \"#46039f\"], [0.2222222222222222, \"#7201a8\"], [0.3333333333333333, \"#9c179e\"], [0.4444444444444444, \"#bd3786\"], [0.5555555555555556, \"#d8576b\"], [0.6666666666666666, \"#ed7953\"], [0.7777777777777778, \"#fb9f3a\"], [0.8888888888888888, \"#fdca26\"], [1.0, \"#f0f921\"]], \"type\": \"histogram2d\"}], \"histogram2dcontour\": [{\"colorbar\": {\"outlinewidth\": 0, \"ticks\": \"\"}, \"colorscale\": [[0.0, \"#0d0887\"], [0.1111111111111111, \"#46039f\"], [0.2222222222222222, \"#7201a8\"], [0.3333333333333333, \"#9c179e\"], [0.4444444444444444, \"#bd3786\"], [0.5555555555555556, \"#d8576b\"], [0.6666666666666666, \"#ed7953\"], [0.7777777777777778, \"#fb9f3a\"], [0.8888888888888888, \"#fdca26\"], [1.0, \"#f0f921\"]], \"type\": \"histogram2dcontour\"}], \"mesh3d\": [{\"colorbar\": {\"outlinewidth\": 0, \"ticks\": \"\"}, \"type\": \"mesh3d\"}], \"parcoords\": [{\"line\": {\"colorbar\": {\"outlinewidth\": 0, \"ticks\": \"\"}}, \"type\": \"parcoords\"}], \"pie\": [{\"automargin\": true, \"type\": \"pie\"}], \"scatter\": [{\"marker\": {\"colorbar\": {\"outlinewidth\": 0, \"ticks\": \"\"}}, \"type\": \"scatter\"}], \"scatter3d\": [{\"line\": {\"colorbar\": {\"outlinewidth\": 0, \"ticks\": \"\"}}, \"marker\": {\"colorbar\": {\"outlinewidth\": 0, \"ticks\": \"\"}}, \"type\": \"scatter3d\"}], \"scattercarpet\": [{\"marker\": {\"colorbar\": {\"outlinewidth\": 0, \"ticks\": \"\"}}, \"type\": \"scattercarpet\"}], \"scattergeo\": [{\"marker\": {\"colorbar\": {\"outlinewidth\": 0, \"ticks\": \"\"}}, \"type\": \"scattergeo\"}], \"scattergl\": [{\"marker\": {\"colorbar\": {\"outlinewidth\": 0, \"ticks\": \"\"}}, \"type\": \"scattergl\"}], \"scattermapbox\": [{\"marker\": {\"colorbar\": {\"outlinewidth\": 0, \"ticks\": \"\"}}, \"type\": \"scattermapbox\"}], \"scatterpolar\": [{\"marker\": {\"colorbar\": {\"outlinewidth\": 0, \"ticks\": \"\"}}, \"type\": \"scatterpolar\"}], \"scatterpolargl\": [{\"marker\": {\"colorbar\": {\"outlinewidth\": 0, \"ticks\": \"\"}}, \"type\": \"scatterpolargl\"}], \"scatterternary\": [{\"marker\": {\"colorbar\": {\"outlinewidth\": 0, \"ticks\": \"\"}}, \"type\": \"scatterternary\"}], \"surface\": [{\"colorbar\": {\"outlinewidth\": 0, \"ticks\": \"\"}, \"colorscale\": [[0.0, \"#0d0887\"], [0.1111111111111111, \"#46039f\"], [0.2222222222222222, \"#7201a8\"], [0.3333333333333333, \"#9c179e\"], [0.4444444444444444, \"#bd3786\"], [0.5555555555555556, \"#d8576b\"], [0.6666666666666666, \"#ed7953\"], [0.7777777777777778, \"#fb9f3a\"], [0.8888888888888888, \"#fdca26\"], [1.0, \"#f0f921\"]], \"type\": \"surface\"}], \"table\": [{\"cells\": {\"fill\": {\"color\": \"#EBF0F8\"}, \"line\": {\"color\": \"white\"}}, \"header\": {\"fill\": {\"color\": \"#C8D4E3\"}, \"line\": {\"color\": \"white\"}}, \"type\": \"table\"}]}, \"layout\": {\"annotationdefaults\": {\"arrowcolor\": \"#2a3f5f\", \"arrowhead\": 0, \"arrowwidth\": 1}, \"autotypenumbers\": \"strict\", \"coloraxis\": {\"colorbar\": {\"outlinewidth\": 0, \"ticks\": \"\"}}, \"colorscale\": {\"diverging\": [[0, \"#8e0152\"], [0.1, \"#c51b7d\"], [0.2, \"#de77ae\"], [0.3, \"#f1b6da\"], [0.4, \"#fde0ef\"], [0.5, \"#f7f7f7\"], [0.6, \"#e6f5d0\"], [0.7, \"#b8e186\"], [0.8, \"#7fbc41\"], [0.9, \"#4d9221\"], [1, \"#276419\"]], \"sequential\": [[0.0, \"#0d0887\"], [0.1111111111111111, \"#46039f\"], [0.2222222222222222, \"#7201a8\"], [0.3333333333333333, \"#9c179e\"], [0.4444444444444444, \"#bd3786\"], [0.5555555555555556, \"#d8576b\"], [0.6666666666666666, \"#ed7953\"], [0.7777777777777778, \"#fb9f3a\"], [0.8888888888888888, \"#fdca26\"], [1.0, \"#f0f921\"]], \"sequentialminus\": [[0.0, \"#0d0887\"], [0.1111111111111111, \"#46039f\"], [0.2222222222222222, \"#7201a8\"], [0.3333333333333333, \"#9c179e\"], [0.4444444444444444, \"#bd3786\"], [0.5555555555555556, \"#d8576b\"], [0.6666666666666666, \"#ed7953\"], [0.7777777777777778, \"#fb9f3a\"], [0.8888888888888888, \"#fdca26\"], [1.0, \"#f0f921\"]]}, \"colorway\": [\"#636efa\", \"#EF553B\", \"#00cc96\", \"#ab63fa\", \"#FFA15A\", \"#19d3f3\", \"#FF6692\", \"#B6E880\", \"#FF97FF\", \"#FECB52\"], \"font\": {\"color\": \"#2a3f5f\"}, \"geo\": {\"bgcolor\": \"white\", \"lakecolor\": \"white\", \"landcolor\": \"#E5ECF6\", \"showlakes\": true, \"showland\": true, \"subunitcolor\": \"white\"}, \"hoverlabel\": {\"align\": \"left\"}, \"hovermode\": \"closest\", \"mapbox\": {\"style\": \"light\"}, \"paper_bgcolor\": \"white\", \"plot_bgcolor\": \"#E5ECF6\", \"polar\": {\"angularaxis\": {\"gridcolor\": \"white\", \"linecolor\": \"white\", \"ticks\": \"\"}, \"bgcolor\": \"#E5ECF6\", \"radialaxis\": {\"gridcolor\": \"white\", \"linecolor\": \"white\", \"ticks\": \"\"}}, \"scene\": {\"xaxis\": {\"backgroundcolor\": \"#E5ECF6\", \"gridcolor\": \"white\", \"gridwidth\": 2, \"linecolor\": \"white\", \"showbackground\": true, \"ticks\": \"\", \"zerolinecolor\": \"white\"}, \"yaxis\": {\"backgroundcolor\": \"#E5ECF6\", \"gridcolor\": \"white\", \"gridwidth\": 2, \"linecolor\": \"white\", \"showbackground\": true, \"ticks\": \"\", \"zerolinecolor\": \"white\"}, \"zaxis\": {\"backgroundcolor\": \"#E5ECF6\", \"gridcolor\": \"white\", \"gridwidth\": 2, \"linecolor\": \"white\", \"showbackground\": true, \"ticks\": \"\", \"zerolinecolor\": \"white\"}}, \"shapedefaults\": {\"line\": {\"color\": \"#2a3f5f\"}}, \"ternary\": {\"aaxis\": {\"gridcolor\": \"white\", \"linecolor\": \"white\", \"ticks\": \"\"}, \"baxis\": {\"gridcolor\": \"white\", \"linecolor\": \"white\", \"ticks\": \"\"}, \"bgcolor\": \"#E5ECF6\", \"caxis\": {\"gridcolor\": \"white\", \"linecolor\": \"white\", \"ticks\": \"\"}}, \"title\": {\"x\": 0.05}, \"xaxis\": {\"automargin\": true, \"gridcolor\": \"white\", \"linecolor\": \"white\", \"ticks\": \"\", \"title\": {\"standoff\": 15}, \"zerolinecolor\": \"white\", \"zerolinewidth\": 2}, \"yaxis\": {\"automargin\": true, \"gridcolor\": \"white\", \"linecolor\": \"white\", \"ticks\": \"\", \"title\": {\"standoff\": 15}, \"zerolinecolor\": \"white\", \"zerolinewidth\": 2}}}, \"title\": {\"font\": {\"color\": \"#4D5663\"}, \"text\": \"My Graph\"}, \"xaxis\": {\"gridcolor\": \"#E1E5ED\", \"showgrid\": true, \"tickfont\": {\"color\": \"#4D5663\"}, \"title\": {\"font\": {\"color\": \"#4D5663\"}, \"text\": \"Name of State / UT\"}, \"zerolinecolor\": \"#E1E5ED\"}, \"yaxis\": {\"gridcolor\": \"#E1E5ED\", \"showgrid\": true, \"tickfont\": {\"color\": \"#4D5663\"}, \"title\": {\"font\": {\"color\": \"#4D5663\"}, \"text\": \"Active Cases\"}, \"zerolinecolor\": \"#E1E5ED\"}},                        {\"showLink\": true, \"linkText\": \"Export to plot.ly\", \"plotlyServerURL\": \"https://plot.ly\", \"responsive\": true}                    ).then(function(){\n",
       "                            \n",
       "var gd = document.getElementById('36fd0bd6-cb4e-4e95-b06e-14f41a2e54d9');\n",
       "var x = new MutationObserver(function (mutations, observer) {{\n",
       "        var display = window.getComputedStyle(gd).display;\n",
       "        if (!display || display === 'none') {{\n",
       "            console.log([gd, 'removed!']);\n",
       "            Plotly.purge(gd);\n",
       "            observer.disconnect();\n",
       "        }}\n",
       "}});\n",
       "\n",
       "// Listen for the removal of the full notebook cells\n",
       "var notebookContainer = gd.closest('#notebook-container');\n",
       "if (notebookContainer) {{\n",
       "    x.observe(notebookContainer, {childList: true});\n",
       "}}\n",
       "\n",
       "// Listen for the clearing of the current output cell\n",
       "var outputEl = gd.closest('.output');\n",
       "if (outputEl) {{\n",
       "    x.observe(outputEl, {childList: true});\n",
       "}}\n",
       "\n",
       "                        })                };                });            </script>        </div>"
      ]
     },
     "metadata": {},
     "output_type": "display_data"
    },
    {
     "data": {
      "application/vnd.plotly.v1+json": {
       "config": {
        "plotlyServerURL": "https://plot.ly"
       },
       "data": [
        {
         "hovertemplate": "Name of State / UT=%{x}<br>Active Cases=%{y}<extra></extra>",
         "legendgroup": "",
         "marker": {
          "color": "#636efa",
          "symbol": "circle"
         },
         "mode": "markers",
         "name": "",
         "orientation": "v",
         "showlegend": false,
         "type": "scatter",
         "x": [
          "Andaman and Nicobar",
          "Andhra Pradesh",
          "Arunachal Pradesh",
          "Assam",
          "Bihar",
          "Chandigarh",
          "Chhattisgarh",
          "Dadra and Nagar Haveli and Daman and Diu",
          "Delhi",
          "Goa",
          "Gujarat",
          "Haryana",
          "Himachal Pradesh",
          "Jammu and Kashmir",
          "Jharkhand",
          "Karnataka",
          "Kerala",
          "Ladakh",
          "Lakshadweep",
          "Maharashtra",
          "Manipur",
          "Meghalaya",
          "Mizoram",
          "Madhya Pradesh",
          "Nagaland",
          "Odisha",
          "Puducherry",
          "Punjab",
          "Rajasthan",
          "Sikkim",
          "Tamil Nadu",
          "Telengana",
          "Tripura",
          "Uttar Pradesh",
          "Uttarakhand",
          "West Bengal"
         ],
         "xaxis": "x",
         "y": [
          7179,
          1814642,
          32033,
          465912,
          708796,
          60442,
          975391,
          10477,
          1406834,
          160398,
          811364,
          757497,
          195993,
          305144,
          338891,
          2751059,
          2749819,
          19483,
          9294,
          5819490,
          60840,
          42496,
          16061,
          780160,
          23504,
          859629,
          111920,
          574130,
          941548,
          18521,
          2358408,
          604404,
          60238,
          1681495,
          330805,
          1454113
         ],
         "yaxis": "y"
        }
       ],
       "layout": {
        "legend": {
         "tracegroupgap": 0
        },
        "margin": {
         "t": 60
        },
        "template": {
         "data": {
          "bar": [
           {
            "error_x": {
             "color": "#2a3f5f"
            },
            "error_y": {
             "color": "#2a3f5f"
            },
            "marker": {
             "line": {
              "color": "#E5ECF6",
              "width": 0.5
             }
            },
            "type": "bar"
           }
          ],
          "barpolar": [
           {
            "marker": {
             "line": {
              "color": "#E5ECF6",
              "width": 0.5
             }
            },
            "type": "barpolar"
           }
          ],
          "carpet": [
           {
            "aaxis": {
             "endlinecolor": "#2a3f5f",
             "gridcolor": "white",
             "linecolor": "white",
             "minorgridcolor": "white",
             "startlinecolor": "#2a3f5f"
            },
            "baxis": {
             "endlinecolor": "#2a3f5f",
             "gridcolor": "white",
             "linecolor": "white",
             "minorgridcolor": "white",
             "startlinecolor": "#2a3f5f"
            },
            "type": "carpet"
           }
          ],
          "choropleth": [
           {
            "colorbar": {
             "outlinewidth": 0,
             "ticks": ""
            },
            "type": "choropleth"
           }
          ],
          "contour": [
           {
            "colorbar": {
             "outlinewidth": 0,
             "ticks": ""
            },
            "colorscale": [
             [
              0,
              "#0d0887"
             ],
             [
              0.1111111111111111,
              "#46039f"
             ],
             [
              0.2222222222222222,
              "#7201a8"
             ],
             [
              0.3333333333333333,
              "#9c179e"
             ],
             [
              0.4444444444444444,
              "#bd3786"
             ],
             [
              0.5555555555555556,
              "#d8576b"
             ],
             [
              0.6666666666666666,
              "#ed7953"
             ],
             [
              0.7777777777777778,
              "#fb9f3a"
             ],
             [
              0.8888888888888888,
              "#fdca26"
             ],
             [
              1,
              "#f0f921"
             ]
            ],
            "type": "contour"
           }
          ],
          "contourcarpet": [
           {
            "colorbar": {
             "outlinewidth": 0,
             "ticks": ""
            },
            "type": "contourcarpet"
           }
          ],
          "heatmap": [
           {
            "colorbar": {
             "outlinewidth": 0,
             "ticks": ""
            },
            "colorscale": [
             [
              0,
              "#0d0887"
             ],
             [
              0.1111111111111111,
              "#46039f"
             ],
             [
              0.2222222222222222,
              "#7201a8"
             ],
             [
              0.3333333333333333,
              "#9c179e"
             ],
             [
              0.4444444444444444,
              "#bd3786"
             ],
             [
              0.5555555555555556,
              "#d8576b"
             ],
             [
              0.6666666666666666,
              "#ed7953"
             ],
             [
              0.7777777777777778,
              "#fb9f3a"
             ],
             [
              0.8888888888888888,
              "#fdca26"
             ],
             [
              1,
              "#f0f921"
             ]
            ],
            "type": "heatmap"
           }
          ],
          "heatmapgl": [
           {
            "colorbar": {
             "outlinewidth": 0,
             "ticks": ""
            },
            "colorscale": [
             [
              0,
              "#0d0887"
             ],
             [
              0.1111111111111111,
              "#46039f"
             ],
             [
              0.2222222222222222,
              "#7201a8"
             ],
             [
              0.3333333333333333,
              "#9c179e"
             ],
             [
              0.4444444444444444,
              "#bd3786"
             ],
             [
              0.5555555555555556,
              "#d8576b"
             ],
             [
              0.6666666666666666,
              "#ed7953"
             ],
             [
              0.7777777777777778,
              "#fb9f3a"
             ],
             [
              0.8888888888888888,
              "#fdca26"
             ],
             [
              1,
              "#f0f921"
             ]
            ],
            "type": "heatmapgl"
           }
          ],
          "histogram": [
           {
            "marker": {
             "colorbar": {
              "outlinewidth": 0,
              "ticks": ""
             }
            },
            "type": "histogram"
           }
          ],
          "histogram2d": [
           {
            "colorbar": {
             "outlinewidth": 0,
             "ticks": ""
            },
            "colorscale": [
             [
              0,
              "#0d0887"
             ],
             [
              0.1111111111111111,
              "#46039f"
             ],
             [
              0.2222222222222222,
              "#7201a8"
             ],
             [
              0.3333333333333333,
              "#9c179e"
             ],
             [
              0.4444444444444444,
              "#bd3786"
             ],
             [
              0.5555555555555556,
              "#d8576b"
             ],
             [
              0.6666666666666666,
              "#ed7953"
             ],
             [
              0.7777777777777778,
              "#fb9f3a"
             ],
             [
              0.8888888888888888,
              "#fdca26"
             ],
             [
              1,
              "#f0f921"
             ]
            ],
            "type": "histogram2d"
           }
          ],
          "histogram2dcontour": [
           {
            "colorbar": {
             "outlinewidth": 0,
             "ticks": ""
            },
            "colorscale": [
             [
              0,
              "#0d0887"
             ],
             [
              0.1111111111111111,
              "#46039f"
             ],
             [
              0.2222222222222222,
              "#7201a8"
             ],
             [
              0.3333333333333333,
              "#9c179e"
             ],
             [
              0.4444444444444444,
              "#bd3786"
             ],
             [
              0.5555555555555556,
              "#d8576b"
             ],
             [
              0.6666666666666666,
              "#ed7953"
             ],
             [
              0.7777777777777778,
              "#fb9f3a"
             ],
             [
              0.8888888888888888,
              "#fdca26"
             ],
             [
              1,
              "#f0f921"
             ]
            ],
            "type": "histogram2dcontour"
           }
          ],
          "mesh3d": [
           {
            "colorbar": {
             "outlinewidth": 0,
             "ticks": ""
            },
            "type": "mesh3d"
           }
          ],
          "parcoords": [
           {
            "line": {
             "colorbar": {
              "outlinewidth": 0,
              "ticks": ""
             }
            },
            "type": "parcoords"
           }
          ],
          "pie": [
           {
            "automargin": true,
            "type": "pie"
           }
          ],
          "scatter": [
           {
            "marker": {
             "colorbar": {
              "outlinewidth": 0,
              "ticks": ""
             }
            },
            "type": "scatter"
           }
          ],
          "scatter3d": [
           {
            "line": {
             "colorbar": {
              "outlinewidth": 0,
              "ticks": ""
             }
            },
            "marker": {
             "colorbar": {
              "outlinewidth": 0,
              "ticks": ""
             }
            },
            "type": "scatter3d"
           }
          ],
          "scattercarpet": [
           {
            "marker": {
             "colorbar": {
              "outlinewidth": 0,
              "ticks": ""
             }
            },
            "type": "scattercarpet"
           }
          ],
          "scattergeo": [
           {
            "marker": {
             "colorbar": {
              "outlinewidth": 0,
              "ticks": ""
             }
            },
            "type": "scattergeo"
           }
          ],
          "scattergl": [
           {
            "marker": {
             "colorbar": {
              "outlinewidth": 0,
              "ticks": ""
             }
            },
            "type": "scattergl"
           }
          ],
          "scattermapbox": [
           {
            "marker": {
             "colorbar": {
              "outlinewidth": 0,
              "ticks": ""
             }
            },
            "type": "scattermapbox"
           }
          ],
          "scatterpolar": [
           {
            "marker": {
             "colorbar": {
              "outlinewidth": 0,
              "ticks": ""
             }
            },
            "type": "scatterpolar"
           }
          ],
          "scatterpolargl": [
           {
            "marker": {
             "colorbar": {
              "outlinewidth": 0,
              "ticks": ""
             }
            },
            "type": "scatterpolargl"
           }
          ],
          "scatterternary": [
           {
            "marker": {
             "colorbar": {
              "outlinewidth": 0,
              "ticks": ""
             }
            },
            "type": "scatterternary"
           }
          ],
          "surface": [
           {
            "colorbar": {
             "outlinewidth": 0,
             "ticks": ""
            },
            "colorscale": [
             [
              0,
              "#0d0887"
             ],
             [
              0.1111111111111111,
              "#46039f"
             ],
             [
              0.2222222222222222,
              "#7201a8"
             ],
             [
              0.3333333333333333,
              "#9c179e"
             ],
             [
              0.4444444444444444,
              "#bd3786"
             ],
             [
              0.5555555555555556,
              "#d8576b"
             ],
             [
              0.6666666666666666,
              "#ed7953"
             ],
             [
              0.7777777777777778,
              "#fb9f3a"
             ],
             [
              0.8888888888888888,
              "#fdca26"
             ],
             [
              1,
              "#f0f921"
             ]
            ],
            "type": "surface"
           }
          ],
          "table": [
           {
            "cells": {
             "fill": {
              "color": "#EBF0F8"
             },
             "line": {
              "color": "white"
             }
            },
            "header": {
             "fill": {
              "color": "#C8D4E3"
             },
             "line": {
              "color": "white"
             }
            },
            "type": "table"
           }
          ]
         },
         "layout": {
          "annotationdefaults": {
           "arrowcolor": "#2a3f5f",
           "arrowhead": 0,
           "arrowwidth": 1
          },
          "autotypenumbers": "strict",
          "coloraxis": {
           "colorbar": {
            "outlinewidth": 0,
            "ticks": ""
           }
          },
          "colorscale": {
           "diverging": [
            [
             0,
             "#8e0152"
            ],
            [
             0.1,
             "#c51b7d"
            ],
            [
             0.2,
             "#de77ae"
            ],
            [
             0.3,
             "#f1b6da"
            ],
            [
             0.4,
             "#fde0ef"
            ],
            [
             0.5,
             "#f7f7f7"
            ],
            [
             0.6,
             "#e6f5d0"
            ],
            [
             0.7,
             "#b8e186"
            ],
            [
             0.8,
             "#7fbc41"
            ],
            [
             0.9,
             "#4d9221"
            ],
            [
             1,
             "#276419"
            ]
           ],
           "sequential": [
            [
             0,
             "#0d0887"
            ],
            [
             0.1111111111111111,
             "#46039f"
            ],
            [
             0.2222222222222222,
             "#7201a8"
            ],
            [
             0.3333333333333333,
             "#9c179e"
            ],
            [
             0.4444444444444444,
             "#bd3786"
            ],
            [
             0.5555555555555556,
             "#d8576b"
            ],
            [
             0.6666666666666666,
             "#ed7953"
            ],
            [
             0.7777777777777778,
             "#fb9f3a"
            ],
            [
             0.8888888888888888,
             "#fdca26"
            ],
            [
             1,
             "#f0f921"
            ]
           ],
           "sequentialminus": [
            [
             0,
             "#0d0887"
            ],
            [
             0.1111111111111111,
             "#46039f"
            ],
            [
             0.2222222222222222,
             "#7201a8"
            ],
            [
             0.3333333333333333,
             "#9c179e"
            ],
            [
             0.4444444444444444,
             "#bd3786"
            ],
            [
             0.5555555555555556,
             "#d8576b"
            ],
            [
             0.6666666666666666,
             "#ed7953"
            ],
            [
             0.7777777777777778,
             "#fb9f3a"
            ],
            [
             0.8888888888888888,
             "#fdca26"
            ],
            [
             1,
             "#f0f921"
            ]
           ]
          },
          "colorway": [
           "#636efa",
           "#EF553B",
           "#00cc96",
           "#ab63fa",
           "#FFA15A",
           "#19d3f3",
           "#FF6692",
           "#B6E880",
           "#FF97FF",
           "#FECB52"
          ],
          "font": {
           "color": "#2a3f5f"
          },
          "geo": {
           "bgcolor": "white",
           "lakecolor": "white",
           "landcolor": "#E5ECF6",
           "showlakes": true,
           "showland": true,
           "subunitcolor": "white"
          },
          "hoverlabel": {
           "align": "left"
          },
          "hovermode": "closest",
          "mapbox": {
           "style": "light"
          },
          "paper_bgcolor": "white",
          "plot_bgcolor": "#E5ECF6",
          "polar": {
           "angularaxis": {
            "gridcolor": "white",
            "linecolor": "white",
            "ticks": ""
           },
           "bgcolor": "#E5ECF6",
           "radialaxis": {
            "gridcolor": "white",
            "linecolor": "white",
            "ticks": ""
           }
          },
          "scene": {
           "xaxis": {
            "backgroundcolor": "#E5ECF6",
            "gridcolor": "white",
            "gridwidth": 2,
            "linecolor": "white",
            "showbackground": true,
            "ticks": "",
            "zerolinecolor": "white"
           },
           "yaxis": {
            "backgroundcolor": "#E5ECF6",
            "gridcolor": "white",
            "gridwidth": 2,
            "linecolor": "white",
            "showbackground": true,
            "ticks": "",
            "zerolinecolor": "white"
           },
           "zaxis": {
            "backgroundcolor": "#E5ECF6",
            "gridcolor": "white",
            "gridwidth": 2,
            "linecolor": "white",
            "showbackground": true,
            "ticks": "",
            "zerolinecolor": "white"
           }
          },
          "shapedefaults": {
           "line": {
            "color": "#2a3f5f"
           }
          },
          "ternary": {
           "aaxis": {
            "gridcolor": "white",
            "linecolor": "white",
            "ticks": ""
           },
           "baxis": {
            "gridcolor": "white",
            "linecolor": "white",
            "ticks": ""
           },
           "bgcolor": "#E5ECF6",
           "caxis": {
            "gridcolor": "white",
            "linecolor": "white",
            "ticks": ""
           }
          },
          "title": {
           "x": 0.05
          },
          "xaxis": {
           "automargin": true,
           "gridcolor": "white",
           "linecolor": "white",
           "ticks": "",
           "title": {
            "standoff": 15
           },
           "zerolinecolor": "white",
           "zerolinewidth": 2
          },
          "yaxis": {
           "automargin": true,
           "gridcolor": "white",
           "linecolor": "white",
           "ticks": "",
           "title": {
            "standoff": 15
           },
           "zerolinecolor": "white",
           "zerolinewidth": 2
          }
         }
        },
        "xaxis": {
         "anchor": "y",
         "domain": [
          0,
          1
         ],
         "title": {
          "text": "Name of State / UT"
         }
        },
        "yaxis": {
         "anchor": "x",
         "domain": [
          0,
          1
         ],
         "title": {
          "text": "Active Cases"
         }
        }
       }
      },
      "text/html": [
       "<div>                            <div id=\"438896dc-d8f9-4433-99dd-40c05bc13f0c\" class=\"plotly-graph-div\" style=\"height:525px; width:100%;\"></div>            <script type=\"text/javascript\">                require([\"plotly\"], function(Plotly) {                    window.PLOTLYENV=window.PLOTLYENV || {};                                    if (document.getElementById(\"438896dc-d8f9-4433-99dd-40c05bc13f0c\")) {                    Plotly.newPlot(                        \"438896dc-d8f9-4433-99dd-40c05bc13f0c\",                        [{\"hovertemplate\": \"Name of State / UT=%{x}<br>Active Cases=%{y}<extra></extra>\", \"legendgroup\": \"\", \"marker\": {\"color\": \"#636efa\", \"symbol\": \"circle\"}, \"mode\": \"markers\", \"name\": \"\", \"orientation\": \"v\", \"showlegend\": false, \"type\": \"scatter\", \"x\": [\"Andaman and Nicobar\", \"Andhra Pradesh\", \"Arunachal Pradesh\", \"Assam\", \"Bihar\", \"Chandigarh\", \"Chhattisgarh\", \"Dadra and Nagar Haveli and Daman and Diu\", \"Delhi\", \"Goa\", \"Gujarat\", \"Haryana\", \"Himachal Pradesh\", \"Jammu and Kashmir\", \"Jharkhand\", \"Karnataka\", \"Kerala\", \"Ladakh\", \"Lakshadweep\", \"Maharashtra\", \"Manipur\", \"Meghalaya\", \"Mizoram\", \"Madhya Pradesh\", \"Nagaland\", \"Odisha\", \"Puducherry\", \"Punjab\", \"Rajasthan\", \"Sikkim\", \"Tamil Nadu\", \"Telengana\", \"Tripura\", \"Uttar Pradesh\", \"Uttarakhand\", \"West Bengal\"], \"xaxis\": \"x\", \"y\": [7179, 1814642, 32033, 465912, 708796, 60442, 975391, 10477, 1406834, 160398, 811364, 757497, 195993, 305144, 338891, 2751059, 2749819, 19483, 9294, 5819490, 60840, 42496, 16061, 780160, 23504, 859629, 111920, 574130, 941548, 18521, 2358408, 604404, 60238, 1681495, 330805, 1454113], \"yaxis\": \"y\"}],                        {\"legend\": {\"tracegroupgap\": 0}, \"margin\": {\"t\": 60}, \"template\": {\"data\": {\"bar\": [{\"error_x\": {\"color\": \"#2a3f5f\"}, \"error_y\": {\"color\": \"#2a3f5f\"}, \"marker\": {\"line\": {\"color\": \"#E5ECF6\", \"width\": 0.5}}, \"type\": \"bar\"}], \"barpolar\": [{\"marker\": {\"line\": {\"color\": \"#E5ECF6\", \"width\": 0.5}}, \"type\": \"barpolar\"}], \"carpet\": [{\"aaxis\": {\"endlinecolor\": \"#2a3f5f\", \"gridcolor\": \"white\", \"linecolor\": \"white\", \"minorgridcolor\": \"white\", \"startlinecolor\": \"#2a3f5f\"}, \"baxis\": {\"endlinecolor\": \"#2a3f5f\", \"gridcolor\": \"white\", \"linecolor\": \"white\", \"minorgridcolor\": \"white\", \"startlinecolor\": \"#2a3f5f\"}, \"type\": \"carpet\"}], \"choropleth\": [{\"colorbar\": {\"outlinewidth\": 0, \"ticks\": \"\"}, \"type\": \"choropleth\"}], \"contour\": [{\"colorbar\": {\"outlinewidth\": 0, \"ticks\": \"\"}, \"colorscale\": [[0.0, \"#0d0887\"], [0.1111111111111111, \"#46039f\"], [0.2222222222222222, \"#7201a8\"], [0.3333333333333333, \"#9c179e\"], [0.4444444444444444, \"#bd3786\"], [0.5555555555555556, \"#d8576b\"], [0.6666666666666666, \"#ed7953\"], [0.7777777777777778, \"#fb9f3a\"], [0.8888888888888888, \"#fdca26\"], [1.0, \"#f0f921\"]], \"type\": \"contour\"}], \"contourcarpet\": [{\"colorbar\": {\"outlinewidth\": 0, \"ticks\": \"\"}, \"type\": \"contourcarpet\"}], \"heatmap\": [{\"colorbar\": {\"outlinewidth\": 0, \"ticks\": \"\"}, \"colorscale\": [[0.0, \"#0d0887\"], [0.1111111111111111, \"#46039f\"], [0.2222222222222222, \"#7201a8\"], [0.3333333333333333, \"#9c179e\"], [0.4444444444444444, \"#bd3786\"], [0.5555555555555556, \"#d8576b\"], [0.6666666666666666, \"#ed7953\"], [0.7777777777777778, \"#fb9f3a\"], [0.8888888888888888, \"#fdca26\"], [1.0, \"#f0f921\"]], \"type\": \"heatmap\"}], \"heatmapgl\": [{\"colorbar\": {\"outlinewidth\": 0, \"ticks\": \"\"}, \"colorscale\": [[0.0, \"#0d0887\"], [0.1111111111111111, \"#46039f\"], [0.2222222222222222, \"#7201a8\"], [0.3333333333333333, \"#9c179e\"], [0.4444444444444444, \"#bd3786\"], [0.5555555555555556, \"#d8576b\"], [0.6666666666666666, \"#ed7953\"], [0.7777777777777778, \"#fb9f3a\"], [0.8888888888888888, \"#fdca26\"], [1.0, \"#f0f921\"]], \"type\": \"heatmapgl\"}], \"histogram\": [{\"marker\": {\"colorbar\": {\"outlinewidth\": 0, \"ticks\": \"\"}}, \"type\": \"histogram\"}], \"histogram2d\": [{\"colorbar\": {\"outlinewidth\": 0, \"ticks\": \"\"}, \"colorscale\": [[0.0, \"#0d0887\"], [0.1111111111111111, \"#46039f\"], [0.2222222222222222, \"#7201a8\"], [0.3333333333333333, \"#9c179e\"], [0.4444444444444444, \"#bd3786\"], [0.5555555555555556, \"#d8576b\"], [0.6666666666666666, \"#ed7953\"], [0.7777777777777778, \"#fb9f3a\"], [0.8888888888888888, \"#fdca26\"], [1.0, \"#f0f921\"]], \"type\": \"histogram2d\"}], \"histogram2dcontour\": [{\"colorbar\": {\"outlinewidth\": 0, \"ticks\": \"\"}, \"colorscale\": [[0.0, \"#0d0887\"], [0.1111111111111111, \"#46039f\"], [0.2222222222222222, \"#7201a8\"], [0.3333333333333333, \"#9c179e\"], [0.4444444444444444, \"#bd3786\"], [0.5555555555555556, \"#d8576b\"], [0.6666666666666666, \"#ed7953\"], [0.7777777777777778, \"#fb9f3a\"], [0.8888888888888888, \"#fdca26\"], [1.0, \"#f0f921\"]], \"type\": \"histogram2dcontour\"}], \"mesh3d\": [{\"colorbar\": {\"outlinewidth\": 0, \"ticks\": \"\"}, \"type\": \"mesh3d\"}], \"parcoords\": [{\"line\": {\"colorbar\": {\"outlinewidth\": 0, \"ticks\": \"\"}}, \"type\": \"parcoords\"}], \"pie\": [{\"automargin\": true, \"type\": \"pie\"}], \"scatter\": [{\"marker\": {\"colorbar\": {\"outlinewidth\": 0, \"ticks\": \"\"}}, \"type\": \"scatter\"}], \"scatter3d\": [{\"line\": {\"colorbar\": {\"outlinewidth\": 0, \"ticks\": \"\"}}, \"marker\": {\"colorbar\": {\"outlinewidth\": 0, \"ticks\": \"\"}}, \"type\": \"scatter3d\"}], \"scattercarpet\": [{\"marker\": {\"colorbar\": {\"outlinewidth\": 0, \"ticks\": \"\"}}, \"type\": \"scattercarpet\"}], \"scattergeo\": [{\"marker\": {\"colorbar\": {\"outlinewidth\": 0, \"ticks\": \"\"}}, \"type\": \"scattergeo\"}], \"scattergl\": [{\"marker\": {\"colorbar\": {\"outlinewidth\": 0, \"ticks\": \"\"}}, \"type\": \"scattergl\"}], \"scattermapbox\": [{\"marker\": {\"colorbar\": {\"outlinewidth\": 0, \"ticks\": \"\"}}, \"type\": \"scattermapbox\"}], \"scatterpolar\": [{\"marker\": {\"colorbar\": {\"outlinewidth\": 0, \"ticks\": \"\"}}, \"type\": \"scatterpolar\"}], \"scatterpolargl\": [{\"marker\": {\"colorbar\": {\"outlinewidth\": 0, \"ticks\": \"\"}}, \"type\": \"scatterpolargl\"}], \"scatterternary\": [{\"marker\": {\"colorbar\": {\"outlinewidth\": 0, \"ticks\": \"\"}}, \"type\": \"scatterternary\"}], \"surface\": [{\"colorbar\": {\"outlinewidth\": 0, \"ticks\": \"\"}, \"colorscale\": [[0.0, \"#0d0887\"], [0.1111111111111111, \"#46039f\"], [0.2222222222222222, \"#7201a8\"], [0.3333333333333333, \"#9c179e\"], [0.4444444444444444, \"#bd3786\"], [0.5555555555555556, \"#d8576b\"], [0.6666666666666666, \"#ed7953\"], [0.7777777777777778, \"#fb9f3a\"], [0.8888888888888888, \"#fdca26\"], [1.0, \"#f0f921\"]], \"type\": \"surface\"}], \"table\": [{\"cells\": {\"fill\": {\"color\": \"#EBF0F8\"}, \"line\": {\"color\": \"white\"}}, \"header\": {\"fill\": {\"color\": \"#C8D4E3\"}, \"line\": {\"color\": \"white\"}}, \"type\": \"table\"}]}, \"layout\": {\"annotationdefaults\": {\"arrowcolor\": \"#2a3f5f\", \"arrowhead\": 0, \"arrowwidth\": 1}, \"autotypenumbers\": \"strict\", \"coloraxis\": {\"colorbar\": {\"outlinewidth\": 0, \"ticks\": \"\"}}, \"colorscale\": {\"diverging\": [[0, \"#8e0152\"], [0.1, \"#c51b7d\"], [0.2, \"#de77ae\"], [0.3, \"#f1b6da\"], [0.4, \"#fde0ef\"], [0.5, \"#f7f7f7\"], [0.6, \"#e6f5d0\"], [0.7, \"#b8e186\"], [0.8, \"#7fbc41\"], [0.9, \"#4d9221\"], [1, \"#276419\"]], \"sequential\": [[0.0, \"#0d0887\"], [0.1111111111111111, \"#46039f\"], [0.2222222222222222, \"#7201a8\"], [0.3333333333333333, \"#9c179e\"], [0.4444444444444444, \"#bd3786\"], [0.5555555555555556, \"#d8576b\"], [0.6666666666666666, \"#ed7953\"], [0.7777777777777778, \"#fb9f3a\"], [0.8888888888888888, \"#fdca26\"], [1.0, \"#f0f921\"]], \"sequentialminus\": [[0.0, \"#0d0887\"], [0.1111111111111111, \"#46039f\"], [0.2222222222222222, \"#7201a8\"], [0.3333333333333333, \"#9c179e\"], [0.4444444444444444, \"#bd3786\"], [0.5555555555555556, \"#d8576b\"], [0.6666666666666666, \"#ed7953\"], [0.7777777777777778, \"#fb9f3a\"], [0.8888888888888888, \"#fdca26\"], [1.0, \"#f0f921\"]]}, \"colorway\": [\"#636efa\", \"#EF553B\", \"#00cc96\", \"#ab63fa\", \"#FFA15A\", \"#19d3f3\", \"#FF6692\", \"#B6E880\", \"#FF97FF\", \"#FECB52\"], \"font\": {\"color\": \"#2a3f5f\"}, \"geo\": {\"bgcolor\": \"white\", \"lakecolor\": \"white\", \"landcolor\": \"#E5ECF6\", \"showlakes\": true, \"showland\": true, \"subunitcolor\": \"white\"}, \"hoverlabel\": {\"align\": \"left\"}, \"hovermode\": \"closest\", \"mapbox\": {\"style\": \"light\"}, \"paper_bgcolor\": \"white\", \"plot_bgcolor\": \"#E5ECF6\", \"polar\": {\"angularaxis\": {\"gridcolor\": \"white\", \"linecolor\": \"white\", \"ticks\": \"\"}, \"bgcolor\": \"#E5ECF6\", \"radialaxis\": {\"gridcolor\": \"white\", \"linecolor\": \"white\", \"ticks\": \"\"}}, \"scene\": {\"xaxis\": {\"backgroundcolor\": \"#E5ECF6\", \"gridcolor\": \"white\", \"gridwidth\": 2, \"linecolor\": \"white\", \"showbackground\": true, \"ticks\": \"\", \"zerolinecolor\": \"white\"}, \"yaxis\": {\"backgroundcolor\": \"#E5ECF6\", \"gridcolor\": \"white\", \"gridwidth\": 2, \"linecolor\": \"white\", \"showbackground\": true, \"ticks\": \"\", \"zerolinecolor\": \"white\"}, \"zaxis\": {\"backgroundcolor\": \"#E5ECF6\", \"gridcolor\": \"white\", \"gridwidth\": 2, \"linecolor\": \"white\", \"showbackground\": true, \"ticks\": \"\", \"zerolinecolor\": \"white\"}}, \"shapedefaults\": {\"line\": {\"color\": \"#2a3f5f\"}}, \"ternary\": {\"aaxis\": {\"gridcolor\": \"white\", \"linecolor\": \"white\", \"ticks\": \"\"}, \"baxis\": {\"gridcolor\": \"white\", \"linecolor\": \"white\", \"ticks\": \"\"}, \"bgcolor\": \"#E5ECF6\", \"caxis\": {\"gridcolor\": \"white\", \"linecolor\": \"white\", \"ticks\": \"\"}}, \"title\": {\"x\": 0.05}, \"xaxis\": {\"automargin\": true, \"gridcolor\": \"white\", \"linecolor\": \"white\", \"ticks\": \"\", \"title\": {\"standoff\": 15}, \"zerolinecolor\": \"white\", \"zerolinewidth\": 2}, \"yaxis\": {\"automargin\": true, \"gridcolor\": \"white\", \"linecolor\": \"white\", \"ticks\": \"\", \"title\": {\"standoff\": 15}, \"zerolinecolor\": \"white\", \"zerolinewidth\": 2}}}, \"xaxis\": {\"anchor\": \"y\", \"domain\": [0.0, 1.0], \"title\": {\"text\": \"Name of State / UT\"}}, \"yaxis\": {\"anchor\": \"x\", \"domain\": [0.0, 1.0], \"title\": {\"text\": \"Active Cases\"}}},                        {\"responsive\": true}                    ).then(function(){\n",
       "                            \n",
       "var gd = document.getElementById('438896dc-d8f9-4433-99dd-40c05bc13f0c');\n",
       "var x = new MutationObserver(function (mutations, observer) {{\n",
       "        var display = window.getComputedStyle(gd).display;\n",
       "        if (!display || display === 'none') {{\n",
       "            console.log([gd, 'removed!']);\n",
       "            Plotly.purge(gd);\n",
       "            observer.disconnect();\n",
       "        }}\n",
       "}});\n",
       "\n",
       "// Listen for the removal of the full notebook cells\n",
       "var notebookContainer = gd.closest('#notebook-container');\n",
       "if (notebookContainer) {{\n",
       "    x.observe(notebookContainer, {childList: true});\n",
       "}}\n",
       "\n",
       "// Listen for the clearing of the current output cell\n",
       "var outputEl = gd.closest('.output');\n",
       "if (outputEl) {{\n",
       "    x.observe(outputEl, {childList: true});\n",
       "}}\n",
       "\n",
       "                        })                };                });            </script>        </div>"
      ]
     },
     "metadata": {},
     "output_type": "display_data"
    }
   ],
   "source": [
    "data.iplot(kind='scatter',x='Name of State / UT',y='Active Cases',mode='markers+lines',title='My Graph',xTitle='Name of State / UT',yTitle='Active Cases',colors='pink',size=20)\n",
    "px.scatter(data,x='Name of State / UT',y='Active Cases')"
   ]
  },
  {
   "cell_type": "code",
   "execution_count": null,
   "id": "7c825653",
   "metadata": {},
   "outputs": [],
   "source": []
  },
  {
   "cell_type": "code",
   "execution_count": 92,
   "id": "d3f72e45",
   "metadata": {},
   "outputs": [],
   "source": [
    "#Object oriented method for matplotlib"
   ]
  },
  {
   "cell_type": "code",
   "execution_count": 93,
   "id": "e184443a",
   "metadata": {},
   "outputs": [
    {
     "data": {
      "image/png": "[encoded data removed]",
      "text/plain": [
       "<Figure size 4000x2000 with 1 Axes>"
      ]
     },
     "metadata": {
      "needs_background": "light"
     },
     "output_type": "display_data"
    },
    {
     "data": {
      "application/vnd.plotly.v1+json": {
       "config": {
        "plotlyServerURL": "https://plot.ly"
       },
       "data": [
        {
         "type": "bar",
         "x": [
          "Andaman and Nicobar",
          "Andhra Pradesh",
          "Arunachal Pradesh",
          "Assam",
          "Bihar",
          "Chandigarh",
          "Chhattisgarh",
          "Dadra and Nagar Haveli and Daman and Diu",
          "Delhi",
          "Goa",
          "Gujarat",
          "Haryana",
          "Himachal Pradesh",
          "Jammu and Kashmir",
          "Jharkhand",
          "Karnataka",
          "Kerala",
          "Ladakh",
          "Lakshadweep",
          "Maharashtra",
          "Manipur",
          "Meghalaya",
          "Mizoram",
          "Madhya Pradesh",
          "Nagaland",
          "Odisha",
          "Puducherry",
          "Punjab",
          "Rajasthan",
          "Sikkim",
          "Tamil Nadu",
          "Telengana",
          "Tripura",
          "Uttar Pradesh",
          "Uttarakhand",
          "West Bengal"
         ],
         "y": [
          7179,
          1814642,
          32033,
          465912,
          708796,
          60442,
          975391,
          10477,
          1406834,
          160398,
          811364,
          757497,
          195993,
          305144,
          338891,
          2751059,
          2749819,
          19483,
          9294,
          5819490,
          60840,
          42496,
          16061,
          780160,
          23504,
          859629,
          111920,
          574130,
          941548,
          18521,
          2358408,
          604404,
          60238,
          1681495,
          330805,
          1454113
         ]
        }
       ],
       "layout": {
        "template": {
         "data": {
          "bar": [
           {
            "error_x": {
             "color": "#2a3f5f"
            },
            "error_y": {
             "color": "#2a3f5f"
            },
            "marker": {
             "line": {
              "color": "#E5ECF6",
              "width": 0.5
             }
            },
            "type": "bar"
           }
          ],
          "barpolar": [
           {
            "marker": {
             "line": {
              "color": "#E5ECF6",
              "width": 0.5
             }
            },
            "type": "barpolar"
           }
          ],
          "carpet": [
           {
            "aaxis": {
             "endlinecolor": "#2a3f5f",
             "gridcolor": "white",
             "linecolor": "white",
             "minorgridcolor": "white",
             "startlinecolor": "#2a3f5f"
            },
            "baxis": {
             "endlinecolor": "#2a3f5f",
             "gridcolor": "white",
             "linecolor": "white",
             "minorgridcolor": "white",
             "startlinecolor": "#2a3f5f"
            },
            "type": "carpet"
           }
          ],
          "choropleth": [
           {
            "colorbar": {
             "outlinewidth": 0,
             "ticks": ""
            },
            "type": "choropleth"
           }
          ],
          "contour": [
           {
            "colorbar": {
             "outlinewidth": 0,
             "ticks": ""
            },
            "colorscale": [
             [
              0,
              "#0d0887"
             ],
             [
              0.1111111111111111,
              "#46039f"
             ],
             [
              0.2222222222222222,
              "#7201a8"
             ],
             [
              0.3333333333333333,
              "#9c179e"
             ],
             [
              0.4444444444444444,
              "#bd3786"
             ],
             [
              0.5555555555555556,
              "#d8576b"
             ],
             [
              0.6666666666666666,
              "#ed7953"
             ],
             [
              0.7777777777777778,
              "#fb9f3a"
             ],
             [
              0.8888888888888888,
              "#fdca26"
             ],
             [
              1,
              "#f0f921"
             ]
            ],
            "type": "contour"
           }
          ],
          "contourcarpet": [
           {
            "colorbar": {
             "outlinewidth": 0,
             "ticks": ""
            },
            "type": "contourcarpet"
           }
          ],
          "heatmap": [
           {
            "colorbar": {
             "outlinewidth": 0,
             "ticks": ""
            },
            "colorscale": [
             [
              0,
              "#0d0887"
             ],
             [
              0.1111111111111111,
              "#46039f"
             ],
             [
              0.2222222222222222,
              "#7201a8"
             ],
             [
              0.3333333333333333,
              "#9c179e"
             ],
             [
              0.4444444444444444,
              "#bd3786"
             ],
             [
              0.5555555555555556,
              "#d8576b"
             ],
             [
              0.6666666666666666,
              "#ed7953"
             ],
             [
              0.7777777777777778,
              "#fb9f3a"
             ],
             [
              0.8888888888888888,
              "#fdca26"
             ],
             [
              1,
              "#f0f921"
             ]
            ],
            "type": "heatmap"
           }
          ],
          "heatmapgl": [
           {
            "colorbar": {
             "outlinewidth": 0,
             "ticks": ""
            },
            "colorscale": [
             [
              0,
              "#0d0887"
             ],
             [
              0.1111111111111111,
              "#46039f"
             ],
             [
              0.2222222222222222,
              "#7201a8"
             ],
             [
              0.3333333333333333,
              "#9c179e"
             ],
             [
              0.4444444444444444,
              "#bd3786"
             ],
             [
              0.5555555555555556,
              "#d8576b"
             ],
             [
              0.6666666666666666,
              "#ed7953"
             ],
             [
              0.7777777777777778,
              "#fb9f3a"
             ],
             [
              0.8888888888888888,
              "#fdca26"
             ],
             [
              1,
              "#f0f921"
             ]
            ],
            "type": "heatmapgl"
           }
          ],
          "histogram": [
           {
            "marker": {
             "colorbar": {
              "outlinewidth": 0,
              "ticks": ""
             }
            },
            "type": "histogram"
           }
          ],
          "histogram2d": [
           {
            "colorbar": {
             "outlinewidth": 0,
             "ticks": ""
            },
            "colorscale": [
             [
              0,
              "#0d0887"
             ],
             [
              0.1111111111111111,
              "#46039f"
             ],
             [
              0.2222222222222222,
              "#7201a8"
             ],
             [
              0.3333333333333333,
              "#9c179e"
             ],
             [
              0.4444444444444444,
              "#bd3786"
             ],
             [
              0.5555555555555556,
              "#d8576b"
             ],
             [
              0.6666666666666666,
              "#ed7953"
             ],
             [
              0.7777777777777778,
              "#fb9f3a"
             ],
             [
              0.8888888888888888,
              "#fdca26"
             ],
             [
              1,
              "#f0f921"
             ]
            ],
            "type": "histogram2d"
           }
          ],
          "histogram2dcontour": [
           {
            "colorbar": {
             "outlinewidth": 0,
             "ticks": ""
            },
            "colorscale": [
             [
              0,
              "#0d0887"
             ],
             [
              0.1111111111111111,
              "#46039f"
             ],
             [
              0.2222222222222222,
              "#7201a8"
             ],
             [
              0.3333333333333333,
              "#9c179e"
             ],
             [
              0.4444444444444444,
              "#bd3786"
             ],
             [
              0.5555555555555556,
              "#d8576b"
             ],
             [
              0.6666666666666666,
              "#ed7953"
             ],
             [
              0.7777777777777778,
              "#fb9f3a"
             ],
             [
              0.8888888888888888,
              "#fdca26"
             ],
             [
              1,
              "#f0f921"
             ]
            ],
            "type": "histogram2dcontour"
           }
          ],
          "mesh3d": [
           {
            "colorbar": {
             "outlinewidth": 0,
             "ticks": ""
            },
            "type": "mesh3d"
           }
          ],
          "parcoords": [
           {
            "line": {
             "colorbar": {
              "outlinewidth": 0,
              "ticks": ""
             }
            },
            "type": "parcoords"
           }
          ],
          "pie": [
           {
            "automargin": true,
            "type": "pie"
           }
          ],
          "scatter": [
           {
            "marker": {
             "colorbar": {
              "outlinewidth": 0,
              "ticks": ""
             }
            },
            "type": "scatter"
           }
          ],
          "scatter3d": [
           {
            "line": {
             "colorbar": {
              "outlinewidth": 0,
              "ticks": ""
             }
            },
            "marker": {
             "colorbar": {
              "outlinewidth": 0,
              "ticks": ""
             }
            },
            "type": "scatter3d"
           }
          ],
          "scattercarpet": [
           {
            "marker": {
             "colorbar": {
              "outlinewidth": 0,
              "ticks": ""
             }
            },
            "type": "scattercarpet"
           }
          ],
          "scattergeo": [
           {
            "marker": {
             "colorbar": {
              "outlinewidth": 0,
              "ticks": ""
             }
            },
            "type": "scattergeo"
           }
          ],
          "scattergl": [
           {
            "marker": {
             "colorbar": {
              "outlinewidth": 0,
              "ticks": ""
             }
            },
            "type": "scattergl"
           }
          ],
          "scattermapbox": [
           {
            "marker": {
             "colorbar": {
              "outlinewidth": 0,
              "ticks": ""
             }
            },
            "type": "scattermapbox"
           }
          ],
          "scatterpolar": [
           {
            "marker": {
             "colorbar": {
              "outlinewidth": 0,
              "ticks": ""
             }
            },
            "type": "scatterpolar"
           }
          ],
          "scatterpolargl": [
           {
            "marker": {
             "colorbar": {
              "outlinewidth": 0,
              "ticks": ""
             }
            },
            "type": "scatterpolargl"
           }
          ],
          "scatterternary": [
           {
            "marker": {
             "colorbar": {
              "outlinewidth": 0,
              "ticks": ""
             }
            },
            "type": "scatterternary"
           }
          ],
          "surface": [
           {
            "colorbar": {
             "outlinewidth": 0,
             "ticks": ""
            },
            "colorscale": [
             [
              0,
              "#0d0887"
             ],
             [
              0.1111111111111111,
              "#46039f"
             ],
             [
              0.2222222222222222,
              "#7201a8"
             ],
             [
              0.3333333333333333,
              "#9c179e"
             ],
             [
              0.4444444444444444,
              "#bd3786"
             ],
             [
              0.5555555555555556,
              "#d8576b"
             ],
             [
              0.6666666666666666,
              "#ed7953"
             ],
             [
              0.7777777777777778,
              "#fb9f3a"
             ],
             [
              0.8888888888888888,
              "#fdca26"
             ],
             [
              1,
              "#f0f921"
             ]
            ],
            "type": "surface"
           }
          ],
          "table": [
           {
            "cells": {
             "fill": {
              "color": "#EBF0F8"
             },
             "line": {
              "color": "white"
             }
            },
            "header": {
             "fill": {
              "color": "#C8D4E3"
             },
             "line": {
              "color": "white"
             }
            },
            "type": "table"
           }
          ]
         },
         "layout": {
          "annotationdefaults": {
           "arrowcolor": "#2a3f5f",
           "arrowhead": 0,
           "arrowwidth": 1
          },
          "autotypenumbers": "strict",
          "coloraxis": {
           "colorbar": {
            "outlinewidth": 0,
            "ticks": ""
           }
          },
          "colorscale": {
           "diverging": [
            [
             0,
             "#8e0152"
            ],
            [
             0.1,
             "#c51b7d"
            ],
            [
             0.2,
             "#de77ae"
            ],
            [
             0.3,
             "#f1b6da"
            ],
            [
             0.4,
             "#fde0ef"
            ],
            [
             0.5,
             "#f7f7f7"
            ],
            [
             0.6,
             "#e6f5d0"
            ],
            [
             0.7,
             "#b8e186"
            ],
            [
             0.8,
             "#7fbc41"
            ],
            [
             0.9,
             "#4d9221"
            ],
            [
             1,
             "#276419"
            ]
           ],
           "sequential": [
            [
             0,
             "#0d0887"
            ],
            [
             0.1111111111111111,
             "#46039f"
            ],
            [
             0.2222222222222222,
             "#7201a8"
            ],
            [
             0.3333333333333333,
             "#9c179e"
            ],
            [
             0.4444444444444444,
             "#bd3786"
            ],
            [
             0.5555555555555556,
             "#d8576b"
            ],
            [
             0.6666666666666666,
             "#ed7953"
            ],
            [
             0.7777777777777778,
             "#fb9f3a"
            ],
            [
             0.8888888888888888,
             "#fdca26"
            ],
            [
             1,
             "#f0f921"
            ]
           ],
           "sequentialminus": [
            [
             0,
             "#0d0887"
            ],
            [
             0.1111111111111111,
             "#46039f"
            ],
            [
             0.2222222222222222,
             "#7201a8"
            ],
            [
             0.3333333333333333,
             "#9c179e"
            ],
            [
             0.4444444444444444,
             "#bd3786"
            ],
            [
             0.5555555555555556,
             "#d8576b"
            ],
            [
             0.6666666666666666,
             "#ed7953"
            ],
            [
             0.7777777777777778,
             "#fb9f3a"
            ],
            [
             0.8888888888888888,
             "#fdca26"
            ],
            [
             1,
             "#f0f921"
            ]
           ]
          },
          "colorway": [
           "#636efa",
           "#EF553B",
           "#00cc96",
           "#ab63fa",
           "#FFA15A",
           "#19d3f3",
           "#FF6692",
           "#B6E880",
           "#FF97FF",
           "#FECB52"
          ],
          "font": {
           "color": "#2a3f5f"
          },
          "geo": {
           "bgcolor": "white",
           "lakecolor": "white",
           "landcolor": "#E5ECF6",
           "showlakes": true,
           "showland": true,
           "subunitcolor": "white"
          },
          "hoverlabel": {
           "align": "left"
          },
          "hovermode": "closest",
          "mapbox": {
           "style": "light"
          },
          "paper_bgcolor": "white",
          "plot_bgcolor": "#E5ECF6",
          "polar": {
           "angularaxis": {
            "gridcolor": "white",
            "linecolor": "white",
            "ticks": ""
           },
           "bgcolor": "#E5ECF6",
           "radialaxis": {
            "gridcolor": "white",
            "linecolor": "white",
            "ticks": ""
           }
          },
          "scene": {
           "xaxis": {
            "backgroundcolor": "#E5ECF6",
            "gridcolor": "white",
            "gridwidth": 2,
            "linecolor": "white",
            "showbackground": true,
            "ticks": "",
            "zerolinecolor": "white"
           },
           "yaxis": {
            "backgroundcolor": "#E5ECF6",
            "gridcolor": "white",
            "gridwidth": 2,
            "linecolor": "white",
            "showbackground": true,
            "ticks": "",
            "zerolinecolor": "white"
           },
           "zaxis": {
            "backgroundcolor": "#E5ECF6",
            "gridcolor": "white",
            "gridwidth": 2,
            "linecolor": "white",
            "showbackground": true,
            "ticks": "",
            "zerolinecolor": "white"
           }
          },
          "shapedefaults": {
           "line": {
            "color": "#2a3f5f"
           }
          },
          "ternary": {
           "aaxis": {
            "gridcolor": "white",
            "linecolor": "white",
            "ticks": ""
           },
           "baxis": {
            "gridcolor": "white",
            "linecolor": "white",
            "ticks": ""
           },
           "bgcolor": "#E5ECF6",
           "caxis": {
            "gridcolor": "white",
            "linecolor": "white",
            "ticks": ""
           }
          },
          "title": {
           "x": 0.05
          },
          "xaxis": {
           "automargin": true,
           "gridcolor": "white",
           "linecolor": "white",
           "ticks": "",
           "title": {
            "standoff": 15
           },
           "zerolinecolor": "white",
           "zerolinewidth": 2
          },
          "yaxis": {
           "automargin": true,
           "gridcolor": "white",
           "linecolor": "white",
           "ticks": "",
           "title": {
            "standoff": 15
           },
           "zerolinecolor": "white",
           "zerolinewidth": 2
          }
         }
        },
        "title": {
         "text": "Total Cases In India"
        },
        "xaxis": {
         "title": {
          "text": "Name of State / UT"
         }
        },
        "yaxis": {
         "title": {
          "text": "Active Cases"
         }
        }
       }
      },
      "text/html": [
       "<div>                            <div id=\"abaa2051-a0ce-4b80-8059-53fe34d3f31e\" class=\"plotly-graph-div\" style=\"height:525px; width:100%;\"></div>            <script type=\"text/javascript\">                require([\"plotly\"], function(Plotly) {                    window.PLOTLYENV=window.PLOTLYENV || {};                                    if (document.getElementById(\"abaa2051-a0ce-4b80-8059-53fe34d3f31e\")) {                    Plotly.newPlot(                        \"abaa2051-a0ce-4b80-8059-53fe34d3f31e\",                        [{\"type\": \"bar\", \"x\": [\"Andaman and Nicobar\", \"Andhra Pradesh\", \"Arunachal Pradesh\", \"Assam\", \"Bihar\", \"Chandigarh\", \"Chhattisgarh\", \"Dadra and Nagar Haveli and Daman and Diu\", \"Delhi\", \"Goa\", \"Gujarat\", \"Haryana\", \"Himachal Pradesh\", \"Jammu and Kashmir\", \"Jharkhand\", \"Karnataka\", \"Kerala\", \"Ladakh\", \"Lakshadweep\", \"Maharashtra\", \"Manipur\", \"Meghalaya\", \"Mizoram\", \"Madhya Pradesh\", \"Nagaland\", \"Odisha\", \"Puducherry\", \"Punjab\", \"Rajasthan\", \"Sikkim\", \"Tamil Nadu\", \"Telengana\", \"Tripura\", \"Uttar Pradesh\", \"Uttarakhand\", \"West Bengal\"], \"y\": [7179, 1814642, 32033, 465912, 708796, 60442, 975391, 10477, 1406834, 160398, 811364, 757497, 195993, 305144, 338891, 2751059, 2749819, 19483, 9294, 5819490, 60840, 42496, 16061, 780160, 23504, 859629, 111920, 574130, 941548, 18521, 2358408, 604404, 60238, 1681495, 330805, 1454113]}],                        {\"template\": {\"data\": {\"bar\": [{\"error_x\": {\"color\": \"#2a3f5f\"}, \"error_y\": {\"color\": \"#2a3f5f\"}, \"marker\": {\"line\": {\"color\": \"#E5ECF6\", \"width\": 0.5}}, \"type\": \"bar\"}], \"barpolar\": [{\"marker\": {\"line\": {\"color\": \"#E5ECF6\", \"width\": 0.5}}, \"type\": \"barpolar\"}], \"carpet\": [{\"aaxis\": {\"endlinecolor\": \"#2a3f5f\", \"gridcolor\": \"white\", \"linecolor\": \"white\", \"minorgridcolor\": \"white\", \"startlinecolor\": \"#2a3f5f\"}, \"baxis\": {\"endlinecolor\": \"#2a3f5f\", \"gridcolor\": \"white\", \"linecolor\": \"white\", \"minorgridcolor\": \"white\", \"startlinecolor\": \"#2a3f5f\"}, \"type\": \"carpet\"}], \"choropleth\": [{\"colorbar\": {\"outlinewidth\": 0, \"ticks\": \"\"}, \"type\": \"choropleth\"}], \"contour\": [{\"colorbar\": {\"outlinewidth\": 0, \"ticks\": \"\"}, \"colorscale\": [[0.0, \"#0d0887\"], [0.1111111111111111, \"#46039f\"], [0.2222222222222222, \"#7201a8\"], [0.3333333333333333, \"#9c179e\"], [0.4444444444444444, \"#bd3786\"], [0.5555555555555556, \"#d8576b\"], [0.6666666666666666, \"#ed7953\"], [0.7777777777777778, \"#fb9f3a\"], [0.8888888888888888, \"#fdca26\"], [1.0, \"#f0f921\"]], \"type\": \"contour\"}], \"contourcarpet\": [{\"colorbar\": {\"outlinewidth\": 0, \"ticks\": \"\"}, \"type\": \"contourcarpet\"}], \"heatmap\": [{\"colorbar\": {\"outlinewidth\": 0, \"ticks\": \"\"}, \"colorscale\": [[0.0, \"#0d0887\"], [0.1111111111111111, \"#46039f\"], [0.2222222222222222, \"#7201a8\"], [0.3333333333333333, \"#9c179e\"], [0.4444444444444444, \"#bd3786\"], [0.5555555555555556, \"#d8576b\"], [0.6666666666666666, \"#ed7953\"], [0.7777777777777778, \"#fb9f3a\"], [0.8888888888888888, \"#fdca26\"], [1.0, \"#f0f921\"]], \"type\": \"heatmap\"}], \"heatmapgl\": [{\"colorbar\": {\"outlinewidth\": 0, \"ticks\": \"\"}, \"colorscale\": [[0.0, \"#0d0887\"], [0.1111111111111111, \"#46039f\"], [0.2222222222222222, \"#7201a8\"], [0.3333333333333333, \"#9c179e\"], [0.4444444444444444, \"#bd3786\"], [0.5555555555555556, \"#d8576b\"], [0.6666666666666666, \"#ed7953\"], [0.7777777777777778, \"#fb9f3a\"], [0.8888888888888888, \"#fdca26\"], [1.0, \"#f0f921\"]], \"type\": \"heatmapgl\"}], \"histogram\": [{\"marker\": {\"colorbar\": {\"outlinewidth\": 0, \"ticks\": \"\"}}, \"type\": \"histogram\"}], \"histogram2d\": [{\"colorbar\": {\"outlinewidth\": 0, \"ticks\": \"\"}, \"colorscale\": [[0.0, \"#0d0887\"], [0.1111111111111111, \"#46039f\"], [0.2222222222222222, \"#7201a8\"], [0.3333333333333333, \"#9c179e\"], [0.4444444444444444, \"#bd3786\"], [0.5555555555555556, \"#d8576b\"], [0.6666666666666666, \"#ed7953\"], [0.7777777777777778, \"#fb9f3a\"], [0.8888888888888888, \"#fdca26\"], [1.0, \"#f0f921\"]], \"type\": \"histogram2d\"}], \"histogram2dcontour\": [{\"colorbar\": {\"outlinewidth\": 0, \"ticks\": \"\"}, \"colorscale\": [[0.0, \"#0d0887\"], [0.1111111111111111, \"#46039f\"], [0.2222222222222222, \"#7201a8\"], [0.3333333333333333, \"#9c179e\"], [0.4444444444444444, \"#bd3786\"], [0.5555555555555556, \"#d8576b\"], [0.6666666666666666, \"#ed7953\"], [0.7777777777777778, \"#fb9f3a\"], [0.8888888888888888, \"#fdca26\"], [1.0, \"#f0f921\"]], \"type\": \"histogram2dcontour\"}], \"mesh3d\": [{\"colorbar\": {\"outlinewidth\": 0, \"ticks\": \"\"}, \"type\": \"mesh3d\"}], \"parcoords\": [{\"line\": {\"colorbar\": {\"outlinewidth\": 0, \"ticks\": \"\"}}, \"type\": \"parcoords\"}], \"pie\": [{\"automargin\": true, \"type\": \"pie\"}], \"scatter\": [{\"marker\": {\"colorbar\": {\"outlinewidth\": 0, \"ticks\": \"\"}}, \"type\": \"scatter\"}], \"scatter3d\": [{\"line\": {\"colorbar\": {\"outlinewidth\": 0, \"ticks\": \"\"}}, \"marker\": {\"colorbar\": {\"outlinewidth\": 0, \"ticks\": \"\"}}, \"type\": \"scatter3d\"}], \"scattercarpet\": [{\"marker\": {\"colorbar\": {\"outlinewidth\": 0, \"ticks\": \"\"}}, \"type\": \"scattercarpet\"}], \"scattergeo\": [{\"marker\": {\"colorbar\": {\"outlinewidth\": 0, \"ticks\": \"\"}}, \"type\": \"scattergeo\"}], \"scattergl\": [{\"marker\": {\"colorbar\": {\"outlinewidth\": 0, \"ticks\": \"\"}}, \"type\": \"scattergl\"}], \"scattermapbox\": [{\"marker\": {\"colorbar\": {\"outlinewidth\": 0, \"ticks\": \"\"}}, \"type\": \"scattermapbox\"}], \"scatterpolar\": [{\"marker\": {\"colorbar\": {\"outlinewidth\": 0, \"ticks\": \"\"}}, \"type\": \"scatterpolar\"}], \"scatterpolargl\": [{\"marker\": {\"colorbar\": {\"outlinewidth\": 0, \"ticks\": \"\"}}, \"type\": \"scatterpolargl\"}], \"scatterternary\": [{\"marker\": {\"colorbar\": {\"outlinewidth\": 0, \"ticks\": \"\"}}, \"type\": \"scatterternary\"}], \"surface\": [{\"colorbar\": {\"outlinewidth\": 0, \"ticks\": \"\"}, \"colorscale\": [[0.0, \"#0d0887\"], [0.1111111111111111, \"#46039f\"], [0.2222222222222222, \"#7201a8\"], [0.3333333333333333, \"#9c179e\"], [0.4444444444444444, \"#bd3786\"], [0.5555555555555556, \"#d8576b\"], [0.6666666666666666, \"#ed7953\"], [0.7777777777777778, \"#fb9f3a\"], [0.8888888888888888, \"#fdca26\"], [1.0, \"#f0f921\"]], \"type\": \"surface\"}], \"table\": [{\"cells\": {\"fill\": {\"color\": \"#EBF0F8\"}, \"line\": {\"color\": \"white\"}}, \"header\": {\"fill\": {\"color\": \"#C8D4E3\"}, \"line\": {\"color\": \"white\"}}, \"type\": \"table\"}]}, \"layout\": {\"annotationdefaults\": {\"arrowcolor\": \"#2a3f5f\", \"arrowhead\": 0, \"arrowwidth\": 1}, \"autotypenumbers\": \"strict\", \"coloraxis\": {\"colorbar\": {\"outlinewidth\": 0, \"ticks\": \"\"}}, \"colorscale\": {\"diverging\": [[0, \"#8e0152\"], [0.1, \"#c51b7d\"], [0.2, \"#de77ae\"], [0.3, \"#f1b6da\"], [0.4, \"#fde0ef\"], [0.5, \"#f7f7f7\"], [0.6, \"#e6f5d0\"], [0.7, \"#b8e186\"], [0.8, \"#7fbc41\"], [0.9, \"#4d9221\"], [1, \"#276419\"]], \"sequential\": [[0.0, \"#0d0887\"], [0.1111111111111111, \"#46039f\"], [0.2222222222222222, \"#7201a8\"], [0.3333333333333333, \"#9c179e\"], [0.4444444444444444, \"#bd3786\"], [0.5555555555555556, \"#d8576b\"], [0.6666666666666666, \"#ed7953\"], [0.7777777777777778, \"#fb9f3a\"], [0.8888888888888888, \"#fdca26\"], [1.0, \"#f0f921\"]], \"sequentialminus\": [[0.0, \"#0d0887\"], [0.1111111111111111, \"#46039f\"], [0.2222222222222222, \"#7201a8\"], [0.3333333333333333, \"#9c179e\"], [0.4444444444444444, \"#bd3786\"], [0.5555555555555556, \"#d8576b\"], [0.6666666666666666, \"#ed7953\"], [0.7777777777777778, \"#fb9f3a\"], [0.8888888888888888, \"#fdca26\"], [1.0, \"#f0f921\"]]}, \"colorway\": [\"#636efa\", \"#EF553B\", \"#00cc96\", \"#ab63fa\", \"#FFA15A\", \"#19d3f3\", \"#FF6692\", \"#B6E880\", \"#FF97FF\", \"#FECB52\"], \"font\": {\"color\": \"#2a3f5f\"}, \"geo\": {\"bgcolor\": \"white\", \"lakecolor\": \"white\", \"landcolor\": \"#E5ECF6\", \"showlakes\": true, \"showland\": true, \"subunitcolor\": \"white\"}, \"hoverlabel\": {\"align\": \"left\"}, \"hovermode\": \"closest\", \"mapbox\": {\"style\": \"light\"}, \"paper_bgcolor\": \"white\", \"plot_bgcolor\": \"#E5ECF6\", \"polar\": {\"angularaxis\": {\"gridcolor\": \"white\", \"linecolor\": \"white\", \"ticks\": \"\"}, \"bgcolor\": \"#E5ECF6\", \"radialaxis\": {\"gridcolor\": \"white\", \"linecolor\": \"white\", \"ticks\": \"\"}}, \"scene\": {\"xaxis\": {\"backgroundcolor\": \"#E5ECF6\", \"gridcolor\": \"white\", \"gridwidth\": 2, \"linecolor\": \"white\", \"showbackground\": true, \"ticks\": \"\", \"zerolinecolor\": \"white\"}, \"yaxis\": {\"backgroundcolor\": \"#E5ECF6\", \"gridcolor\": \"white\", \"gridwidth\": 2, \"linecolor\": \"white\", \"showbackground\": true, \"ticks\": \"\", \"zerolinecolor\": \"white\"}, \"zaxis\": {\"backgroundcolor\": \"#E5ECF6\", \"gridcolor\": \"white\", \"gridwidth\": 2, \"linecolor\": \"white\", \"showbackground\": true, \"ticks\": \"\", \"zerolinecolor\": \"white\"}}, \"shapedefaults\": {\"line\": {\"color\": \"#2a3f5f\"}}, \"ternary\": {\"aaxis\": {\"gridcolor\": \"white\", \"linecolor\": \"white\", \"ticks\": \"\"}, \"baxis\": {\"gridcolor\": \"white\", \"linecolor\": \"white\", \"ticks\": \"\"}, \"bgcolor\": \"#E5ECF6\", \"caxis\": {\"gridcolor\": \"white\", \"linecolor\": \"white\", \"ticks\": \"\"}}, \"title\": {\"x\": 0.05}, \"xaxis\": {\"automargin\": true, \"gridcolor\": \"white\", \"linecolor\": \"white\", \"ticks\": \"\", \"title\": {\"standoff\": 15}, \"zerolinecolor\": \"white\", \"zerolinewidth\": 2}, \"yaxis\": {\"automargin\": true, \"gridcolor\": \"white\", \"linecolor\": \"white\", \"ticks\": \"\", \"title\": {\"standoff\": 15}, \"zerolinecolor\": \"white\", \"zerolinewidth\": 2}}}, \"title\": {\"text\": \"Total Cases In India\"}, \"xaxis\": {\"title\": {\"text\": \"Name of State / UT\"}}, \"yaxis\": {\"title\": {\"text\": \"Active Cases\"}}},                        {\"responsive\": true}                    ).then(function(){\n",
       "                            \n",
       "var gd = document.getElementById('abaa2051-a0ce-4b80-8059-53fe34d3f31e');\n",
       "var x = new MutationObserver(function (mutations, observer) {{\n",
       "        var display = window.getComputedStyle(gd).display;\n",
       "        if (!display || display === 'none') {{\n",
       "            console.log([gd, 'removed!']);\n",
       "            Plotly.purge(gd);\n",
       "            observer.disconnect();\n",
       "        }}\n",
       "}});\n",
       "\n",
       "// Listen for the removal of the full notebook cells\n",
       "var notebookContainer = gd.closest('#notebook-container');\n",
       "if (notebookContainer) {{\n",
       "    x.observe(notebookContainer, {childList: true});\n",
       "}}\n",
       "\n",
       "// Listen for the clearing of the current output cell\n",
       "var outputEl = gd.closest('.output');\n",
       "if (outputEl) {{\n",
       "    x.observe(outputEl, {childList: true});\n",
       "}}\n",
       "\n",
       "                        })                };                });            </script>        </div>"
      ]
     },
     "metadata": {},
     "output_type": "display_data"
    }
   ],
   "source": [
    "fig=plt.figure(figsize=[20,10],dpi=200 )\n",
    "axes=fig.add_axes([0,0,1,1])\n",
    "axes.bar(data['Name of State / UT'],data['Active Cases'])\n",
    "axes.set_title('Total Cases in India') \n",
    "axes.set_xlabel(\"Name of State / UT\")\n",
    "axes.set_ylabel(\"Active Cases\")\n",
    "plt.show()\n",
    "\n",
    "#Plotly\n",
    "fig=go.Figure()\n",
    "fig.add_trace(go.Bar(x=data['Name of State / UT'],y=data['Active Cases']))\n",
    "fig.update_layout(title='Total Cases In India',xaxis=dict(title='Name of State / UT'),yaxis=dict(title='Active Cases'))"
   ]
  },
  {
   "cell_type": "code",
   "execution_count": null,
   "id": "399614a3",
   "metadata": {},
   "outputs": [],
   "source": []
  },
  {
   "cell_type": "code",
   "execution_count": null,
   "id": "1631022a",
   "metadata": {},
   "outputs": [],
   "source": []
  },
  {
   "cell_type": "code",
   "execution_count": null,
   "id": "5d76f686",
   "metadata": {},
   "outputs": [],
   "source": []
  }
 ],
 "metadata": {
  "kernelspec": {
   "display_name": "Python 3",
   "language": "python",
   "name": "python3"
  },
  "language_info": {
   "codemirror_mode": {
    "name": "ipython",
    "version": 3
   },
   "file_extension": ".py",
   "mimetype": "text/x-python",
   "name": "python",
   "nbconvert_exporter": "python",
   "pygments_lexer": "ipython3",
   "version": "3.8.8"
  }
 },
 "nbformat": 4,
 "nbformat_minor": 5
}
